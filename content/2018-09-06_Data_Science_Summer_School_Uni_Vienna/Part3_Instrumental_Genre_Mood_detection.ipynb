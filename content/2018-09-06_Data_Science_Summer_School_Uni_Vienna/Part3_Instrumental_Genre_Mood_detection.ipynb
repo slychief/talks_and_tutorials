{
 "cells": [
  {
   "cell_type": "markdown",
   "metadata": {},
   "source": [
    "# Instrumental, Genre and Mood Detection in Music with Deep Learning\n",
    "\n",
    "This tutorial shows how different Convolutional Neural Network architectures are used for:\n",
    "* Instrumental vs. Vocal Detection:  detecting whether a piece of music is instrumental or contains vocals\n",
    "* Genre Classification\n",
    "* Mood Recognition\n",
    "\n",
    "The data set used is the [MagnaTagATune Dataset](http://mirg.city.ac.uk/codeapps/the-magnatagatune-dataset), but a smaller subset of it, with only 1 sample excerpt of each of the original audio files.\n",
    "\n",
    "It consists of 5405 files, each 30 seconds long. \n",
    "\n",
    "The annotations for this dataset contain a multitude of tags, including some that hint at whether the file is instrumental or vocal. (see [Create 2 classes from a list of tags](#Create-2-classes-from-a-list-of-tags) below)"
   ]
  },
  {
   "cell_type": "markdown",
   "metadata": {},
   "source": [
    "### Requirements\n",
    "\n",
    "* Python 3.5\n",
    "* Keras >= 2.1.1\n",
    "* Tensorflow\n",
    "* scikit-learn >= 0.18\n",
    "* Pandas\n",
    "* Librosa\n",
    "* MatplotLib"
   ]
  },
  {
   "cell_type": "markdown",
   "metadata": {},
   "source": [
    "### Table of Contents\n",
    "\n",
    "This tutorial contains:\n",
    "* Loading and Preprocessing of Audio files\n",
    "* Loading class files from CSV and using Label Encoder\n",
    "* Audio Preprocessing: Generating log Mel spectrograms\n",
    "* Standardization of Data\n",
    "* Convolutional Neural Networks\n",
    "* Train/Test set split\n",
    "\n",
    "* Instrumental vs. Vocal Detection\n",
    "* Genre Classification\n",
    "* Mood Recognition\n",
    "\n",
    "You can execute the following code blocks by pressing SHIFT+Enter consecutively."
   ]
  },
  {
   "cell_type": "markdown",
   "metadata": {},
   "source": [
    "### Download Data\n",
    "\n",
    "The (subsampled) data set can be downloaded from [here](https://owncloud.tuwien.ac.at/index.php/s/hivOGXKoUQtacbo).\n",
    "\n",
    "Please unzip it.\n",
    "\n",
    "Set the path to the unpacked folder in the next box:"
   ]
  },
  {
   "cell_type": "code",
   "execution_count": 10,
   "metadata": {
    "collapsed": true
   },
   "outputs": [],
   "source": [
    "import os\n",
    "\n",
    "DATA_PATH = 'C:/DATA/audio/MagnaTagATune'\n",
    "AUDIO_PATH = os.path.join(DATA_PATH, 'audio')\n",
    "META_PATH = os.path.join(DATA_PATH, 'metadata')\n",
    "\n",
    "#NPZ_FILE = '/home/tlidy/data/mel_spectrogram_segments_96x1366.npz'"
   ]
  },
  {
   "cell_type": "code",
   "execution_count": 11,
   "metadata": {
    "collapsed": true
   },
   "outputs": [],
   "source": [
    "# SET GPUs to use:\n",
    "os.environ[\"CUDA_VISIBLE_DEVICES\"]=\"0\" #\"0,1,2,3\" "
   ]
  },
  {
   "cell_type": "code",
   "execution_count": 12,
   "metadata": {
    "collapsed": true
   },
   "outputs": [],
   "source": [
    "# General Imports\n",
    "\n",
    "import argparse\n",
    "import csv\n",
    "import datetime\n",
    "import glob\n",
    "import math\n",
    "import sys\n",
    "import time\n",
    "import numpy as np\n",
    "import pandas as pd # Pandas for reading CSV files and easier Data handling in preparation\n",
    "\n",
    "# Deep Learning\n",
    "\n",
    "import keras\n",
    "from keras import optimizers\n",
    "from keras import backend as K\n",
    "from keras.models import Sequential, Model\n",
    "from keras.layers import Input, Convolution2D, MaxPooling2D, Dense, Dropout, Activation, Flatten, merge\n",
    "from keras.layers.normalization import BatchNormalization\n",
    "from keras.layers.advanced_activations import ELU\n",
    "\n",
    "# Machine Learning preprocessing and evaluation\n",
    "\n",
    "from sklearn import preprocessing\n",
    "from sklearn.metrics import accuracy_score\n",
    "from sklearn.model_selection import train_test_split\n",
    "from sklearn.model_selection import ShuffleSplit, StratifiedShuffleSplit"
   ]
  },
  {
   "cell_type": "code",
   "execution_count": 41,
   "metadata": {
    "collapsed": true
   },
   "outputs": [],
   "source": [
    "import librosa\n",
    "import progressbar"
   ]
  },
  {
   "cell_type": "markdown",
   "metadata": {},
   "source": [
    "## Load the Metadata\n",
    "\n",
    "The tab-separated file contains pairs of filename TAB class."
   ]
  },
  {
   "cell_type": "code",
   "execution_count": 14,
   "metadata": {},
   "outputs": [
    {
     "data": {
      "text/html": [
       "<div>\n",
       "<style>\n",
       "    .dataframe thead tr:only-child th {\n",
       "        text-align: right;\n",
       "    }\n",
       "\n",
       "    .dataframe thead th {\n",
       "        text-align: left;\n",
       "    }\n",
       "\n",
       "    .dataframe tbody tr th {\n",
       "        vertical-align: top;\n",
       "    }\n",
       "</style>\n",
       "<table border=\"1\" class=\"dataframe\">\n",
       "  <thead>\n",
       "    <tr style=\"text-align: right;\">\n",
       "      <th></th>\n",
       "      <th>clip_id</th>\n",
       "      <th>no voice</th>\n",
       "      <th>singer</th>\n",
       "      <th>duet</th>\n",
       "      <th>plucking</th>\n",
       "      <th>hard rock</th>\n",
       "      <th>world</th>\n",
       "      <th>bongos</th>\n",
       "      <th>harpsichord</th>\n",
       "      <th>female singing</th>\n",
       "      <th>...</th>\n",
       "      <th>female singer</th>\n",
       "      <th>rap</th>\n",
       "      <th>metal</th>\n",
       "      <th>hip hop</th>\n",
       "      <th>quick</th>\n",
       "      <th>water</th>\n",
       "      <th>baroque</th>\n",
       "      <th>women</th>\n",
       "      <th>fiddle</th>\n",
       "      <th>english</th>\n",
       "    </tr>\n",
       "    <tr>\n",
       "      <th>mp3_path</th>\n",
       "      <th></th>\n",
       "      <th></th>\n",
       "      <th></th>\n",
       "      <th></th>\n",
       "      <th></th>\n",
       "      <th></th>\n",
       "      <th></th>\n",
       "      <th></th>\n",
       "      <th></th>\n",
       "      <th></th>\n",
       "      <th></th>\n",
       "      <th></th>\n",
       "      <th></th>\n",
       "      <th></th>\n",
       "      <th></th>\n",
       "      <th></th>\n",
       "      <th></th>\n",
       "      <th></th>\n",
       "      <th></th>\n",
       "      <th></th>\n",
       "      <th></th>\n",
       "    </tr>\n",
       "  </thead>\n",
       "  <tbody>\n",
       "    <tr>\n",
       "      <th>d/ambient_teknology-the_all_seeing_eye_project-01-cyclops-262-291.mp3</th>\n",
       "      <td>1119</td>\n",
       "      <td>0</td>\n",
       "      <td>0</td>\n",
       "      <td>0</td>\n",
       "      <td>0</td>\n",
       "      <td>0</td>\n",
       "      <td>0</td>\n",
       "      <td>0</td>\n",
       "      <td>0</td>\n",
       "      <td>0</td>\n",
       "      <td>...</td>\n",
       "      <td>0</td>\n",
       "      <td>0</td>\n",
       "      <td>0</td>\n",
       "      <td>0</td>\n",
       "      <td>0</td>\n",
       "      <td>0</td>\n",
       "      <td>0</td>\n",
       "      <td>0</td>\n",
       "      <td>0</td>\n",
       "      <td>0</td>\n",
       "    </tr>\n",
       "    <tr>\n",
       "      <th>d/ambient_teknology-the_all_seeing_eye_project-02-all_seeing_eye-175-204.mp3</th>\n",
       "      <td>6021</td>\n",
       "      <td>0</td>\n",
       "      <td>0</td>\n",
       "      <td>0</td>\n",
       "      <td>0</td>\n",
       "      <td>0</td>\n",
       "      <td>0</td>\n",
       "      <td>0</td>\n",
       "      <td>0</td>\n",
       "      <td>0</td>\n",
       "      <td>...</td>\n",
       "      <td>0</td>\n",
       "      <td>0</td>\n",
       "      <td>0</td>\n",
       "      <td>0</td>\n",
       "      <td>0</td>\n",
       "      <td>0</td>\n",
       "      <td>0</td>\n",
       "      <td>0</td>\n",
       "      <td>0</td>\n",
       "      <td>0</td>\n",
       "    </tr>\n",
       "    <tr>\n",
       "      <th>d/ambient_teknology-the_all_seeing_eye_project-03-black-175-204.mp3</th>\n",
       "      <td>11847</td>\n",
       "      <td>0</td>\n",
       "      <td>0</td>\n",
       "      <td>0</td>\n",
       "      <td>0</td>\n",
       "      <td>0</td>\n",
       "      <td>0</td>\n",
       "      <td>0</td>\n",
       "      <td>0</td>\n",
       "      <td>0</td>\n",
       "      <td>...</td>\n",
       "      <td>0</td>\n",
       "      <td>0</td>\n",
       "      <td>0</td>\n",
       "      <td>0</td>\n",
       "      <td>0</td>\n",
       "      <td>0</td>\n",
       "      <td>0</td>\n",
       "      <td>0</td>\n",
       "      <td>0</td>\n",
       "      <td>0</td>\n",
       "    </tr>\n",
       "    <tr>\n",
       "      <th>d/ambient_teknology-the_all_seeing_eye_project-04-confusion_says-88-117.mp3</th>\n",
       "      <td>17119</td>\n",
       "      <td>0</td>\n",
       "      <td>0</td>\n",
       "      <td>0</td>\n",
       "      <td>0</td>\n",
       "      <td>0</td>\n",
       "      <td>0</td>\n",
       "      <td>0</td>\n",
       "      <td>0</td>\n",
       "      <td>0</td>\n",
       "      <td>...</td>\n",
       "      <td>0</td>\n",
       "      <td>0</td>\n",
       "      <td>0</td>\n",
       "      <td>0</td>\n",
       "      <td>0</td>\n",
       "      <td>0</td>\n",
       "      <td>0</td>\n",
       "      <td>0</td>\n",
       "      <td>0</td>\n",
       "      <td>0</td>\n",
       "    </tr>\n",
       "    <tr>\n",
       "      <th>d/ambient_teknology-the_all_seeing_eye_project-05-the_beholder-291-320.mp3</th>\n",
       "      <td>25118</td>\n",
       "      <td>0</td>\n",
       "      <td>0</td>\n",
       "      <td>0</td>\n",
       "      <td>0</td>\n",
       "      <td>0</td>\n",
       "      <td>0</td>\n",
       "      <td>0</td>\n",
       "      <td>0</td>\n",
       "      <td>0</td>\n",
       "      <td>...</td>\n",
       "      <td>0</td>\n",
       "      <td>0</td>\n",
       "      <td>0</td>\n",
       "      <td>0</td>\n",
       "      <td>0</td>\n",
       "      <td>0</td>\n",
       "      <td>0</td>\n",
       "      <td>0</td>\n",
       "      <td>0</td>\n",
       "      <td>0</td>\n",
       "    </tr>\n",
       "    <tr>\n",
       "      <th>d/ambient_teknology-the_all_seeing_eye_project-06-cyead-378-407.mp3</th>\n",
       "      <td>26533</td>\n",
       "      <td>0</td>\n",
       "      <td>0</td>\n",
       "      <td>0</td>\n",
       "      <td>0</td>\n",
       "      <td>0</td>\n",
       "      <td>0</td>\n",
       "      <td>0</td>\n",
       "      <td>0</td>\n",
       "      <td>0</td>\n",
       "      <td>...</td>\n",
       "      <td>0</td>\n",
       "      <td>0</td>\n",
       "      <td>0</td>\n",
       "      <td>0</td>\n",
       "      <td>0</td>\n",
       "      <td>0</td>\n",
       "      <td>0</td>\n",
       "      <td>0</td>\n",
       "      <td>0</td>\n",
       "      <td>0</td>\n",
       "    </tr>\n",
       "    <tr>\n",
       "      <th>d/ambient_teknology-the_all_seeing_eye_project-07-telekonology-117-146.mp3</th>\n",
       "      <td>33637</td>\n",
       "      <td>0</td>\n",
       "      <td>0</td>\n",
       "      <td>0</td>\n",
       "      <td>0</td>\n",
       "      <td>0</td>\n",
       "      <td>0</td>\n",
       "      <td>0</td>\n",
       "      <td>0</td>\n",
       "      <td>0</td>\n",
       "      <td>...</td>\n",
       "      <td>0</td>\n",
       "      <td>0</td>\n",
       "      <td>0</td>\n",
       "      <td>0</td>\n",
       "      <td>0</td>\n",
       "      <td>0</td>\n",
       "      <td>0</td>\n",
       "      <td>0</td>\n",
       "      <td>0</td>\n",
       "      <td>0</td>\n",
       "    </tr>\n",
       "    <tr>\n",
       "      <th>0/american_bach_soloists-j_s__bach__cantatas_volume_v-01-gleichwie_der_regen_und_schnee_vom_himmel_fallt_bwv_18_i_sinfonia-117-146.mp3</th>\n",
       "      <td>29</td>\n",
       "      <td>0</td>\n",
       "      <td>0</td>\n",
       "      <td>0</td>\n",
       "      <td>0</td>\n",
       "      <td>0</td>\n",
       "      <td>0</td>\n",
       "      <td>0</td>\n",
       "      <td>0</td>\n",
       "      <td>0</td>\n",
       "      <td>...</td>\n",
       "      <td>0</td>\n",
       "      <td>0</td>\n",
       "      <td>0</td>\n",
       "      <td>0</td>\n",
       "      <td>0</td>\n",
       "      <td>0</td>\n",
       "      <td>0</td>\n",
       "      <td>0</td>\n",
       "      <td>0</td>\n",
       "      <td>0</td>\n",
       "    </tr>\n",
       "    <tr>\n",
       "      <th>0/american_bach_soloists-j_s__bach__cantatas_volume_v-02-gleichwie_der_regen_und_schnee_vom_himmel_fallt_bwv_18_ii_recitative__gleichwie_der_regen_und_schnee-30-59.mp3</th>\n",
       "      <td>5864</td>\n",
       "      <td>0</td>\n",
       "      <td>0</td>\n",
       "      <td>0</td>\n",
       "      <td>0</td>\n",
       "      <td>0</td>\n",
       "      <td>0</td>\n",
       "      <td>0</td>\n",
       "      <td>0</td>\n",
       "      <td>0</td>\n",
       "      <td>...</td>\n",
       "      <td>0</td>\n",
       "      <td>0</td>\n",
       "      <td>0</td>\n",
       "      <td>0</td>\n",
       "      <td>0</td>\n",
       "      <td>0</td>\n",
       "      <td>0</td>\n",
       "      <td>0</td>\n",
       "      <td>0</td>\n",
       "      <td>0</td>\n",
       "    </tr>\n",
       "    <tr>\n",
       "      <th>0/american_bach_soloists-j_s__bach__cantatas_volume_v-03-gleichwie_der_regen_und_schnee_vom_himmel_fallt_bwv_18_iii_recitative_and_litany__mein_gott_hier_wird_mein_herze_sein-88-117.mp3</th>\n",
       "      <td>11264</td>\n",
       "      <td>0</td>\n",
       "      <td>0</td>\n",
       "      <td>0</td>\n",
       "      <td>0</td>\n",
       "      <td>0</td>\n",
       "      <td>0</td>\n",
       "      <td>0</td>\n",
       "      <td>0</td>\n",
       "      <td>0</td>\n",
       "      <td>...</td>\n",
       "      <td>0</td>\n",
       "      <td>0</td>\n",
       "      <td>0</td>\n",
       "      <td>0</td>\n",
       "      <td>0</td>\n",
       "      <td>0</td>\n",
       "      <td>0</td>\n",
       "      <td>0</td>\n",
       "      <td>0</td>\n",
       "      <td>0</td>\n",
       "    </tr>\n",
       "  </tbody>\n",
       "</table>\n",
       "<p>10 rows × 189 columns</p>\n",
       "</div>"
      ],
      "text/plain": [
       "                                                    clip_id  no voice  singer  \\\n",
       "mp3_path                                                                        \n",
       "d/ambient_teknology-the_all_seeing_eye_project-...     1119         0       0   \n",
       "d/ambient_teknology-the_all_seeing_eye_project-...     6021         0       0   \n",
       "d/ambient_teknology-the_all_seeing_eye_project-...    11847         0       0   \n",
       "d/ambient_teknology-the_all_seeing_eye_project-...    17119         0       0   \n",
       "d/ambient_teknology-the_all_seeing_eye_project-...    25118         0       0   \n",
       "d/ambient_teknology-the_all_seeing_eye_project-...    26533         0       0   \n",
       "d/ambient_teknology-the_all_seeing_eye_project-...    33637         0       0   \n",
       "0/american_bach_soloists-j_s__bach__cantatas_vo...       29         0       0   \n",
       "0/american_bach_soloists-j_s__bach__cantatas_vo...     5864         0       0   \n",
       "0/american_bach_soloists-j_s__bach__cantatas_vo...    11264         0       0   \n",
       "\n",
       "                                                    duet  plucking  hard rock  \\\n",
       "mp3_path                                                                        \n",
       "d/ambient_teknology-the_all_seeing_eye_project-...     0         0          0   \n",
       "d/ambient_teknology-the_all_seeing_eye_project-...     0         0          0   \n",
       "d/ambient_teknology-the_all_seeing_eye_project-...     0         0          0   \n",
       "d/ambient_teknology-the_all_seeing_eye_project-...     0         0          0   \n",
       "d/ambient_teknology-the_all_seeing_eye_project-...     0         0          0   \n",
       "d/ambient_teknology-the_all_seeing_eye_project-...     0         0          0   \n",
       "d/ambient_teknology-the_all_seeing_eye_project-...     0         0          0   \n",
       "0/american_bach_soloists-j_s__bach__cantatas_vo...     0         0          0   \n",
       "0/american_bach_soloists-j_s__bach__cantatas_vo...     0         0          0   \n",
       "0/american_bach_soloists-j_s__bach__cantatas_vo...     0         0          0   \n",
       "\n",
       "                                                    world  bongos  \\\n",
       "mp3_path                                                            \n",
       "d/ambient_teknology-the_all_seeing_eye_project-...      0       0   \n",
       "d/ambient_teknology-the_all_seeing_eye_project-...      0       0   \n",
       "d/ambient_teknology-the_all_seeing_eye_project-...      0       0   \n",
       "d/ambient_teknology-the_all_seeing_eye_project-...      0       0   \n",
       "d/ambient_teknology-the_all_seeing_eye_project-...      0       0   \n",
       "d/ambient_teknology-the_all_seeing_eye_project-...      0       0   \n",
       "d/ambient_teknology-the_all_seeing_eye_project-...      0       0   \n",
       "0/american_bach_soloists-j_s__bach__cantatas_vo...      0       0   \n",
       "0/american_bach_soloists-j_s__bach__cantatas_vo...      0       0   \n",
       "0/american_bach_soloists-j_s__bach__cantatas_vo...      0       0   \n",
       "\n",
       "                                                    harpsichord  \\\n",
       "mp3_path                                                          \n",
       "d/ambient_teknology-the_all_seeing_eye_project-...            0   \n",
       "d/ambient_teknology-the_all_seeing_eye_project-...            0   \n",
       "d/ambient_teknology-the_all_seeing_eye_project-...            0   \n",
       "d/ambient_teknology-the_all_seeing_eye_project-...            0   \n",
       "d/ambient_teknology-the_all_seeing_eye_project-...            0   \n",
       "d/ambient_teknology-the_all_seeing_eye_project-...            0   \n",
       "d/ambient_teknology-the_all_seeing_eye_project-...            0   \n",
       "0/american_bach_soloists-j_s__bach__cantatas_vo...            0   \n",
       "0/american_bach_soloists-j_s__bach__cantatas_vo...            0   \n",
       "0/american_bach_soloists-j_s__bach__cantatas_vo...            0   \n",
       "\n",
       "                                                    female singing   ...     \\\n",
       "mp3_path                                                             ...      \n",
       "d/ambient_teknology-the_all_seeing_eye_project-...               0   ...      \n",
       "d/ambient_teknology-the_all_seeing_eye_project-...               0   ...      \n",
       "d/ambient_teknology-the_all_seeing_eye_project-...               0   ...      \n",
       "d/ambient_teknology-the_all_seeing_eye_project-...               0   ...      \n",
       "d/ambient_teknology-the_all_seeing_eye_project-...               0   ...      \n",
       "d/ambient_teknology-the_all_seeing_eye_project-...               0   ...      \n",
       "d/ambient_teknology-the_all_seeing_eye_project-...               0   ...      \n",
       "0/american_bach_soloists-j_s__bach__cantatas_vo...               0   ...      \n",
       "0/american_bach_soloists-j_s__bach__cantatas_vo...               0   ...      \n",
       "0/american_bach_soloists-j_s__bach__cantatas_vo...               0   ...      \n",
       "\n",
       "                                                    female singer  rap  metal  \\\n",
       "mp3_path                                                                        \n",
       "d/ambient_teknology-the_all_seeing_eye_project-...              0    0      0   \n",
       "d/ambient_teknology-the_all_seeing_eye_project-...              0    0      0   \n",
       "d/ambient_teknology-the_all_seeing_eye_project-...              0    0      0   \n",
       "d/ambient_teknology-the_all_seeing_eye_project-...              0    0      0   \n",
       "d/ambient_teknology-the_all_seeing_eye_project-...              0    0      0   \n",
       "d/ambient_teknology-the_all_seeing_eye_project-...              0    0      0   \n",
       "d/ambient_teknology-the_all_seeing_eye_project-...              0    0      0   \n",
       "0/american_bach_soloists-j_s__bach__cantatas_vo...              0    0      0   \n",
       "0/american_bach_soloists-j_s__bach__cantatas_vo...              0    0      0   \n",
       "0/american_bach_soloists-j_s__bach__cantatas_vo...              0    0      0   \n",
       "\n",
       "                                                    hip hop  quick  water  \\\n",
       "mp3_path                                                                    \n",
       "d/ambient_teknology-the_all_seeing_eye_project-...        0      0      0   \n",
       "d/ambient_teknology-the_all_seeing_eye_project-...        0      0      0   \n",
       "d/ambient_teknology-the_all_seeing_eye_project-...        0      0      0   \n",
       "d/ambient_teknology-the_all_seeing_eye_project-...        0      0      0   \n",
       "d/ambient_teknology-the_all_seeing_eye_project-...        0      0      0   \n",
       "d/ambient_teknology-the_all_seeing_eye_project-...        0      0      0   \n",
       "d/ambient_teknology-the_all_seeing_eye_project-...        0      0      0   \n",
       "0/american_bach_soloists-j_s__bach__cantatas_vo...        0      0      0   \n",
       "0/american_bach_soloists-j_s__bach__cantatas_vo...        0      0      0   \n",
       "0/american_bach_soloists-j_s__bach__cantatas_vo...        0      0      0   \n",
       "\n",
       "                                                    baroque  women  fiddle  \\\n",
       "mp3_path                                                                     \n",
       "d/ambient_teknology-the_all_seeing_eye_project-...        0      0       0   \n",
       "d/ambient_teknology-the_all_seeing_eye_project-...        0      0       0   \n",
       "d/ambient_teknology-the_all_seeing_eye_project-...        0      0       0   \n",
       "d/ambient_teknology-the_all_seeing_eye_project-...        0      0       0   \n",
       "d/ambient_teknology-the_all_seeing_eye_project-...        0      0       0   \n",
       "d/ambient_teknology-the_all_seeing_eye_project-...        0      0       0   \n",
       "d/ambient_teknology-the_all_seeing_eye_project-...        0      0       0   \n",
       "0/american_bach_soloists-j_s__bach__cantatas_vo...        0      0       0   \n",
       "0/american_bach_soloists-j_s__bach__cantatas_vo...        0      0       0   \n",
       "0/american_bach_soloists-j_s__bach__cantatas_vo...        0      0       0   \n",
       "\n",
       "                                                    english  \n",
       "mp3_path                                                     \n",
       "d/ambient_teknology-the_all_seeing_eye_project-...        0  \n",
       "d/ambient_teknology-the_all_seeing_eye_project-...        0  \n",
       "d/ambient_teknology-the_all_seeing_eye_project-...        0  \n",
       "d/ambient_teknology-the_all_seeing_eye_project-...        0  \n",
       "d/ambient_teknology-the_all_seeing_eye_project-...        0  \n",
       "d/ambient_teknology-the_all_seeing_eye_project-...        0  \n",
       "d/ambient_teknology-the_all_seeing_eye_project-...        0  \n",
       "0/american_bach_soloists-j_s__bach__cantatas_vo...        0  \n",
       "0/american_bach_soloists-j_s__bach__cantatas_vo...        0  \n",
       "0/american_bach_soloists-j_s__bach__cantatas_vo...        0  \n",
       "\n",
       "[10 rows x 189 columns]"
      ]
     },
     "execution_count": 14,
     "metadata": {},
     "output_type": "execute_result"
    }
   ],
   "source": [
    "csv_file = os.path.join(META_PATH,'annotations_final_subsample.csv')\n",
    "\n",
    "# we select the last column (-1) as the index column (= filename)\n",
    "metadata = pd.read_csv(csv_file, index_col=0, sep='\\t')\n",
    "metadata.head(10)"
   ]
  },
  {
   "cell_type": "code",
   "execution_count": 15,
   "metadata": {
    "scrolled": false
   },
   "outputs": [
    {
     "data": {
      "text/html": [
       "<div>\n",
       "<style>\n",
       "    .dataframe thead tr:only-child th {\n",
       "        text-align: right;\n",
       "    }\n",
       "\n",
       "    .dataframe thead th {\n",
       "        text-align: left;\n",
       "    }\n",
       "\n",
       "    .dataframe tbody tr th {\n",
       "        vertical-align: top;\n",
       "    }\n",
       "</style>\n",
       "<table border=\"1\" class=\"dataframe\">\n",
       "  <thead>\n",
       "    <tr style=\"text-align: right;\">\n",
       "      <th></th>\n",
       "      <th>no voice</th>\n",
       "      <th>singer</th>\n",
       "      <th>duet</th>\n",
       "      <th>plucking</th>\n",
       "      <th>hard rock</th>\n",
       "      <th>world</th>\n",
       "      <th>bongos</th>\n",
       "      <th>harpsichord</th>\n",
       "      <th>female singing</th>\n",
       "      <th>clasical</th>\n",
       "      <th>...</th>\n",
       "      <th>female singer</th>\n",
       "      <th>rap</th>\n",
       "      <th>metal</th>\n",
       "      <th>hip hop</th>\n",
       "      <th>quick</th>\n",
       "      <th>water</th>\n",
       "      <th>baroque</th>\n",
       "      <th>women</th>\n",
       "      <th>fiddle</th>\n",
       "      <th>english</th>\n",
       "    </tr>\n",
       "    <tr>\n",
       "      <th>mp3_path</th>\n",
       "      <th></th>\n",
       "      <th></th>\n",
       "      <th></th>\n",
       "      <th></th>\n",
       "      <th></th>\n",
       "      <th></th>\n",
       "      <th></th>\n",
       "      <th></th>\n",
       "      <th></th>\n",
       "      <th></th>\n",
       "      <th></th>\n",
       "      <th></th>\n",
       "      <th></th>\n",
       "      <th></th>\n",
       "      <th></th>\n",
       "      <th></th>\n",
       "      <th></th>\n",
       "      <th></th>\n",
       "      <th></th>\n",
       "      <th></th>\n",
       "      <th></th>\n",
       "    </tr>\n",
       "  </thead>\n",
       "  <tbody>\n",
       "    <tr>\n",
       "      <th>d/ambient_teknology-the_all_seeing_eye_project-01-cyclops-262-291.mp3</th>\n",
       "      <td>0</td>\n",
       "      <td>0</td>\n",
       "      <td>0</td>\n",
       "      <td>0</td>\n",
       "      <td>0</td>\n",
       "      <td>0</td>\n",
       "      <td>0</td>\n",
       "      <td>0</td>\n",
       "      <td>0</td>\n",
       "      <td>0</td>\n",
       "      <td>...</td>\n",
       "      <td>0</td>\n",
       "      <td>0</td>\n",
       "      <td>0</td>\n",
       "      <td>0</td>\n",
       "      <td>0</td>\n",
       "      <td>0</td>\n",
       "      <td>0</td>\n",
       "      <td>0</td>\n",
       "      <td>0</td>\n",
       "      <td>0</td>\n",
       "    </tr>\n",
       "    <tr>\n",
       "      <th>d/ambient_teknology-the_all_seeing_eye_project-02-all_seeing_eye-175-204.mp3</th>\n",
       "      <td>0</td>\n",
       "      <td>0</td>\n",
       "      <td>0</td>\n",
       "      <td>0</td>\n",
       "      <td>0</td>\n",
       "      <td>0</td>\n",
       "      <td>0</td>\n",
       "      <td>0</td>\n",
       "      <td>0</td>\n",
       "      <td>0</td>\n",
       "      <td>...</td>\n",
       "      <td>0</td>\n",
       "      <td>0</td>\n",
       "      <td>0</td>\n",
       "      <td>0</td>\n",
       "      <td>0</td>\n",
       "      <td>0</td>\n",
       "      <td>0</td>\n",
       "      <td>0</td>\n",
       "      <td>0</td>\n",
       "      <td>0</td>\n",
       "    </tr>\n",
       "    <tr>\n",
       "      <th>d/ambient_teknology-the_all_seeing_eye_project-03-black-175-204.mp3</th>\n",
       "      <td>0</td>\n",
       "      <td>0</td>\n",
       "      <td>0</td>\n",
       "      <td>0</td>\n",
       "      <td>0</td>\n",
       "      <td>0</td>\n",
       "      <td>0</td>\n",
       "      <td>0</td>\n",
       "      <td>0</td>\n",
       "      <td>0</td>\n",
       "      <td>...</td>\n",
       "      <td>0</td>\n",
       "      <td>0</td>\n",
       "      <td>0</td>\n",
       "      <td>0</td>\n",
       "      <td>0</td>\n",
       "      <td>0</td>\n",
       "      <td>0</td>\n",
       "      <td>0</td>\n",
       "      <td>0</td>\n",
       "      <td>0</td>\n",
       "    </tr>\n",
       "    <tr>\n",
       "      <th>d/ambient_teknology-the_all_seeing_eye_project-04-confusion_says-88-117.mp3</th>\n",
       "      <td>0</td>\n",
       "      <td>0</td>\n",
       "      <td>0</td>\n",
       "      <td>0</td>\n",
       "      <td>0</td>\n",
       "      <td>0</td>\n",
       "      <td>0</td>\n",
       "      <td>0</td>\n",
       "      <td>0</td>\n",
       "      <td>0</td>\n",
       "      <td>...</td>\n",
       "      <td>0</td>\n",
       "      <td>0</td>\n",
       "      <td>0</td>\n",
       "      <td>0</td>\n",
       "      <td>0</td>\n",
       "      <td>0</td>\n",
       "      <td>0</td>\n",
       "      <td>0</td>\n",
       "      <td>0</td>\n",
       "      <td>0</td>\n",
       "    </tr>\n",
       "    <tr>\n",
       "      <th>d/ambient_teknology-the_all_seeing_eye_project-05-the_beholder-291-320.mp3</th>\n",
       "      <td>0</td>\n",
       "      <td>0</td>\n",
       "      <td>0</td>\n",
       "      <td>0</td>\n",
       "      <td>0</td>\n",
       "      <td>0</td>\n",
       "      <td>0</td>\n",
       "      <td>0</td>\n",
       "      <td>0</td>\n",
       "      <td>0</td>\n",
       "      <td>...</td>\n",
       "      <td>0</td>\n",
       "      <td>0</td>\n",
       "      <td>0</td>\n",
       "      <td>0</td>\n",
       "      <td>0</td>\n",
       "      <td>0</td>\n",
       "      <td>0</td>\n",
       "      <td>0</td>\n",
       "      <td>0</td>\n",
       "      <td>0</td>\n",
       "    </tr>\n",
       "  </tbody>\n",
       "</table>\n",
       "<p>5 rows × 188 columns</p>\n",
       "</div>"
      ],
      "text/plain": [
       "                                                    no voice  singer  duet  \\\n",
       "mp3_path                                                                     \n",
       "d/ambient_teknology-the_all_seeing_eye_project-...         0       0     0   \n",
       "d/ambient_teknology-the_all_seeing_eye_project-...         0       0     0   \n",
       "d/ambient_teknology-the_all_seeing_eye_project-...         0       0     0   \n",
       "d/ambient_teknology-the_all_seeing_eye_project-...         0       0     0   \n",
       "d/ambient_teknology-the_all_seeing_eye_project-...         0       0     0   \n",
       "\n",
       "                                                    plucking  hard rock  \\\n",
       "mp3_path                                                                  \n",
       "d/ambient_teknology-the_all_seeing_eye_project-...         0          0   \n",
       "d/ambient_teknology-the_all_seeing_eye_project-...         0          0   \n",
       "d/ambient_teknology-the_all_seeing_eye_project-...         0          0   \n",
       "d/ambient_teknology-the_all_seeing_eye_project-...         0          0   \n",
       "d/ambient_teknology-the_all_seeing_eye_project-...         0          0   \n",
       "\n",
       "                                                    world  bongos  \\\n",
       "mp3_path                                                            \n",
       "d/ambient_teknology-the_all_seeing_eye_project-...      0       0   \n",
       "d/ambient_teknology-the_all_seeing_eye_project-...      0       0   \n",
       "d/ambient_teknology-the_all_seeing_eye_project-...      0       0   \n",
       "d/ambient_teknology-the_all_seeing_eye_project-...      0       0   \n",
       "d/ambient_teknology-the_all_seeing_eye_project-...      0       0   \n",
       "\n",
       "                                                    harpsichord  \\\n",
       "mp3_path                                                          \n",
       "d/ambient_teknology-the_all_seeing_eye_project-...            0   \n",
       "d/ambient_teknology-the_all_seeing_eye_project-...            0   \n",
       "d/ambient_teknology-the_all_seeing_eye_project-...            0   \n",
       "d/ambient_teknology-the_all_seeing_eye_project-...            0   \n",
       "d/ambient_teknology-the_all_seeing_eye_project-...            0   \n",
       "\n",
       "                                                    female singing  clasical  \\\n",
       "mp3_path                                                                       \n",
       "d/ambient_teknology-the_all_seeing_eye_project-...               0         0   \n",
       "d/ambient_teknology-the_all_seeing_eye_project-...               0         0   \n",
       "d/ambient_teknology-the_all_seeing_eye_project-...               0         0   \n",
       "d/ambient_teknology-the_all_seeing_eye_project-...               0         0   \n",
       "d/ambient_teknology-the_all_seeing_eye_project-...               0         0   \n",
       "\n",
       "                                                     ...     female singer  \\\n",
       "mp3_path                                             ...                     \n",
       "d/ambient_teknology-the_all_seeing_eye_project-...   ...                 0   \n",
       "d/ambient_teknology-the_all_seeing_eye_project-...   ...                 0   \n",
       "d/ambient_teknology-the_all_seeing_eye_project-...   ...                 0   \n",
       "d/ambient_teknology-the_all_seeing_eye_project-...   ...                 0   \n",
       "d/ambient_teknology-the_all_seeing_eye_project-...   ...                 0   \n",
       "\n",
       "                                                    rap  metal  hip hop  \\\n",
       "mp3_path                                                                  \n",
       "d/ambient_teknology-the_all_seeing_eye_project-...    0      0        0   \n",
       "d/ambient_teknology-the_all_seeing_eye_project-...    0      0        0   \n",
       "d/ambient_teknology-the_all_seeing_eye_project-...    0      0        0   \n",
       "d/ambient_teknology-the_all_seeing_eye_project-...    0      0        0   \n",
       "d/ambient_teknology-the_all_seeing_eye_project-...    0      0        0   \n",
       "\n",
       "                                                    quick  water  baroque  \\\n",
       "mp3_path                                                                    \n",
       "d/ambient_teknology-the_all_seeing_eye_project-...      0      0        0   \n",
       "d/ambient_teknology-the_all_seeing_eye_project-...      0      0        0   \n",
       "d/ambient_teknology-the_all_seeing_eye_project-...      0      0        0   \n",
       "d/ambient_teknology-the_all_seeing_eye_project-...      0      0        0   \n",
       "d/ambient_teknology-the_all_seeing_eye_project-...      0      0        0   \n",
       "\n",
       "                                                    women  fiddle  english  \n",
       "mp3_path                                                                    \n",
       "d/ambient_teknology-the_all_seeing_eye_project-...      0       0        0  \n",
       "d/ambient_teknology-the_all_seeing_eye_project-...      0       0        0  \n",
       "d/ambient_teknology-the_all_seeing_eye_project-...      0       0        0  \n",
       "d/ambient_teknology-the_all_seeing_eye_project-...      0       0        0  \n",
       "d/ambient_teknology-the_all_seeing_eye_project-...      0       0        0  \n",
       "\n",
       "[5 rows x 188 columns]"
      ]
     },
     "execution_count": 15,
     "metadata": {},
     "output_type": "execute_result"
    }
   ],
   "source": [
    "# remove the unneeded column \"clip_id\"\n",
    "cols = \"clip_id\"\n",
    "metadata.drop(cols,axis=1,inplace=True)\n",
    "\n",
    "metadata.head()"
   ]
  },
  {
   "cell_type": "markdown",
   "metadata": {},
   "source": [
    "# 1) Instrumental vs. Vocal Detection\n",
    "\n",
    "this is a binary classification task (output decision is between 0 and 1)"
   ]
  },
  {
   "cell_type": "markdown",
   "metadata": {},
   "source": [
    "### Create 2 classes from a list of tags\n",
    "\n",
    "There are plenty of \"tags\" in this data set which hint at wether a track is \"vocal\" or \"instrumental\". We group these tags and finally come up with 1 boolean column saying whether a track is \"vocal\" or \"instrumental\"."
   ]
  },
  {
   "cell_type": "code",
   "execution_count": 16,
   "metadata": {
    "collapsed": true
   },
   "outputs": [],
   "source": [
    "tags_vocal = ['singer', 'female singing', 'female opera', 'male vocal', 'vocals', 'men', 'female', 'female voice', 'voice', 'male voice', 'girl', 'chanting', 'talking', 'choral', 'male singer', 'man singing', 'male opera', 'chant', 'man', 'female vocal', 'male vocals', 'vocal', 'woman', 'woman singing', 'singing', 'female vocals', 'voices', 'choir', 'female singer', 'women', 'choir', 'women']\n",
    "\n",
    "tags_instrumental = ['instrumental', 'no voice', 'no voices', 'no vocals', 'no vocal', 'no singing', 'no singer']"
   ]
  },
  {
   "cell_type": "code",
   "execution_count": 17,
   "metadata": {},
   "outputs": [
    {
     "data": {
      "text/html": [
       "<div>\n",
       "<style>\n",
       "    .dataframe thead tr:only-child th {\n",
       "        text-align: right;\n",
       "    }\n",
       "\n",
       "    .dataframe thead th {\n",
       "        text-align: left;\n",
       "    }\n",
       "\n",
       "    .dataframe tbody tr th {\n",
       "        vertical-align: top;\n",
       "    }\n",
       "</style>\n",
       "<table border=\"1\" class=\"dataframe\">\n",
       "  <thead>\n",
       "    <tr style=\"text-align: right;\">\n",
       "      <th></th>\n",
       "      <th>singer</th>\n",
       "      <th>female singing</th>\n",
       "      <th>female opera</th>\n",
       "      <th>male vocal</th>\n",
       "      <th>vocals</th>\n",
       "      <th>men</th>\n",
       "      <th>female</th>\n",
       "      <th>female voice</th>\n",
       "      <th>voice</th>\n",
       "      <th>male voice</th>\n",
       "      <th>...</th>\n",
       "      <th>woman</th>\n",
       "      <th>woman singing</th>\n",
       "      <th>singing</th>\n",
       "      <th>female vocals</th>\n",
       "      <th>voices</th>\n",
       "      <th>choir</th>\n",
       "      <th>female singer</th>\n",
       "      <th>women</th>\n",
       "      <th>choir</th>\n",
       "      <th>women</th>\n",
       "    </tr>\n",
       "    <tr>\n",
       "      <th>mp3_path</th>\n",
       "      <th></th>\n",
       "      <th></th>\n",
       "      <th></th>\n",
       "      <th></th>\n",
       "      <th></th>\n",
       "      <th></th>\n",
       "      <th></th>\n",
       "      <th></th>\n",
       "      <th></th>\n",
       "      <th></th>\n",
       "      <th></th>\n",
       "      <th></th>\n",
       "      <th></th>\n",
       "      <th></th>\n",
       "      <th></th>\n",
       "      <th></th>\n",
       "      <th></th>\n",
       "      <th></th>\n",
       "      <th></th>\n",
       "      <th></th>\n",
       "      <th></th>\n",
       "    </tr>\n",
       "  </thead>\n",
       "  <tbody>\n",
       "    <tr>\n",
       "      <th>d/ambient_teknology-the_all_seeing_eye_project-01-cyclops-262-291.mp3</th>\n",
       "      <td>0</td>\n",
       "      <td>0</td>\n",
       "      <td>0</td>\n",
       "      <td>0</td>\n",
       "      <td>0</td>\n",
       "      <td>0</td>\n",
       "      <td>0</td>\n",
       "      <td>0</td>\n",
       "      <td>0</td>\n",
       "      <td>0</td>\n",
       "      <td>...</td>\n",
       "      <td>0</td>\n",
       "      <td>0</td>\n",
       "      <td>0</td>\n",
       "      <td>0</td>\n",
       "      <td>0</td>\n",
       "      <td>0</td>\n",
       "      <td>0</td>\n",
       "      <td>0</td>\n",
       "      <td>0</td>\n",
       "      <td>0</td>\n",
       "    </tr>\n",
       "    <tr>\n",
       "      <th>d/ambient_teknology-the_all_seeing_eye_project-02-all_seeing_eye-175-204.mp3</th>\n",
       "      <td>0</td>\n",
       "      <td>0</td>\n",
       "      <td>0</td>\n",
       "      <td>0</td>\n",
       "      <td>0</td>\n",
       "      <td>0</td>\n",
       "      <td>0</td>\n",
       "      <td>0</td>\n",
       "      <td>0</td>\n",
       "      <td>0</td>\n",
       "      <td>...</td>\n",
       "      <td>0</td>\n",
       "      <td>0</td>\n",
       "      <td>0</td>\n",
       "      <td>0</td>\n",
       "      <td>0</td>\n",
       "      <td>0</td>\n",
       "      <td>0</td>\n",
       "      <td>0</td>\n",
       "      <td>0</td>\n",
       "      <td>0</td>\n",
       "    </tr>\n",
       "    <tr>\n",
       "      <th>d/ambient_teknology-the_all_seeing_eye_project-03-black-175-204.mp3</th>\n",
       "      <td>0</td>\n",
       "      <td>0</td>\n",
       "      <td>0</td>\n",
       "      <td>0</td>\n",
       "      <td>0</td>\n",
       "      <td>0</td>\n",
       "      <td>0</td>\n",
       "      <td>0</td>\n",
       "      <td>0</td>\n",
       "      <td>0</td>\n",
       "      <td>...</td>\n",
       "      <td>0</td>\n",
       "      <td>0</td>\n",
       "      <td>0</td>\n",
       "      <td>0</td>\n",
       "      <td>0</td>\n",
       "      <td>0</td>\n",
       "      <td>0</td>\n",
       "      <td>0</td>\n",
       "      <td>0</td>\n",
       "      <td>0</td>\n",
       "    </tr>\n",
       "    <tr>\n",
       "      <th>d/ambient_teknology-the_all_seeing_eye_project-04-confusion_says-88-117.mp3</th>\n",
       "      <td>0</td>\n",
       "      <td>0</td>\n",
       "      <td>0</td>\n",
       "      <td>0</td>\n",
       "      <td>0</td>\n",
       "      <td>0</td>\n",
       "      <td>0</td>\n",
       "      <td>0</td>\n",
       "      <td>0</td>\n",
       "      <td>0</td>\n",
       "      <td>...</td>\n",
       "      <td>0</td>\n",
       "      <td>0</td>\n",
       "      <td>0</td>\n",
       "      <td>0</td>\n",
       "      <td>0</td>\n",
       "      <td>0</td>\n",
       "      <td>0</td>\n",
       "      <td>0</td>\n",
       "      <td>0</td>\n",
       "      <td>0</td>\n",
       "    </tr>\n",
       "    <tr>\n",
       "      <th>d/ambient_teknology-the_all_seeing_eye_project-05-the_beholder-291-320.mp3</th>\n",
       "      <td>0</td>\n",
       "      <td>0</td>\n",
       "      <td>0</td>\n",
       "      <td>0</td>\n",
       "      <td>0</td>\n",
       "      <td>0</td>\n",
       "      <td>0</td>\n",
       "      <td>0</td>\n",
       "      <td>0</td>\n",
       "      <td>0</td>\n",
       "      <td>...</td>\n",
       "      <td>0</td>\n",
       "      <td>0</td>\n",
       "      <td>0</td>\n",
       "      <td>0</td>\n",
       "      <td>0</td>\n",
       "      <td>0</td>\n",
       "      <td>0</td>\n",
       "      <td>0</td>\n",
       "      <td>0</td>\n",
       "      <td>0</td>\n",
       "    </tr>\n",
       "  </tbody>\n",
       "</table>\n",
       "<p>5 rows × 32 columns</p>\n",
       "</div>"
      ],
      "text/plain": [
       "                                                    singer  female singing  \\\n",
       "mp3_path                                                                     \n",
       "d/ambient_teknology-the_all_seeing_eye_project-...       0               0   \n",
       "d/ambient_teknology-the_all_seeing_eye_project-...       0               0   \n",
       "d/ambient_teknology-the_all_seeing_eye_project-...       0               0   \n",
       "d/ambient_teknology-the_all_seeing_eye_project-...       0               0   \n",
       "d/ambient_teknology-the_all_seeing_eye_project-...       0               0   \n",
       "\n",
       "                                                    female opera  male vocal  \\\n",
       "mp3_path                                                                       \n",
       "d/ambient_teknology-the_all_seeing_eye_project-...             0           0   \n",
       "d/ambient_teknology-the_all_seeing_eye_project-...             0           0   \n",
       "d/ambient_teknology-the_all_seeing_eye_project-...             0           0   \n",
       "d/ambient_teknology-the_all_seeing_eye_project-...             0           0   \n",
       "d/ambient_teknology-the_all_seeing_eye_project-...             0           0   \n",
       "\n",
       "                                                    vocals  men  female  \\\n",
       "mp3_path                                                                  \n",
       "d/ambient_teknology-the_all_seeing_eye_project-...       0    0       0   \n",
       "d/ambient_teknology-the_all_seeing_eye_project-...       0    0       0   \n",
       "d/ambient_teknology-the_all_seeing_eye_project-...       0    0       0   \n",
       "d/ambient_teknology-the_all_seeing_eye_project-...       0    0       0   \n",
       "d/ambient_teknology-the_all_seeing_eye_project-...       0    0       0   \n",
       "\n",
       "                                                    female voice  voice  \\\n",
       "mp3_path                                                                  \n",
       "d/ambient_teknology-the_all_seeing_eye_project-...             0      0   \n",
       "d/ambient_teknology-the_all_seeing_eye_project-...             0      0   \n",
       "d/ambient_teknology-the_all_seeing_eye_project-...             0      0   \n",
       "d/ambient_teknology-the_all_seeing_eye_project-...             0      0   \n",
       "d/ambient_teknology-the_all_seeing_eye_project-...             0      0   \n",
       "\n",
       "                                                    male voice  ...    woman  \\\n",
       "mp3_path                                                        ...            \n",
       "d/ambient_teknology-the_all_seeing_eye_project-...           0  ...        0   \n",
       "d/ambient_teknology-the_all_seeing_eye_project-...           0  ...        0   \n",
       "d/ambient_teknology-the_all_seeing_eye_project-...           0  ...        0   \n",
       "d/ambient_teknology-the_all_seeing_eye_project-...           0  ...        0   \n",
       "d/ambient_teknology-the_all_seeing_eye_project-...           0  ...        0   \n",
       "\n",
       "                                                    woman singing  singing  \\\n",
       "mp3_path                                                                     \n",
       "d/ambient_teknology-the_all_seeing_eye_project-...              0        0   \n",
       "d/ambient_teknology-the_all_seeing_eye_project-...              0        0   \n",
       "d/ambient_teknology-the_all_seeing_eye_project-...              0        0   \n",
       "d/ambient_teknology-the_all_seeing_eye_project-...              0        0   \n",
       "d/ambient_teknology-the_all_seeing_eye_project-...              0        0   \n",
       "\n",
       "                                                    female vocals  voices  \\\n",
       "mp3_path                                                                    \n",
       "d/ambient_teknology-the_all_seeing_eye_project-...              0       0   \n",
       "d/ambient_teknology-the_all_seeing_eye_project-...              0       0   \n",
       "d/ambient_teknology-the_all_seeing_eye_project-...              0       0   \n",
       "d/ambient_teknology-the_all_seeing_eye_project-...              0       0   \n",
       "d/ambient_teknology-the_all_seeing_eye_project-...              0       0   \n",
       "\n",
       "                                                    choir  female singer  \\\n",
       "mp3_path                                                                   \n",
       "d/ambient_teknology-the_all_seeing_eye_project-...      0              0   \n",
       "d/ambient_teknology-the_all_seeing_eye_project-...      0              0   \n",
       "d/ambient_teknology-the_all_seeing_eye_project-...      0              0   \n",
       "d/ambient_teknology-the_all_seeing_eye_project-...      0              0   \n",
       "d/ambient_teknology-the_all_seeing_eye_project-...      0              0   \n",
       "\n",
       "                                                    women  choir  women  \n",
       "mp3_path                                                                 \n",
       "d/ambient_teknology-the_all_seeing_eye_project-...      0      0      0  \n",
       "d/ambient_teknology-the_all_seeing_eye_project-...      0      0      0  \n",
       "d/ambient_teknology-the_all_seeing_eye_project-...      0      0      0  \n",
       "d/ambient_teknology-the_all_seeing_eye_project-...      0      0      0  \n",
       "d/ambient_teknology-the_all_seeing_eye_project-...      0      0      0  \n",
       "\n",
       "[5 rows x 32 columns]"
      ]
     },
     "execution_count": 17,
     "metadata": {},
     "output_type": "execute_result"
    }
   ],
   "source": [
    "metadata[tags_vocal].head()"
   ]
  },
  {
   "cell_type": "code",
   "execution_count": 18,
   "metadata": {},
   "outputs": [
    {
     "data": {
      "text/plain": [
       "mp3_path\n",
       "d/ambient_teknology-the_all_seeing_eye_project-01-cyclops-262-291.mp3           False\n",
       "d/ambient_teknology-the_all_seeing_eye_project-02-all_seeing_eye-175-204.mp3    False\n",
       "d/ambient_teknology-the_all_seeing_eye_project-03-black-175-204.mp3             False\n",
       "d/ambient_teknology-the_all_seeing_eye_project-04-confusion_says-88-117.mp3     False\n",
       "d/ambient_teknology-the_all_seeing_eye_project-05-the_beholder-291-320.mp3      False\n",
       "dtype: bool"
      ]
     },
     "execution_count": 18,
     "metadata": {},
     "output_type": "execute_result"
    }
   ],
   "source": [
    "# set vocal to True of any of the tags_vocal are 1\n",
    "gt_vocal = metadata[tags_vocal].any(axis=1)\n",
    "gt_vocal.head()"
   ]
  },
  {
   "cell_type": "code",
   "execution_count": 19,
   "metadata": {},
   "outputs": [
    {
     "data": {
      "text/plain": [
       "mp3_path\n",
       "d/ambient_teknology-the_all_seeing_eye_project-01-cyclops-262-291.mp3           False\n",
       "d/ambient_teknology-the_all_seeing_eye_project-02-all_seeing_eye-175-204.mp3    False\n",
       "d/ambient_teknology-the_all_seeing_eye_project-03-black-175-204.mp3             False\n",
       "d/ambient_teknology-the_all_seeing_eye_project-04-confusion_says-88-117.mp3     False\n",
       "d/ambient_teknology-the_all_seeing_eye_project-05-the_beholder-291-320.mp3       True\n",
       "dtype: bool"
      ]
     },
     "execution_count": 19,
     "metadata": {},
     "output_type": "execute_result"
    }
   ],
   "source": [
    "# set instrumental to True of any of the tags_instrumental are 1\n",
    "gt_instrumental = metadata[tags_instrumental].any(axis=1)\n",
    "gt_instrumental.head()"
   ]
  },
  {
   "cell_type": "markdown",
   "metadata": {},
   "source": [
    "<b>We can only use the tag if EITHER instrumental OR vocal is True.</b><br>\n",
    "If both of them are True or both of them are False, we cannot trust the groundtruth data. Ergo we have to remove these and retain only the others."
   ]
  },
  {
   "cell_type": "code",
   "execution_count": 20,
   "metadata": {},
   "outputs": [
    {
     "data": {
      "text/plain": [
       "mp3_path\n",
       "d/ambient_teknology-the_all_seeing_eye_project-01-cyclops-262-291.mp3           False\n",
       "d/ambient_teknology-the_all_seeing_eye_project-02-all_seeing_eye-175-204.mp3    False\n",
       "d/ambient_teknology-the_all_seeing_eye_project-03-black-175-204.mp3             False\n",
       "d/ambient_teknology-the_all_seeing_eye_project-04-confusion_says-88-117.mp3     False\n",
       "d/ambient_teknology-the_all_seeing_eye_project-05-the_beholder-291-320.mp3       True\n",
       "dtype: bool"
      ]
     },
     "execution_count": 20,
     "metadata": {},
     "output_type": "execute_result"
    }
   ],
   "source": [
    "retain = np.logical_xor(gt_vocal,gt_instrumental)\n",
    "retain.head()"
   ]
  },
  {
   "cell_type": "code",
   "execution_count": 21,
   "metadata": {},
   "outputs": [
    {
     "name": "stdout",
     "output_type": "stream",
     "text": [
      "From originally 3023 input examples, we can only retain 959 trusted ones in our groundtruth\n"
     ]
    }
   ],
   "source": [
    "n_orig = len(gt_vocal)\n",
    "\n",
    "n_retain = sum(retain)\n",
    "\n",
    "print(\"From originally\", n_orig, \"input examples, we can only retain\",n_retain, \"trusted ones in our groundtruth\")"
   ]
  },
  {
   "cell_type": "markdown",
   "metadata": {},
   "source": [
    "In the end we cut from gt_vocal only the exampls to retain. If they are True they are vocal, if they are False, they are instrumental:"
   ]
  },
  {
   "cell_type": "code",
   "execution_count": 22,
   "metadata": {},
   "outputs": [
    {
     "data": {
      "text/plain": [
       "mp3_path\n",
       "d/ambient_teknology-the_all_seeing_eye_project-05-the_beholder-291-320.mp3                                                                                                                   False\n",
       "0/american_bach_soloists-j_s__bach__cantatas_volume_v-03-gleichwie_der_regen_und_schnee_vom_himmel_fallt_bwv_18_iii_recitative_and_litany__mein_gott_hier_wird_mein_herze_sein-88-117.mp3     True\n",
       "0/american_bach_soloists-j_s__bach__cantatas_volume_v-07-weinen_klagen_sorgen_zagen_bwv_12_ii_chorus__weinen_klagen_sorgen_zagen-262-291.mp3                                                  True\n",
       "0/american_bach_soloists-j_s__bach__cantatas_volume_v-08-weinen_klagen_sorgen_zagen_bwv_12_iii_recitative__wir_mussen_durch_viel_truebsal-0-29.mp3                                            True\n",
       "0/american_bach_soloists-j_s__bach__cantatas_volume_v-09-weinen_klagen_sorgen_zagen_bwv_12_iv_aria__kreuz_und_krone_sind_verbunden-59-88.mp3                                                  True\n",
       "0/american_bach_soloists-j_s__bach__cantatas_volume_v-11-weinen_klagen_sorgen_zagen_bwv_12_vi_aria__sei_getreu-88-117.mp3                                                                     True\n",
       "0/american_bach_soloists-j_s__bach__cantatas_volume_v-13-nun_komm_der_heiden_heiland_bwv_61_i_ouverture__nun_komm_der_heiden_heiland-59-88.mp3                                                True\n",
       "0/american_bach_soloists-j_s__bach__cantatas_volume_v-14-nun_komm_der_heiden_heiland_bwv_61_ii_recitative__der_heiland_ist_gekommen-30-59.mp3                                                 True\n",
       "0/american_bach_soloists-j_s__bach__cantatas_volume_v-15-nun_komm_der_heiden_heiland_bwv_61_iii_aria__komm_jesu_komm_zu_deiner_kirche-117-146.mp3                                             True\n",
       "dtype: bool"
      ]
     },
     "execution_count": 22,
     "metadata": {},
     "output_type": "execute_result"
    }
   ],
   "source": [
    "gt_final = gt_vocal[retain]\n",
    "gt_final.head(9)"
   ]
  },
  {
   "cell_type": "code",
   "execution_count": 23,
   "metadata": {},
   "outputs": [
    {
     "name": "stdout",
     "output_type": "stream",
     "text": [
      "671 vocal tracks\n"
     ]
    }
   ],
   "source": [
    "print(str(sum(gt_final)) + \" vocal tracks\")"
   ]
  },
  {
   "cell_type": "code",
   "execution_count": 24,
   "metadata": {},
   "outputs": [
    {
     "name": "stdout",
     "output_type": "stream",
     "text": [
      "288 instrumental tracks\n"
     ]
    }
   ],
   "source": [
    "print(str(sum(np.logical_not(gt_final))) + \" instrumental tracks\")"
   ]
  },
  {
   "cell_type": "markdown",
   "metadata": {},
   "source": [
    "<b>Create two lists: one with filenames and one with associated classes</b>"
   ]
  },
  {
   "cell_type": "code",
   "execution_count": 25,
   "metadata": {
    "collapsed": true
   },
   "outputs": [],
   "source": [
    "# index in list of strings\n",
    "filelist = gt_final.index.tolist()\n",
    "# convert boolean to int and store in other list\n",
    "classes = (gt_final * 1).tolist()"
   ]
  },
  {
   "cell_type": "code",
   "execution_count": 26,
   "metadata": {},
   "outputs": [
    {
     "data": {
      "text/plain": [
       "['d/ambient_teknology-the_all_seeing_eye_project-05-the_beholder-291-320.mp3',\n",
       " '0/american_bach_soloists-j_s__bach__cantatas_volume_v-03-gleichwie_der_regen_und_schnee_vom_himmel_fallt_bwv_18_iii_recitative_and_litany__mein_gott_hier_wird_mein_herze_sein-88-117.mp3',\n",
       " '0/american_bach_soloists-j_s__bach__cantatas_volume_v-07-weinen_klagen_sorgen_zagen_bwv_12_ii_chorus__weinen_klagen_sorgen_zagen-262-291.mp3',\n",
       " '0/american_bach_soloists-j_s__bach__cantatas_volume_v-08-weinen_klagen_sorgen_zagen_bwv_12_iii_recitative__wir_mussen_durch_viel_truebsal-0-29.mp3',\n",
       " '0/american_bach_soloists-j_s__bach__cantatas_volume_v-09-weinen_klagen_sorgen_zagen_bwv_12_iv_aria__kreuz_und_krone_sind_verbunden-59-88.mp3']"
      ]
     },
     "execution_count": 26,
     "metadata": {},
     "output_type": "execute_result"
    }
   ],
   "source": [
    "filelist[0:5]"
   ]
  },
  {
   "cell_type": "code",
   "execution_count": 27,
   "metadata": {},
   "outputs": [
    {
     "data": {
      "text/plain": [
       "[0, 1, 1, 1, 1]"
      ]
     },
     "execution_count": 27,
     "metadata": {},
     "output_type": "execute_result"
    }
   ],
   "source": [
    "classes[0:5]"
   ]
  },
  {
   "cell_type": "code",
   "execution_count": 28,
   "metadata": {},
   "outputs": [
    {
     "data": {
      "text/plain": [
       "array([0, 1, 1, 1, 1])"
      ]
     },
     "execution_count": 28,
     "metadata": {},
     "output_type": "execute_result"
    }
   ],
   "source": [
    "# convert to Numpy array as needed by Keras\n",
    "classes = np.array(classes)\n",
    "classes[0:5]"
   ]
  },
  {
   "cell_type": "markdown",
   "metadata": {},
   "source": [
    "## Load the Audio Files"
   ]
  },
  {
   "cell_type": "markdown",
   "metadata": {},
   "source": [
    "#### Function to analyze audio files and get small or large spectrogram excerpts"
   ]
  },
  {
   "cell_type": "code",
   "execution_count": 35,
   "metadata": {
    "collapsed": true
   },
   "outputs": [],
   "source": [
    "?librosa.load"
   ]
  },
  {
   "cell_type": "code",
   "execution_count": 42,
   "metadata": {
    "collapsed": true
   },
   "outputs": [],
   "source": [
    "def create_spectrograms(filelist, n_mel_bands=40, frames=80, return_example=False):\n",
    "\n",
    "    list_spectrograms = [] # spectrograms are put into a list first\n",
    "\n",
    "    # some FFT parameters\n",
    "    fft_window_size=512\n",
    "    fft_overlap = 0.5\n",
    "    hop_size = int(fft_window_size*(1-fft_overlap))\n",
    "    segment_size = fft_window_size + (frames-1) * hop_size # segment size for desired # frames\n",
    "\n",
    "    print(\"Reading and processing\", len(filelist), \"audio files\")\n",
    "    \n",
    "    pbar = progressbar.ProgressBar()\n",
    "    \n",
    "    for filename in pbar(filelist):\n",
    "        \n",
    "        filepath = os.path.join(AUDIO_PATH, filename)\n",
    "        wavedata, samplerate = librosa.load(filepath, sr=44100)\n",
    "        sample_length = wavedata.shape[0]\n",
    "\n",
    "        # make Mono (in case of multiple channels / stereo)\n",
    "        if wavedata.ndim > 1:\n",
    "            wavedata = np.mean(wavedata, 1)\n",
    "\n",
    "        # take only a segment; choose start position:\n",
    "        #pos = 0 # beginning\n",
    "        pos = int(wavedata.shape[0]/2 - segment_size/2) # center minus half segment size\n",
    "        wav_segment = wavedata[pos:pos+segment_size]\n",
    "\n",
    "        # 2) Transform to perceptual Mel scale (uses librosa.filters.mel)\n",
    "        spectrogram = librosa.feature.melspectrogram(wavedata, \n",
    "                                                     sr=samplerate, \n",
    "                                                     n_fft=fft_window_size,\n",
    "                                                     hop_length=hop_size,\n",
    "                                                     n_mels=n_mel_bands)\n",
    "\n",
    "        # 3) Log 10 transform\n",
    "        spectrogram = librosa.amplitude_to_db(spectrogram)\n",
    "\n",
    "        list_spectrograms.append(spectrogram)\n",
    "\n",
    "    print(\"\\nConverting to big data array...\")\n",
    "    # a list of many spectrograms is made into 1 big array with 3 dimensions\n",
    "    # + convert the input data to the right data type used by Keras Deep Learning (GPU)\n",
    "    data = np.array(list_spectrograms, dtype=K.floatx())\n",
    "\n",
    "    # replace Inf values:\n",
    "    # as in our preprocessing some files generated an Inf value in the log10 computation, we replace those by 0:\n",
    "\n",
    "    data[np.isinf(data)] = 0\n",
    "\n",
    "    print(\"done.\")\n",
    "    \n",
    "    # just for illustration purposes, return the last wav file and its spectrogram and audio data\n",
    "    if return_example:\n",
    "        return data, wav_segment, spectrogram, segment_size, samplerate, samplewidth\n",
    "    \n",
    "    return data"
   ]
  },
  {
   "cell_type": "markdown",
   "metadata": {},
   "source": [
    "#### Define desired output parameters"
   ]
  },
  {
   "cell_type": "code",
   "execution_count": 43,
   "metadata": {
    "collapsed": true
   },
   "outputs": [],
   "source": [
    "# small spectrograms\n",
    "#n_mel_bands = 40   # y axis\n",
    "#frames = 80        # x axis\n",
    "\n",
    "# large  spectrograms\n",
    "n_mel_bands = 96   # y axis\n",
    "frames = 683        # x axis\n",
    "\n",
    "# extra large  spectrograms\n",
    "#n_mel_bands = 96   # y axis\n",
    "#frames = 1366        # x axis"
   ]
  },
  {
   "cell_type": "code",
   "execution_count": 44,
   "metadata": {
    "collapsed": true
   },
   "outputs": [],
   "source": [
    "# if we saved the audio spectrograms before, we try to load them\n",
    "load_features = True\n",
    "\n",
    "# if not, we store audio features for faster reload the next time\n",
    "save_features = True\n",
    "\n",
    "FEAT_FILE = os.path.join(DATA_PATH, \"spectrograms_instrumental.npz\")"
   ]
  },
  {
   "cell_type": "code",
   "execution_count": 45,
   "metadata": {
    "collapsed": true
   },
   "outputs": [],
   "source": [
    "if load_features:\n",
    "    if os.path.exists(FEAT_FILE):\n",
    "        with np.load(FEAT_FILE) as npz:\n",
    "            data = npz['data']\n",
    "            filelist = npz['filenames']\n",
    "            classes = npz['classes']\n",
    "        print(\"Loaded features successfully: \" + str(len(filelist)), \"files, dimensions:\", data.shape)\n",
    "    else:\n",
    "        load_features = False"
   ]
  },
  {
   "cell_type": "code",
   "execution_count": null,
   "metadata": {},
   "outputs": [
    {
     "name": "stderr",
     "output_type": "stream",
     "text": [
      "\r",
      "                                                                               \r",
      "\r",
      "N/A% (0 of 959) |                        | Elapsed Time: 0:00:00 ETA:  --:--:--"
     ]
    },
    {
     "name": "stdout",
     "output_type": "stream",
     "text": [
      "Reading and processing 959 audio files\n"
     ]
    },
    {
     "name": "stderr",
     "output_type": "stream",
     "text": [
      "C:\\ProgramData\\Anaconda2\\envs\\py36\\lib\\site-packages\\librosa\\filters.py:284: UserWarning: Empty filters detected in mel frequency basis. Some channels will produce empty responses. Try increasing your sampling rate (and fmax) or reducing n_mels.\n",
      "  warnings.warn('Empty filters detected in mel frequency basis. '\n",
      " 30% (294 of 959) |######                | Elapsed Time: 0:18:48 ETA:   0:16:18"
     ]
    }
   ],
   "source": [
    "if not load_features:\n",
    "    #data = create_spectrograms(filelist, n_mel_bands, frames)\n",
    "\n",
    "    # get some extra data for illustration\n",
    "    data, wav_segment, spectrogram, segment_size, samplerate, samplewidth = create_spectrograms(filelist, n_mel_bands, frames, return_example=True)\n",
    "    \n",
    "    if save_features:\n",
    "        np.savez(FEAT_FILE, data=data, filenames=filelist, classes=classes)\n",
    "        print(\"Features stored to \" + FEAT_FILE)"
   ]
  },
  {
   "cell_type": "markdown",
   "metadata": {},
   "source": [
    "### Show Waveform and Spectrogram (just for illustration)"
   ]
  },
  {
   "cell_type": "code",
   "execution_count": 25,
   "metadata": {
    "collapsed": true
   },
   "outputs": [],
   "source": [
    "if not load_features:\n",
    "    print(samplerate, samplewidth)\n",
    "    print(spectrogram.shape)\n",
    "    print(data.shape)\n",
    "    print(\"An audio segment is\", round(float(segment_size) / samplerate, 2), \"seconds long\")"
   ]
  },
  {
   "cell_type": "code",
   "execution_count": 26,
   "metadata": {
    "collapsed": true
   },
   "outputs": [],
   "source": [
    "if not load_features:\n",
    "    print(wav_segment)"
   ]
  },
  {
   "cell_type": "code",
   "execution_count": 27,
   "metadata": {
    "collapsed": true
   },
   "outputs": [],
   "source": [
    "# you can skip this if you do not have matplotlib installed\n",
    "\n",
    "if not load_features:\n",
    "    import matplotlib.pyplot as plt\n",
    "    %matplotlib inline \n",
    "\n",
    "    # show 1 sec wave segment\n",
    "    plt.plot(wav_segment)"
   ]
  },
  {
   "cell_type": "code",
   "execution_count": 28,
   "metadata": {
    "collapsed": true
   },
   "outputs": [],
   "source": [
    "# show spectrogram\n",
    "\n",
    "if not load_features:\n",
    "    fig = plt.imshow(spectrogram, origin='lower', aspect='auto')\n",
    "    fig.set_cmap('jet')\n",
    "    fig.axes.get_xaxis().set_visible(False)\n",
    "    fig.axes.get_yaxis().set_visible(False)"
   ]
  },
  {
   "cell_type": "markdown",
   "metadata": {},
   "source": [
    "## Standardization\n",
    "\n",
    "<b>Always standardize</b> the data before feeding it into the Neural Network!\n",
    "\n",
    "We use <b>Zero-mean Unit-variance standardization</b> (also known as Z-score normalization).\n",
    "Here, we use <b>attribute-wise standardization</b>, i.e. each pixel is standardized individually, as opposed to computing a single mean and single standard deviation of all values.\n",
    "\n",
    "('Flat' standardization would also be possible, but we have seen benefits of attribut-wise standardization in our experiments).\n",
    "\n",
    "We use the StandardScaler from the scikit-learn package for our purpose.\n",
    "As it works typically on vector data, we have to vectorize (i.e. reshape) our matrices first."
   ]
  },
  {
   "cell_type": "code",
   "execution_count": 29,
   "metadata": {
    "collapsed": true
   },
   "outputs": [],
   "source": [
    "def standardize(data):\n",
    "    # vectorize before standardization (cause scaler can't do it in that format)\n",
    "    N, ydim, xdim = data.shape\n",
    "    data = data.reshape(N, xdim*ydim)\n",
    "\n",
    "    # standardize\n",
    "    scaler = preprocessing.StandardScaler()\n",
    "    data = scaler.fit_transform(data)\n",
    "\n",
    "    # reshape to original shape\n",
    "    return data.reshape(N, ydim, xdim)"
   ]
  },
  {
   "cell_type": "code",
   "execution_count": 30,
   "metadata": {
    "collapsed": true
   },
   "outputs": [],
   "source": [
    "data = standardize(data)"
   ]
  },
  {
   "cell_type": "markdown",
   "metadata": {},
   "source": [
    "# Convolutional Neural Networks\n",
    "\n",
    "A Convolutional Neural Network (ConvNet or CNN) is a type of (deep) Neural Network that is well-suited for 2D axes data, such as images or spectrograms, as it is optimized for learning from spatial proximity. Its core elements are 2D filter kernels which essentially learn the weights of the Neural Network, and downscaling functions such as Max Pooling.\n",
    "\n",
    "A CNN can have one or more Convolution layers, each of them having an arbitrary number of N filters (which define the depth of the CNN layer), following typically by a pooling step, which aggregates neighboring pixels together and thus reduces the image resolution by retaining only the maximum values of neighboring pixels."
   ]
  },
  {
   "cell_type": "markdown",
   "metadata": {},
   "source": [
    "## Preparing the Data\n",
    "\n",
    "### Adding the channel\n",
    "\n",
    "As CNNs were initially made for image data, we need to add a dimension for the color channel to the data. RGB images typically have a 3rd dimension with the color. \n",
    "\n",
    "<b>Spectrograms, however, are considered like greyscale images, as in the previous tutorial.\n",
    "Likewise we need to add an extra dimension for compatibility with the CNN implementation.</b>\n",
    "\n",
    "For greyscale images, we add the number 1 as the depth of the additional dimension of the input shape (for RGB color images, the number of channels is 3).\n",
    "\n",
    "<i>Note on Tensorflow vs. Theano:</i>\n",
    "\n",
    "In Theano, traditionally the color channel was the <b>first</b> dimension in the image shape. \n",
    "In Tensorflow, the color channel is the <b>last</b> dimension in the image shape. \n",
    "\n",
    "This can be configured in ~/.keras/keras.json: \"image_dim_ordering\": \"th\" or \"tf\" (for Theano or Tensorflow) *or* with \"image_data_format\" set to \"channels_first\" or \"channels_last\".\n",
    "\n",
    "Tensorflow is now the default image ordering for Kears (\"tf\" and/or \"channels_last\").\n",
    "To be on the safe side, we added the if statement below."
   ]
  },
  {
   "cell_type": "code",
   "execution_count": 31,
   "metadata": {},
   "outputs": [
    {
     "data": {
      "text/plain": [
       "'channels_last'"
      ]
     },
     "execution_count": 31,
     "metadata": {},
     "output_type": "execute_result"
    }
   ],
   "source": [
    "keras.backend.image_data_format()"
   ]
  },
  {
   "cell_type": "code",
   "execution_count": 32,
   "metadata": {
    "collapsed": true
   },
   "outputs": [],
   "source": [
    "def add_channel(data, n_channels=1):\n",
    "    # n_channels: 1 for grey-scale, 3 for RGB, but usually already present in the data\n",
    "    \n",
    "    N, ydim, xdim = data.shape\n",
    "\n",
    "    if keras.backend.image_data_format() == 'channels_last':  # TENSORFLOW\n",
    "        # Tensorflow ordering (~/.keras/keras.json: \"image_dim_ordering\": \"tf\")\n",
    "        data = data.reshape(N, ydim, xdim, n_channels)\n",
    "    else: # THEANO\n",
    "        # Theano ordering (~/.keras/keras.json: \"image_dim_ordering\": \"th\")\n",
    "        data = data.reshape(N, n_channels, ydim, xdim)\n",
    "        \n",
    "    return data"
   ]
  },
  {
   "cell_type": "code",
   "execution_count": 33,
   "metadata": {},
   "outputs": [
    {
     "data": {
      "text/plain": [
       "(959, 96, 683, 1)"
      ]
     },
     "execution_count": 33,
     "metadata": {},
     "output_type": "execute_result"
    }
   ],
   "source": [
    "data = add_channel(data, n_channels=1)\n",
    "data.shape"
   ]
  },
  {
   "cell_type": "code",
   "execution_count": 34,
   "metadata": {},
   "outputs": [
    {
     "data": {
      "text/plain": [
       "(96, 683, 1)"
      ]
     },
     "execution_count": 34,
     "metadata": {},
     "output_type": "execute_result"
    }
   ],
   "source": [
    "# we store the new shape of the images in the 'input_shape' variable.\n",
    "# take all dimensions except the 0th one (which is the number of files)\n",
    "input_shape = data.shape[1:]  \n",
    "input_shape"
   ]
  },
  {
   "cell_type": "markdown",
   "metadata": {},
   "source": [
    "### Train & Test Set Split\n",
    "\n",
    "We split the original full data set into two parts: Train Set (75%) and Test Set (25%).\n",
    "\n",
    "Note: \n",
    "For demo purposes we use only 1 split here. A better way to do it is to use **Cross-Validation**, doing the split multiple times, iterating training and testing over the splits and averaging the results."
   ]
  },
  {
   "cell_type": "code",
   "execution_count": 35,
   "metadata": {
    "collapsed": true
   },
   "outputs": [],
   "source": [
    "testset_size = 0.25 # % portion of whole data set to keep for testing, i.e. 75% is used for training"
   ]
  },
  {
   "cell_type": "code",
   "execution_count": 36,
   "metadata": {},
   "outputs": [
    {
     "name": "stdout",
     "output_type": "stream",
     "text": [
      "TRAIN INDEX: [135 957 350 397 651 154 704 255 811 881 937 921 229 635 839 643   2 619\n",
      " 299 225 388 400 717 444 736 673 675 548 731 850 401 112 608  71 791  76\n",
      " 281 721 545 538 155 753 206  41 527 856 491 745 366 756 720 227 218 836\n",
      " 103 711  72 878  42 144 447 349 589 710 362 203 376 864 782 226 302 220\n",
      " 379 773 256 555 476 231  49  51 601 458 744 623 906 685 136 730 115 781\n",
      " 747 628 869 441 148 728 264 934  37 479 599 237 134 493 557 265 687  88\n",
      " 363 884 179 201 195 578 166 342 797 339 842 284 924 416 145 382  22  80\n",
      " 851 927  60 952 912 292 378 634 287 263 181 316 954  53 141 928 278 348\n",
      " 563 890 735 553  93 385 564 294 824 371 841 585 198 757 700 876   3 558\n",
      " 953 748 678 903 544 920 784  16 832 466 448 883 190 187 200 483 650 654\n",
      " 128 442  75 752 914 894 776 386 100  30 178   1 249 420 129 101 497 429\n",
      "  61 888 450 396 480 172 923 885 694 693 916 373 909 273 624 621 331  55\n",
      "  39 570 104 234 785 672  86 270 475  54  95 569 146  59 603 521 543 568\n",
      " 403 726  47 702 577  94  12 216 267 760 471 828 482 300 829 768 242 413\n",
      " 617 729 767 436  18 795 321 542 758 790 549 664  32 922 514 461 175 830\n",
      " 293 592 827 106 304 676 949 706 246  43 825 199 233 235 739 431 674 337\n",
      "  99 254 866 610 682 525 121 662 633 587 367 434 245 370 595 122 556 383\n",
      " 171 251 193 309 541 656 897   9 318 737 365 932 435 554 207  70 798 833\n",
      " 325   6 408 566 637 755 740 770 783 162 852 327 831 140 474 955 212 590\n",
      " 290 534 933  11   7 271 574  44 573 150 138 399 616 695 387 307 262 733\n",
      " 481  84 772 666 594 355  77 426 130 261  34 714 918 948 392 208 872 605\n",
      " 503  50 636 854 809 137 528  24 422 346 646 865 668 340  36 683  27 313\n",
      "  57 751 192 301 295  38 170 407 907 501 238 323 456 205 391 642 329 679\n",
      " 180 855 796  40 722 451  13 336 707 276 185 488 421 320 202  58 495 513\n",
      " 536 526 507 584 667 411 763 696 631 186 788  52 404 925 579 862 703 905\n",
      "  97 861 716 163 804 412 390 613 464 698  64 532 377 818 277 575  83 500\n",
      " 241 808 283 232 125 472 893 762 402 789 561 596 230 496 452 248 410  79\n",
      "  46 459 517 268 253 512 457 539 467 361 494 196  89 640  29  87 843 473\n",
      " 372  65 699  15  19 847 586 820 465 142 222 826 778 571 823 659 462 215\n",
      " 580 303  85 357 780  74 351 223 519 478 417 343 567 936 857 484 338  78\n",
      " 581 591 626 124 882 560 219 260 153 738 638 806 425 424 279   0  23 648\n",
      " 105 794 116 240 946 689  56  48 224 669 449 213 460 951 750 742 805 661\n",
      " 904 209 799 766 546 469 612 317 428 498 838 347 734 108 793 418 620  10\n",
      " 688 814 364 725 236 341 285 427 845 272 547 443 509 123 902 853 381 746\n",
      " 565  81 606 310 898 258 615 598 705 210 718 405 328 131 432 113  20 868\n",
      " 732 530 761 871 614 873 531 803 446 840 652 552 133  21 899 194 649 167\n",
      " 508 315 311 754 681 870 118 324 380 690  68 147  67 306  91 244 152 522\n",
      " 801 250 360 505 117  96 950 344  92 913 812 247  35 298 184 139 879 723\n",
      " 641 282 727 609 697  33 671 161 114 352 764 454 437 625 414 515 708 393\n",
      " 169 111 741 802 297 243 655 419 291 941 821 394 712 956 627 749 919]\n",
      "TEST INDEX: [800 158 816 468 197 680 529 463 516 958 354 947 769 438 665 333 330 917\n",
      " 891 415 588   8 151  45 597 204 239 813 374 938 880 499 433 489 844 691\n",
      " 834 440 647 867 107 322 817 692 901 319 931 191 848 375 485 368 334 520\n",
      " 774 518 940 353 819 858 406 143 157 622 860   5 792 645 359 266 510 132\n",
      " 572  17 211 653 535  98 176 455 849 775 945 164  63 670 188 686 228  62\n",
      " 896 398 286 660 877 630 308 779 120 477 332 926 743 280 326 787   4 430\n",
      " 506 859 944 930 658 214 409 356 314 895  25 629 550 551 423 771 713 701\n",
      " 274 892 611 943 663 709 395 504 453 109 910 942 177 684 576 156 369 777\n",
      "  90 846 445 822 810 149 639  14 523  73 604 759 540 389 252 492 889  28\n",
      " 335 312 677 863 345 533 908 384 600 874  66 168 110 607 939 524 875 935\n",
      " 837 275 439 470 502 583 288 183 217 486 182 119 305 644 911 487 886 189\n",
      " 126 358 724  69 296 715 618  82 165 582 657 807  31 257 929 559 786 562\n",
      " 160 815 490 900 289 269 173  26 719 915 632 593 835 537 259 511 127 765\n",
      " 887 221 602 174 159 102]\n"
     ]
    }
   ],
   "source": [
    "# Stratified Split retains the class balance in both sets\n",
    "\n",
    "splitter = StratifiedShuffleSplit(n_splits=1, test_size=testset_size, random_state=0)\n",
    "splits = splitter.split(data, classes)\n",
    "\n",
    "for train_index, test_index in splits:\n",
    "    print(\"TRAIN INDEX:\", train_index)\n",
    "    print(\"TEST INDEX:\", test_index)\n",
    "    train_set = data[train_index]\n",
    "    test_set = data[test_index]\n",
    "    train_classes = classes[train_index]\n",
    "    test_classes = classes[test_index]\n",
    "# Note: this for loop is only executed once if n_splits==1"
   ]
  },
  {
   "cell_type": "code",
   "execution_count": 37,
   "metadata": {},
   "outputs": [
    {
     "name": "stdout",
     "output_type": "stream",
     "text": [
      "(719, 96, 683, 1)\n",
      "(240, 96, 683, 1)\n"
     ]
    }
   ],
   "source": [
    "print(train_set.shape)\n",
    "print(test_set.shape)"
   ]
  },
  {
   "cell_type": "code",
   "execution_count": 38,
   "metadata": {},
   "outputs": [
    {
     "name": "stdout",
     "output_type": "stream",
     "text": [
      "Class Counts: Class 0: 216 Class 1: 503\n"
     ]
    }
   ],
   "source": [
    "print(\"Class Counts: Class 0:\", sum(train_classes==0), \"Class 1:\", sum(train_classes))"
   ]
  },
  {
   "cell_type": "markdown",
   "metadata": {},
   "source": [
    "# Creating CNN Models in Keras"
   ]
  },
  {
   "cell_type": "markdown",
   "metadata": {},
   "source": [
    "## Compact CNN\n",
    "\n",
    "This is a 5 layer Convolutional Neural Network inspired and adapted from Keunwoo Choi (https://github.com/keunwoochoi/music-auto_tagging-keras)"
   ]
  },
  {
   "cell_type": "code",
   "execution_count": 39,
   "metadata": {},
   "outputs": [
    {
     "data": {
      "text/plain": [
       "(959, 96, 683, 1)"
      ]
     },
     "execution_count": 39,
     "metadata": {},
     "output_type": "execute_result"
    }
   ],
   "source": [
    "data.shape"
   ]
  },
  {
   "cell_type": "code",
   "execution_count": 40,
   "metadata": {
    "collapsed": true
   },
   "outputs": [],
   "source": [
    "def CompactCNN(input_shape, nb_conv, nb_filters, n_mels, normalize, nb_hidden, dense_units, \n",
    "               output_shape, activation, dropout, multiple_segments=False, graph_model=False, input_tensor=None):\n",
    "    \n",
    "    melgram_input = Input(shape=input_shape)\n",
    "\n",
    "    if n_mels >= 256:\n",
    "        poolings = [(2, 4), (4, 4), (4, 5), (2, 4), (4, 4)]\n",
    "    elif n_mels >= 128:\n",
    "        poolings = [(2, 4), (4, 4), (2, 5), (2, 4), (4, 4)]\n",
    "    elif n_mels >= 96:\n",
    "        poolings = [(2, 4), (3, 4), (2, 5), (2, 4), (4, 4)]\n",
    "    elif n_mels >= 72:\n",
    "        poolings = [(2, 4), (3, 4), (2, 5), (2, 4), (3, 4)]\n",
    "    elif n_mels >= 64:\n",
    "        poolings = [(2, 4), (2, 4), (2, 5), (2, 4), (4, 4)]\n",
    "\n",
    "    # Determine input axis\n",
    "    if keras.backend.image_dim_ordering() == 'th':\n",
    "        channel_axis = 1\n",
    "        freq_axis = 2\n",
    "        time_axis = 3\n",
    "    else:\n",
    "        channel_axis = 3\n",
    "        freq_axis = 1\n",
    "        time_axis = 2\n",
    "            \n",
    "    # Input block\n",
    "    #x = BatchNormalization(axis=time_axis, name='bn_0_freq')(melgram_input)\n",
    "        \n",
    "    if normalize == 'batch':\n",
    "        x = BatchNormalization(axis=freq_axis, name='bn_0_freq')(melgram_input)\n",
    "    elif normalize in ('data_sample', 'time', 'freq', 'channel'):\n",
    "        x = Normalization2D(normalize, name='nomalization')(melgram_input)\n",
    "    elif normalize in ('no', 'False'):\n",
    "        x = melgram_input\n",
    "\n",
    "    # Conv block 1\n",
    "    x = Convolution2D(nb_filters[0], (3, 3), padding='same')(x)\n",
    "    x = BatchNormalization(axis=channel_axis, name='bn1')(x)\n",
    "    x = ELU()(x)\n",
    "    x = MaxPooling2D(pool_size=poolings[0], name='pool1')(x)\n",
    "        \n",
    "    # Conv block 2\n",
    "    x = Convolution2D(nb_filters[1], (3, 3), padding='same')(x)\n",
    "    x = BatchNormalization(axis=channel_axis, name='bn2')(x)\n",
    "    x = ELU()(x)\n",
    "    x = MaxPooling2D(pool_size=poolings[1], name='pool2')(x)\n",
    "        \n",
    "    # Conv block 3\n",
    "    x = Convolution2D(nb_filters[2], (3, 3), padding='same')(x)\n",
    "    x = BatchNormalization(axis=channel_axis, name='bn3')(x)\n",
    "    x = ELU()(x)\n",
    "    x = MaxPooling2D(pool_size=poolings[2], name='pool3')(x)\n",
    "    \n",
    "    # Conv block 4\n",
    "    if nb_conv > 3:        \n",
    "        x = Convolution2D(nb_filters[3], (3, 3), padding='same')(x)\n",
    "        x = BatchNormalization(axis=channel_axis, name='bn4')(x)\n",
    "        x = ELU()(x)   \n",
    "        x = MaxPooling2D(pool_size=poolings[3], name='pool4')(x)\n",
    "        \n",
    "    # Conv block 5\n",
    "    if nb_conv == 5:\n",
    "        x = Convolution2D(nb_filters[4], (3, 3), padding='same')(x)\n",
    "        x = BatchNormalization(axis=channel_axis, name='bn5')(x)\n",
    "        x = ELU()(x)\n",
    "        x = MaxPooling2D(pool_size=poolings[4], name='pool5')(x)\n",
    "\n",
    "    # Flatten the outout of the last Conv Layer\n",
    "    x = Flatten()(x)\n",
    "      \n",
    "    if nb_hidden == 1:\n",
    "        x = Dropout(dropout)(x)\n",
    "        x = Dense(dense_units, activation='relu')(x)\n",
    "    elif nb_hidden == 2:\n",
    "        x = Dropout(dropout)(x)\n",
    "        x = Dense(dense_units[0], activation='relu')(x)\n",
    "        x = Dropout(dropout)(x)\n",
    "        x = Dense(dense_units[1], activation='relu')(x) \n",
    "    else:\n",
    "        raise ValueError(\"More than 2 hidden units not supported at the moment.\")\n",
    "    \n",
    "    # Output Layer\n",
    "    x = Dense(output_shape, activation=activation, name = 'output')(x)\n",
    "    \n",
    "    # Create model\n",
    "    model = Model(melgram_input, x)\n",
    "    \n",
    "    return model"
   ]
  },
  {
   "cell_type": "markdown",
   "metadata": {},
   "source": [
    "### Set model parameters\n",
    "\n"
   ]
  },
  {
   "cell_type": "code",
   "execution_count": 41,
   "metadata": {
    "collapsed": true
   },
   "outputs": [],
   "source": [
    "# number of Convolutional Layers\n",
    "nb_conv_layers = 4\n",
    "\n",
    "# number of Filters in each layer\n",
    "nb_filters = [64,64,64,128,128]\n",
    "\n",
    "# number of hidden layers at the end of the model\n",
    "nb_hidden = 1 # 2\n",
    "\n",
    "# how many neurons in each hidden layer\n",
    "dense_units = 128 #[128,56]\n",
    "\n",
    "# how many output units\n",
    "# IN A BINARY CLASSIFICATION TASK with 2 possible outputs, 1 single output unit is sufficent (deciding between 0 and 1)\n",
    "output_shape = 1\n",
    "\n",
    "# which activation function to use for OUTPUT layer\n",
    "# IN A BINARY CLASSIFICATION TASK sigmoid activation is the right choice (activating betwee 0 and 1)\n",
    "output_activation = 'sigmoid'\n",
    "\n",
    "# which type of normalization\n",
    "normalization = 'batch'\n",
    "\n",
    "# droupout\n",
    "dropout = 0.2"
   ]
  },
  {
   "cell_type": "code",
   "execution_count": 42,
   "metadata": {
    "collapsed": true
   },
   "outputs": [],
   "source": [
    "model = CompactCNN(input_shape, nb_conv = nb_conv_layers, nb_filters= nb_filters, n_mels = 96, \n",
    "                           normalize=normalization, \n",
    "                           nb_hidden = nb_hidden, dense_units = dense_units, \n",
    "                           output_shape = output_shape, activation = output_activation, \n",
    "                           dropout = dropout)"
   ]
  },
  {
   "cell_type": "code",
   "execution_count": 43,
   "metadata": {},
   "outputs": [
    {
     "name": "stdout",
     "output_type": "stream",
     "text": [
      "_________________________________________________________________\n",
      "Layer (type)                 Output Shape              Param #   \n",
      "=================================================================\n",
      "input_1 (InputLayer)         (None, 96, 683, 1)        0         \n",
      "_________________________________________________________________\n",
      "bn_0_freq (BatchNormalizatio (None, 96, 683, 1)        384       \n",
      "_________________________________________________________________\n",
      "conv2d_1 (Conv2D)            (None, 96, 683, 64)       640       \n",
      "_________________________________________________________________\n",
      "bn1 (BatchNormalization)     (None, 96, 683, 64)       256       \n",
      "_________________________________________________________________\n",
      "elu_1 (ELU)                  (None, 96, 683, 64)       0         \n",
      "_________________________________________________________________\n",
      "pool1 (MaxPooling2D)         (None, 48, 170, 64)       0         \n",
      "_________________________________________________________________\n",
      "conv2d_2 (Conv2D)            (None, 48, 170, 64)       36928     \n",
      "_________________________________________________________________\n",
      "bn2 (BatchNormalization)     (None, 48, 170, 64)       256       \n",
      "_________________________________________________________________\n",
      "elu_2 (ELU)                  (None, 48, 170, 64)       0         \n",
      "_________________________________________________________________\n",
      "pool2 (MaxPooling2D)         (None, 16, 42, 64)        0         \n",
      "_________________________________________________________________\n",
      "conv2d_3 (Conv2D)            (None, 16, 42, 64)        36928     \n",
      "_________________________________________________________________\n",
      "bn3 (BatchNormalization)     (None, 16, 42, 64)        256       \n",
      "_________________________________________________________________\n",
      "elu_3 (ELU)                  (None, 16, 42, 64)        0         \n",
      "_________________________________________________________________\n",
      "pool3 (MaxPooling2D)         (None, 8, 8, 64)          0         \n",
      "_________________________________________________________________\n",
      "conv2d_4 (Conv2D)            (None, 8, 8, 128)         73856     \n",
      "_________________________________________________________________\n",
      "bn4 (BatchNormalization)     (None, 8, 8, 128)         512       \n",
      "_________________________________________________________________\n",
      "elu_4 (ELU)                  (None, 8, 8, 128)         0         \n",
      "_________________________________________________________________\n",
      "pool4 (MaxPooling2D)         (None, 4, 2, 128)         0         \n",
      "_________________________________________________________________\n",
      "flatten_1 (Flatten)          (None, 1024)              0         \n",
      "_________________________________________________________________\n",
      "dropout_1 (Dropout)          (None, 1024)              0         \n",
      "_________________________________________________________________\n",
      "dense_1 (Dense)              (None, 128)               131200    \n",
      "_________________________________________________________________\n",
      "output (Dense)               (None, 1)                 129       \n",
      "=================================================================\n",
      "Total params: 281,345\n",
      "Trainable params: 280,513\n",
      "Non-trainable params: 832\n",
      "_________________________________________________________________\n"
     ]
    }
   ],
   "source": [
    "model.summary()"
   ]
  },
  {
   "cell_type": "markdown",
   "metadata": {},
   "source": [
    "## Training Setup"
   ]
  },
  {
   "cell_type": "code",
   "execution_count": 44,
   "metadata": {
    "collapsed": true
   },
   "outputs": [],
   "source": [
    "# Loss\n",
    "\n",
    "# the loss for a binary classification task is BINARY crossentropy\n",
    "loss = 'binary_crossentropy' "
   ]
  },
  {
   "cell_type": "code",
   "execution_count": 45,
   "metadata": {
    "collapsed": true
   },
   "outputs": [],
   "source": [
    "# Optimizers\n",
    "\n",
    "# simple case:\n",
    "# Stochastic Gradient Descent\n",
    "#optimizer = 'sgd' \n",
    "\n",
    "# advanced:\n",
    "sgd = optimizers.SGD(momentum=0.9, nesterov=True)\n",
    "rmsprop = optimizers.RMSprop(lr=0.001, rho=0.9, epsilon=1e-08, decay=0.01)#lr=0.001 decay = 0.03\n",
    "adagrad = optimizers.Adagrad(lr=0.01, epsilon=1e-08, decay=0.0)\n",
    "\n",
    "# We use mostly ADAM\n",
    "adam = optimizers.Adam(lr=0.003, beta_1=0.9, beta_2=0.999, epsilon=1e-07, decay=0.01)\n",
    "nadam = optimizers.Nadam(lr=0.002, beta_1=0.9, beta_2=0.999, epsilon=1e-07, schedule_decay=0.004)\n",
    "\n",
    "# choose\n",
    "optimizer = adam"
   ]
  },
  {
   "cell_type": "code",
   "execution_count": 46,
   "metadata": {
    "collapsed": true
   },
   "outputs": [],
   "source": [
    "# Metrics\n",
    "\n",
    "def precision(y_true, y_pred):\n",
    "    true_positives = K.sum(K.round(K.clip(y_true * y_pred, 0, 1)))\n",
    "    predicted_positives = K.sum(K.round(K.clip(y_pred, 0, 1)))\n",
    "    precision = true_positives / (predicted_positives + K.epsilon())\n",
    "    return precision\n",
    "\n",
    "def recall(y_true, y_pred):\n",
    "    true_positives = K.sum(K.round(K.clip(y_true * y_pred, 0, 1)))\n",
    "    possible_positives = K.sum(K.round(K.clip(y_true, 0, 1)))\n",
    "    recall = true_positives / (possible_positives + K.epsilon())\n",
    "    return recall\n",
    "\n",
    "metrics = ['accuracy', precision, recall]"
   ]
  },
  {
   "cell_type": "code",
   "execution_count": 47,
   "metadata": {
    "collapsed": true
   },
   "outputs": [],
   "source": [
    "# Other\n",
    "batch_size = 32 \n",
    "\n",
    "epochs = 30\n",
    "\n",
    "validation_split=0.1 \n",
    "\n",
    "#n_folds = 5\n",
    "random_seed = 0\n",
    "\n",
    "callbacks = None"
   ]
  },
  {
   "cell_type": "markdown",
   "metadata": {},
   "source": [
    "### Tensorboard (optional)"
   ]
  },
  {
   "cell_type": "code",
   "execution_count": 48,
   "metadata": {
    "collapsed": true
   },
   "outputs": [],
   "source": [
    "from keras.callbacks import TensorBoard"
   ]
  },
  {
   "cell_type": "code",
   "execution_count": 49,
   "metadata": {
    "collapsed": true
   },
   "outputs": [],
   "source": [
    "#home_dir = os.getenv(\"HOME\")\n",
    "\n",
    "#TB_LOGDIR = os.path.join(home_dir, \"./tensorboard\")\n",
    "\n",
    "TB_LOGDIR = \"./tensorboard\"\n",
    "\n",
    "experiment_name = \"instrumental\"\n",
    "\n",
    "tb_logdir_cur = os.path.join(TB_LOGDIR, experiment_name)"
   ]
  },
  {
   "cell_type": "code",
   "execution_count": 50,
   "metadata": {
    "collapsed": true
   },
   "outputs": [],
   "source": [
    "# OPTIONAL\n",
    "# new tensorboard callback at each training\n",
    "# tensorboard_run_id = \"Vocal_magna_2seg_adam_compact_128fbis_128h\"\n",
    "# tb_logdir = \"%s/%s_fold%d %s\" %(tb_logdir, tensorboard_run_id, fold, strftime(\"%Y-%m-%d %H:%M:%S\", localtime()))"
   ]
  },
  {
   "cell_type": "code",
   "execution_count": 51,
   "metadata": {},
   "outputs": [
    {
     "name": "stdout",
     "output_type": "stream",
     "text": [
      "Execute the following in a terminal:\n",
      "\n",
      "tensorboard --logdir=/home/schindler/tensorboard\n"
     ]
    }
   ],
   "source": [
    "print(\"Execute the following in a terminal:\\n\")\n",
    "print(\"tensorboard --logdir=\" + TB_LOGDIR)"
   ]
  },
  {
   "cell_type": "code",
   "execution_count": 52,
   "metadata": {
    "collapsed": true
   },
   "outputs": [],
   "source": [
    "# initialize TensorBoard in Python\n",
    "tensorboard = TensorBoard(log_dir = tb_logdir_cur)\n",
    "\n",
    "# + add to callbacks\n",
    "callbacks = [tensorboard]"
   ]
  },
  {
   "cell_type": "markdown",
   "metadata": {},
   "source": [
    "Then open Tensorboard in browser:\n",
    "\n",
    "http://localhost:6006"
   ]
  },
  {
   "cell_type": "markdown",
   "metadata": {},
   "source": [
    "## Training"
   ]
  },
  {
   "cell_type": "code",
   "execution_count": 53,
   "metadata": {},
   "outputs": [
    {
     "name": "stdout",
     "output_type": "stream",
     "text": [
      "binary_crossentropy\n",
      "<keras.optimizers.Adam object at 0x7f6850fa47b8>\n",
      "['accuracy', <function precision at 0x7f68f5674598>, <function recall at 0x7f68f5674510>]\n",
      "Batch size: 32 Epochs: 30\n"
     ]
    }
   ],
   "source": [
    "# Summary of Training options\n",
    "\n",
    "print(loss)\n",
    "print(optimizer)\n",
    "print(metrics)\n",
    "print(\"Batch size:\", batch_size, \"Epochs:\", epochs)"
   ]
  },
  {
   "cell_type": "code",
   "execution_count": 54,
   "metadata": {
    "collapsed": true
   },
   "outputs": [],
   "source": [
    "# COMPILE MODEL\n",
    "\n",
    "model.compile(loss=loss, metrics=metrics, optimizer=optimizer)"
   ]
  },
  {
   "cell_type": "code",
   "execution_count": 55,
   "metadata": {
    "collapsed": true
   },
   "outputs": [],
   "source": [
    "# past_epochs is only for the case that we execute the next code box multiple times (so that Tensorboard is displaying properly)\n",
    "past_epochs = 0"
   ]
  },
  {
   "cell_type": "code",
   "execution_count": 56,
   "metadata": {
    "scrolled": false
   },
   "outputs": [
    {
     "name": "stdout",
     "output_type": "stream",
     "text": [
      "Train on 647 samples, validate on 72 samples\n",
      "Epoch 1/30\n",
      "647/647 [==============================] - 5s 8ms/step - loss: 0.9370 - acc: 0.6832 - precision: 0.7656 - recall: 0.8142 - val_loss: 0.7402 - val_acc: 0.7500 - val_precision: 0.7464 - val_recall: 1.0000\n",
      "Epoch 2/30\n",
      "647/647 [==============================] - 3s 4ms/step - loss: 0.5887 - acc: 0.7172 - precision: 0.7577 - recall: 0.8972 - val_loss: 0.7986 - val_acc: 0.7361 - val_precision: 0.7500 - val_recall: 0.9630\n",
      "Epoch 3/30\n",
      "647/647 [==============================] - 3s 4ms/step - loss: 0.4654 - acc: 0.7697 - precision: 0.8023 - recall: 0.8973 - val_loss: 0.4519 - val_acc: 0.7917 - val_precision: 0.8774 - val_recall: 0.8317\n",
      "Epoch 4/30\n",
      "647/647 [==============================] - 3s 4ms/step - loss: 0.3602 - acc: 0.8454 - precision: 0.8898 - recall: 0.8973 - val_loss: 0.4908 - val_acc: 0.8194 - val_precision: 0.9011 - val_recall: 0.8494\n",
      "Epoch 5/30\n",
      "647/647 [==============================] - 3s 4ms/step - loss: 0.3200 - acc: 0.8655 - precision: 0.8861 - recall: 0.9307 - val_loss: 0.7158 - val_acc: 0.5833 - val_precision: 0.8636 - val_recall: 0.5072\n",
      "Epoch 6/30\n",
      "647/647 [==============================] - 3s 4ms/step - loss: 0.3386 - acc: 0.8563 - precision: 0.8862 - recall: 0.9157 - val_loss: 0.4025 - val_acc: 0.8333 - val_precision: 0.9391 - val_recall: 0.8301\n",
      "Epoch 7/30\n",
      "647/647 [==============================] - 3s 4ms/step - loss: 0.2969 - acc: 0.8779 - precision: 0.9043 - recall: 0.9244 - val_loss: 0.4398 - val_acc: 0.8472 - val_precision: 0.9352 - val_recall: 0.8494\n",
      "Epoch 8/30\n",
      "647/647 [==============================] - 3s 4ms/step - loss: 0.2657 - acc: 0.8887 - precision: 0.9270 - recall: 0.9201 - val_loss: 0.6171 - val_acc: 0.6111 - val_precision: 0.9016 - val_recall: 0.5258\n",
      "Epoch 9/30\n",
      "647/647 [==============================] - 3s 4ms/step - loss: 0.2259 - acc: 0.9119 - precision: 0.9398 - recall: 0.9375 - val_loss: 0.5775 - val_acc: 0.7083 - val_precision: 0.9183 - val_recall: 0.6586\n",
      "Epoch 10/30\n",
      "647/647 [==============================] - 3s 4ms/step - loss: 0.1981 - acc: 0.9212 - precision: 0.9413 - recall: 0.9482 - val_loss: 1.2315 - val_acc: 0.5556 - val_precision: 0.9185 - val_recall: 0.4332\n",
      "Epoch 11/30\n",
      "647/647 [==============================] - 3s 4ms/step - loss: 0.2562 - acc: 0.8934 - precision: 0.9384 - recall: 0.9105 - val_loss: 0.4083 - val_acc: 0.8056 - val_precision: 0.9576 - val_recall: 0.7721\n",
      "Epoch 12/30\n",
      "647/647 [==============================] - 3s 4ms/step - loss: 0.1828 - acc: 0.9320 - precision: 0.9462 - recall: 0.9564 - val_loss: 0.6737 - val_acc: 0.6667 - val_precision: 0.9630 - val_recall: 0.5636\n",
      "Epoch 13/30\n",
      "647/647 [==============================] - 3s 4ms/step - loss: 0.2094 - acc: 0.9165 - precision: 0.9435 - recall: 0.9398 - val_loss: 0.7844 - val_acc: 0.6111 - val_precision: 0.9016 - val_recall: 0.5258\n",
      "Epoch 14/30\n",
      "647/647 [==============================] - 3s 4ms/step - loss: 0.1932 - acc: 0.9289 - precision: 0.9458 - recall: 0.9567 - val_loss: 0.9835 - val_acc: 0.5694 - val_precision: 1.0000 - val_recall: 0.4130\n",
      "Epoch 15/30\n",
      "647/647 [==============================] - 3s 4ms/step - loss: 0.1627 - acc: 0.9413 - precision: 0.9638 - recall: 0.9576 - val_loss: 0.5039 - val_acc: 0.7500 - val_precision: 0.9418 - val_recall: 0.6973\n",
      "Epoch 16/30\n",
      "647/647 [==============================] - 3s 4ms/step - loss: 0.1708 - acc: 0.9274 - precision: 0.9416 - recall: 0.9563 - val_loss: 0.8916 - val_acc: 0.5694 - val_precision: 0.9630 - val_recall: 0.4324\n",
      "Epoch 17/30\n",
      "647/647 [==============================] - 3s 4ms/step - loss: 0.1591 - acc: 0.9335 - precision: 0.9552 - recall: 0.9491 - val_loss: 0.5179 - val_acc: 0.8333 - val_precision: 0.8999 - val_recall: 0.8671\n",
      "Epoch 18/30\n",
      "647/647 [==============================] - 3s 4ms/step - loss: 0.1433 - acc: 0.9459 - precision: 0.9505 - recall: 0.9726 - val_loss: 0.6573 - val_acc: 0.7500 - val_precision: 0.9722 - val_recall: 0.6771\n",
      "Epoch 19/30\n",
      "647/647 [==============================] - 3s 4ms/step - loss: 0.1176 - acc: 0.9614 - precision: 0.9741 - recall: 0.9709 - val_loss: 0.4479 - val_acc: 0.8333 - val_precision: 0.9576 - val_recall: 0.8108\n",
      "Epoch 20/30\n",
      "647/647 [==============================] - 3s 4ms/step - loss: 0.1195 - acc: 0.9598 - precision: 0.9664 - recall: 0.9777 - val_loss: 1.4823 - val_acc: 0.5556 - val_precision: 1.0000 - val_recall: 0.3953\n",
      "Epoch 21/30\n",
      "647/647 [==============================] - 3s 4ms/step - loss: 0.0855 - acc: 0.9768 - precision: 0.9845 - recall: 0.9833 - val_loss: 1.0801 - val_acc: 0.5833 - val_precision: 1.0000 - val_recall: 0.4316\n",
      "Epoch 22/30\n",
      "647/647 [==============================] - 3s 4ms/step - loss: 0.0873 - acc: 0.9753 - precision: 0.9757 - recall: 0.9888 - val_loss: 1.4170 - val_acc: 0.5417 - val_precision: 0.9722 - val_recall: 0.3945\n",
      "Epoch 23/30\n",
      "647/647 [==============================] - 3s 4ms/step - loss: 0.0863 - acc: 0.9691 - precision: 0.9782 - recall: 0.9800 - val_loss: 0.6794 - val_acc: 0.7361 - val_precision: 0.9556 - val_recall: 0.6771\n",
      "Epoch 24/30\n",
      "647/647 [==============================] - 3s 4ms/step - loss: 0.0556 - acc: 0.9876 - precision: 0.9933 - recall: 0.9887 - val_loss: 0.8412 - val_acc: 0.6250 - val_precision: 0.9461 - val_recall: 0.5258\n",
      "Epoch 25/30\n",
      "647/647 [==============================] - 3s 4ms/step - loss: 0.0485 - acc: 0.9876 - precision: 0.9960 - recall: 0.9865 - val_loss: 0.7467 - val_acc: 0.7083 - val_precision: 0.9183 - val_recall: 0.6586\n",
      "Epoch 26/30\n",
      "647/647 [==============================] - 3s 4ms/step - loss: 0.0463 - acc: 0.9845 - precision: 0.9892 - recall: 0.9896 - val_loss: 0.6929 - val_acc: 0.7083 - val_precision: 0.9722 - val_recall: 0.6216\n",
      "Epoch 27/30\n",
      "647/647 [==============================] - 3s 4ms/step - loss: 0.0379 - acc: 0.9938 - precision: 0.9957 - recall: 0.9963 - val_loss: 0.9432 - val_acc: 0.6389 - val_precision: 0.9722 - val_recall: 0.5258\n",
      "Epoch 28/30\n",
      "647/647 [==============================] - 3s 4ms/step - loss: 0.0369 - acc: 0.9907 - precision: 0.9893 - recall: 0.9966 - val_loss: 0.6982 - val_acc: 0.7500 - val_precision: 0.9722 - val_recall: 0.6771\n",
      "Epoch 29/30\n",
      "647/647 [==============================] - 3s 4ms/step - loss: 0.0330 - acc: 0.9938 - precision: 0.9936 - recall: 0.9978 - val_loss: 0.5670 - val_acc: 0.8611 - val_precision: 0.9585 - val_recall: 0.8486\n",
      "Epoch 30/30\n",
      "647/647 [==============================] - 3s 4ms/step - loss: 0.0281 - acc: 0.9969 - precision: 0.9982 - recall: 0.9976 - val_loss: 0.5076 - val_acc: 0.8472 - val_precision: 0.9362 - val_recall: 0.8486\n"
     ]
    }
   ],
   "source": [
    "# START TRAINING\n",
    "\n",
    "history = model.fit(train_set, train_classes, \n",
    "                     validation_split=validation_split,\n",
    "                     #validation_data=(X_test,y_test), \n",
    "                     epochs=epochs, \n",
    "                     initial_epoch=past_epochs,\n",
    "                     batch_size=batch_size, \n",
    "                     callbacks=callbacks\n",
    "                     )\n",
    "\n",
    "past_epochs += epochs"
   ]
  },
  {
   "cell_type": "markdown",
   "metadata": {},
   "source": [
    "### Verifying Accuracy on Test Set"
   ]
  },
  {
   "cell_type": "code",
   "execution_count": 57,
   "metadata": {
    "scrolled": true
   },
   "outputs": [
    {
     "data": {
      "text/plain": [
       "array([[1.0000000e+00],\n",
       "       [9.2034358e-01],\n",
       "       [8.6222380e-01],\n",
       "       [9.9999821e-01],\n",
       "       [8.7224616e-04],\n",
       "       [1.5277641e-02],\n",
       "       [9.9998999e-01],\n",
       "       [9.9984491e-01],\n",
       "       [9.9999988e-01],\n",
       "       [5.1573163e-01]], dtype=float32)"
      ]
     },
     "execution_count": 57,
     "metadata": {},
     "output_type": "execute_result"
    }
   ],
   "source": [
    "# compute probabilities for the classes (= get outputs of output layer)\n",
    "test_pred_prob = model.predict(test_set)\n",
    "test_pred_prob[0:10]"
   ]
  },
  {
   "cell_type": "code",
   "execution_count": 58,
   "metadata": {},
   "outputs": [
    {
     "data": {
      "text/plain": [
       "array([[1.],\n",
       "       [1.],\n",
       "       [1.],\n",
       "       [1.],\n",
       "       [0.],\n",
       "       [0.],\n",
       "       [1.],\n",
       "       [1.],\n",
       "       [1.],\n",
       "       [1.]], dtype=float32)"
      ]
     },
     "execution_count": 58,
     "metadata": {},
     "output_type": "execute_result"
    }
   ],
   "source": [
    "# to get the predicted class we have to round 0 < 0.5 > 1\n",
    "test_pred = np.round(test_pred_prob)\n",
    "test_pred[0:10]"
   ]
  },
  {
   "cell_type": "code",
   "execution_count": 59,
   "metadata": {},
   "outputs": [
    {
     "data": {
      "text/plain": [
       "0.8708333333333333"
      ]
     },
     "execution_count": 59,
     "metadata": {},
     "output_type": "execute_result"
    }
   ],
   "source": [
    "# get final Accuracy\n",
    "accuracy_score(test_classes, test_pred)"
   ]
  },
  {
   "cell_type": "markdown",
   "metadata": {},
   "source": [
    "# 2) Genre Classification\n",
    "\n",
    "this is a single-label / multi-class task (multiple categories, but decision needs to be for 1 of them)"
   ]
  },
  {
   "cell_type": "markdown",
   "metadata": {},
   "source": [
    "## Prepare Metadata\n",
    "\n",
    "we start with the original metadata"
   ]
  },
  {
   "cell_type": "code",
   "execution_count": 60,
   "metadata": {},
   "outputs": [
    {
     "data": {
      "text/html": [
       "<div>\n",
       "<style scoped>\n",
       "    .dataframe tbody tr th:only-of-type {\n",
       "        vertical-align: middle;\n",
       "    }\n",
       "\n",
       "    .dataframe tbody tr th {\n",
       "        vertical-align: top;\n",
       "    }\n",
       "\n",
       "    .dataframe thead th {\n",
       "        text-align: right;\n",
       "    }\n",
       "</style>\n",
       "<table border=\"1\" class=\"dataframe\">\n",
       "  <thead>\n",
       "    <tr style=\"text-align: right;\">\n",
       "      <th></th>\n",
       "      <th>no voice</th>\n",
       "      <th>singer</th>\n",
       "      <th>duet</th>\n",
       "      <th>plucking</th>\n",
       "      <th>hard rock</th>\n",
       "      <th>world</th>\n",
       "      <th>bongos</th>\n",
       "      <th>harpsichord</th>\n",
       "      <th>female singing</th>\n",
       "      <th>clasical</th>\n",
       "      <th>...</th>\n",
       "      <th>female singer</th>\n",
       "      <th>rap</th>\n",
       "      <th>metal</th>\n",
       "      <th>hip hop</th>\n",
       "      <th>quick</th>\n",
       "      <th>water</th>\n",
       "      <th>baroque</th>\n",
       "      <th>women</th>\n",
       "      <th>fiddle</th>\n",
       "      <th>english</th>\n",
       "    </tr>\n",
       "    <tr>\n",
       "      <th>mp3_path</th>\n",
       "      <th></th>\n",
       "      <th></th>\n",
       "      <th></th>\n",
       "      <th></th>\n",
       "      <th></th>\n",
       "      <th></th>\n",
       "      <th></th>\n",
       "      <th></th>\n",
       "      <th></th>\n",
       "      <th></th>\n",
       "      <th></th>\n",
       "      <th></th>\n",
       "      <th></th>\n",
       "      <th></th>\n",
       "      <th></th>\n",
       "      <th></th>\n",
       "      <th></th>\n",
       "      <th></th>\n",
       "      <th></th>\n",
       "      <th></th>\n",
       "      <th></th>\n",
       "    </tr>\n",
       "  </thead>\n",
       "  <tbody>\n",
       "    <tr>\n",
       "      <th>d/ambient_teknology-the_all_seeing_eye_project-01-cyclops-262-291.mp3</th>\n",
       "      <td>0</td>\n",
       "      <td>0</td>\n",
       "      <td>0</td>\n",
       "      <td>0</td>\n",
       "      <td>0</td>\n",
       "      <td>0</td>\n",
       "      <td>0</td>\n",
       "      <td>0</td>\n",
       "      <td>0</td>\n",
       "      <td>0</td>\n",
       "      <td>...</td>\n",
       "      <td>0</td>\n",
       "      <td>0</td>\n",
       "      <td>0</td>\n",
       "      <td>0</td>\n",
       "      <td>0</td>\n",
       "      <td>0</td>\n",
       "      <td>0</td>\n",
       "      <td>0</td>\n",
       "      <td>0</td>\n",
       "      <td>0</td>\n",
       "    </tr>\n",
       "    <tr>\n",
       "      <th>d/ambient_teknology-the_all_seeing_eye_project-02-all_seeing_eye-175-204.mp3</th>\n",
       "      <td>0</td>\n",
       "      <td>0</td>\n",
       "      <td>0</td>\n",
       "      <td>0</td>\n",
       "      <td>0</td>\n",
       "      <td>0</td>\n",
       "      <td>0</td>\n",
       "      <td>0</td>\n",
       "      <td>0</td>\n",
       "      <td>0</td>\n",
       "      <td>...</td>\n",
       "      <td>0</td>\n",
       "      <td>0</td>\n",
       "      <td>0</td>\n",
       "      <td>0</td>\n",
       "      <td>0</td>\n",
       "      <td>0</td>\n",
       "      <td>0</td>\n",
       "      <td>0</td>\n",
       "      <td>0</td>\n",
       "      <td>0</td>\n",
       "    </tr>\n",
       "    <tr>\n",
       "      <th>d/ambient_teknology-the_all_seeing_eye_project-03-black-175-204.mp3</th>\n",
       "      <td>0</td>\n",
       "      <td>0</td>\n",
       "      <td>0</td>\n",
       "      <td>0</td>\n",
       "      <td>0</td>\n",
       "      <td>0</td>\n",
       "      <td>0</td>\n",
       "      <td>0</td>\n",
       "      <td>0</td>\n",
       "      <td>0</td>\n",
       "      <td>...</td>\n",
       "      <td>0</td>\n",
       "      <td>0</td>\n",
       "      <td>0</td>\n",
       "      <td>0</td>\n",
       "      <td>0</td>\n",
       "      <td>0</td>\n",
       "      <td>0</td>\n",
       "      <td>0</td>\n",
       "      <td>0</td>\n",
       "      <td>0</td>\n",
       "    </tr>\n",
       "    <tr>\n",
       "      <th>d/ambient_teknology-the_all_seeing_eye_project-04-confusion_says-88-117.mp3</th>\n",
       "      <td>0</td>\n",
       "      <td>0</td>\n",
       "      <td>0</td>\n",
       "      <td>0</td>\n",
       "      <td>0</td>\n",
       "      <td>0</td>\n",
       "      <td>0</td>\n",
       "      <td>0</td>\n",
       "      <td>0</td>\n",
       "      <td>0</td>\n",
       "      <td>...</td>\n",
       "      <td>0</td>\n",
       "      <td>0</td>\n",
       "      <td>0</td>\n",
       "      <td>0</td>\n",
       "      <td>0</td>\n",
       "      <td>0</td>\n",
       "      <td>0</td>\n",
       "      <td>0</td>\n",
       "      <td>0</td>\n",
       "      <td>0</td>\n",
       "    </tr>\n",
       "    <tr>\n",
       "      <th>d/ambient_teknology-the_all_seeing_eye_project-05-the_beholder-291-320.mp3</th>\n",
       "      <td>0</td>\n",
       "      <td>0</td>\n",
       "      <td>0</td>\n",
       "      <td>0</td>\n",
       "      <td>0</td>\n",
       "      <td>0</td>\n",
       "      <td>0</td>\n",
       "      <td>0</td>\n",
       "      <td>0</td>\n",
       "      <td>0</td>\n",
       "      <td>...</td>\n",
       "      <td>0</td>\n",
       "      <td>0</td>\n",
       "      <td>0</td>\n",
       "      <td>0</td>\n",
       "      <td>0</td>\n",
       "      <td>0</td>\n",
       "      <td>0</td>\n",
       "      <td>0</td>\n",
       "      <td>0</td>\n",
       "      <td>0</td>\n",
       "    </tr>\n",
       "  </tbody>\n",
       "</table>\n",
       "<p>5 rows × 188 columns</p>\n",
       "</div>"
      ],
      "text/plain": [
       "                                                    no voice  singer  duet  \\\n",
       "mp3_path                                                                     \n",
       "d/ambient_teknology-the_all_seeing_eye_project-...         0       0     0   \n",
       "d/ambient_teknology-the_all_seeing_eye_project-...         0       0     0   \n",
       "d/ambient_teknology-the_all_seeing_eye_project-...         0       0     0   \n",
       "d/ambient_teknology-the_all_seeing_eye_project-...         0       0     0   \n",
       "d/ambient_teknology-the_all_seeing_eye_project-...         0       0     0   \n",
       "\n",
       "                                                    plucking  hard rock  \\\n",
       "mp3_path                                                                  \n",
       "d/ambient_teknology-the_all_seeing_eye_project-...         0          0   \n",
       "d/ambient_teknology-the_all_seeing_eye_project-...         0          0   \n",
       "d/ambient_teknology-the_all_seeing_eye_project-...         0          0   \n",
       "d/ambient_teknology-the_all_seeing_eye_project-...         0          0   \n",
       "d/ambient_teknology-the_all_seeing_eye_project-...         0          0   \n",
       "\n",
       "                                                    world  bongos  \\\n",
       "mp3_path                                                            \n",
       "d/ambient_teknology-the_all_seeing_eye_project-...      0       0   \n",
       "d/ambient_teknology-the_all_seeing_eye_project-...      0       0   \n",
       "d/ambient_teknology-the_all_seeing_eye_project-...      0       0   \n",
       "d/ambient_teknology-the_all_seeing_eye_project-...      0       0   \n",
       "d/ambient_teknology-the_all_seeing_eye_project-...      0       0   \n",
       "\n",
       "                                                    harpsichord  \\\n",
       "mp3_path                                                          \n",
       "d/ambient_teknology-the_all_seeing_eye_project-...            0   \n",
       "d/ambient_teknology-the_all_seeing_eye_project-...            0   \n",
       "d/ambient_teknology-the_all_seeing_eye_project-...            0   \n",
       "d/ambient_teknology-the_all_seeing_eye_project-...            0   \n",
       "d/ambient_teknology-the_all_seeing_eye_project-...            0   \n",
       "\n",
       "                                                    female singing  clasical  \\\n",
       "mp3_path                                                                       \n",
       "d/ambient_teknology-the_all_seeing_eye_project-...               0         0   \n",
       "d/ambient_teknology-the_all_seeing_eye_project-...               0         0   \n",
       "d/ambient_teknology-the_all_seeing_eye_project-...               0         0   \n",
       "d/ambient_teknology-the_all_seeing_eye_project-...               0         0   \n",
       "d/ambient_teknology-the_all_seeing_eye_project-...               0         0   \n",
       "\n",
       "                                                     ...     female singer  \\\n",
       "mp3_path                                             ...                     \n",
       "d/ambient_teknology-the_all_seeing_eye_project-...   ...                 0   \n",
       "d/ambient_teknology-the_all_seeing_eye_project-...   ...                 0   \n",
       "d/ambient_teknology-the_all_seeing_eye_project-...   ...                 0   \n",
       "d/ambient_teknology-the_all_seeing_eye_project-...   ...                 0   \n",
       "d/ambient_teknology-the_all_seeing_eye_project-...   ...                 0   \n",
       "\n",
       "                                                    rap  metal  hip hop  \\\n",
       "mp3_path                                                                  \n",
       "d/ambient_teknology-the_all_seeing_eye_project-...    0      0        0   \n",
       "d/ambient_teknology-the_all_seeing_eye_project-...    0      0        0   \n",
       "d/ambient_teknology-the_all_seeing_eye_project-...    0      0        0   \n",
       "d/ambient_teknology-the_all_seeing_eye_project-...    0      0        0   \n",
       "d/ambient_teknology-the_all_seeing_eye_project-...    0      0        0   \n",
       "\n",
       "                                                    quick  water  baroque  \\\n",
       "mp3_path                                                                    \n",
       "d/ambient_teknology-the_all_seeing_eye_project-...      0      0        0   \n",
       "d/ambient_teknology-the_all_seeing_eye_project-...      0      0        0   \n",
       "d/ambient_teknology-the_all_seeing_eye_project-...      0      0        0   \n",
       "d/ambient_teknology-the_all_seeing_eye_project-...      0      0        0   \n",
       "d/ambient_teknology-the_all_seeing_eye_project-...      0      0        0   \n",
       "\n",
       "                                                    women  fiddle  english  \n",
       "mp3_path                                                                    \n",
       "d/ambient_teknology-the_all_seeing_eye_project-...      0       0        0  \n",
       "d/ambient_teknology-the_all_seeing_eye_project-...      0       0        0  \n",
       "d/ambient_teknology-the_all_seeing_eye_project-...      0       0        0  \n",
       "d/ambient_teknology-the_all_seeing_eye_project-...      0       0        0  \n",
       "d/ambient_teknology-the_all_seeing_eye_project-...      0       0        0  \n",
       "\n",
       "[5 rows x 188 columns]"
      ]
     },
     "execution_count": 60,
     "metadata": {},
     "output_type": "execute_result"
    }
   ],
   "source": [
    "metadata.head()"
   ]
  },
  {
   "cell_type": "code",
   "execution_count": 61,
   "metadata": {},
   "outputs": [
    {
     "name": "stdout",
     "output_type": "stream",
     "text": [
      "['no voice', 'singer', 'duet', 'plucking', 'hard rock', 'world', 'bongos', 'harpsichord', 'female singing', 'clasical', 'sitar', 'chorus', 'female opera', 'male vocal', 'vocals', 'clarinet', 'heavy', 'silence', 'beats', 'men', 'woodwind', 'funky', 'no strings', 'chimes', 'foreign', 'no piano', 'horns', 'classical', 'female', 'no voices', 'soft rock', 'eerie', 'spacey', 'jazz', 'guitar', 'quiet', 'no beat', 'banjo', 'electric', 'solo', 'violins', 'folk', 'female voice', 'wind', 'happy', 'ambient', 'new age', 'synth', 'funk', 'no singing', 'middle eastern', 'trumpet', 'percussion', 'drum', 'airy', 'voice', 'repetitive', 'birds', 'space', 'strings', 'bass', 'harpsicord', 'medieval', 'male voice', 'girl', 'keyboard', 'acoustic', 'loud', 'classic', 'string', 'drums', 'electronic', 'not classical', 'chanting', 'no violin', 'not rock', 'no guitar', 'organ', 'no vocal', 'talking', 'choral', 'weird', 'opera', 'soprano', 'fast', 'acoustic guitar', 'electric guitar', 'male singer', 'man singing', 'classical guitar', 'country', 'violin', 'electro', 'reggae', 'tribal', 'dark', 'male opera', 'no vocals', 'irish', 'electronica', 'horn', 'operatic', 'arabic', 'lol', 'low', 'instrumental', 'trance', 'chant', 'strange', 'drone', 'synthesizer', 'heavy metal', 'modern', 'disco', 'bells', 'man', 'deep', 'fast beat', 'industrial', 'hard', 'harp', 'no flute', 'jungle', 'pop', 'lute', 'female vocal', 'oboe', 'mellow', 'orchestral', 'viola', 'light', 'echo', 'piano', 'celtic', 'male vocals', 'orchestra', 'eastern', 'old', 'flutes', 'punk', 'spanish', 'sad', 'sax', 'slow', 'male', 'blues', 'vocal', 'indian', 'no singer', 'scary', 'india', 'woman', 'woman singing', 'rock', 'dance', 'piano solo', 'guitars', 'no drums', 'jazzy', 'singing', 'cello', 'calm', 'female vocals', 'voices', 'different', 'techno', 'clapping', 'house', 'monks', 'flute', 'not opera', 'not english', 'oriental', 'beat', 'upbeat', 'soft', 'noise', 'choir', 'female singer', 'rap', 'metal', 'hip hop', 'quick', 'water', 'baroque', 'women', 'fiddle', 'english']\n"
     ]
    }
   ],
   "source": [
    "# check which columns are available\n",
    "tags_all = metadata.columns.tolist()\n",
    "print(tags_all)"
   ]
  },
  {
   "cell_type": "code",
   "execution_count": 62,
   "metadata": {},
   "outputs": [
    {
     "data": {
      "text/plain": [
       "188"
      ]
     },
     "execution_count": 62,
     "metadata": {},
     "output_type": "execute_result"
    }
   ],
   "source": [
    "len(tags_all)"
   ]
  },
  {
   "cell_type": "code",
   "execution_count": 63,
   "metadata": {},
   "outputs": [
    {
     "data": {
      "text/plain": [
       "5"
      ]
     },
     "execution_count": 63,
     "metadata": {},
     "output_type": "execute_result"
    }
   ],
   "source": [
    "genres = ['classical', 'rock', 'pop', 'jazz', 'techno'] # 'electronic', ## too little data: , 'reggae', 'metal', 'hip hop']\n",
    "\n",
    "n_genres = len(genres)\n",
    "n_genres"
   ]
  },
  {
   "cell_type": "code",
   "execution_count": 64,
   "metadata": {
    "scrolled": true
   },
   "outputs": [
    {
     "data": {
      "text/html": [
       "<div>\n",
       "<style scoped>\n",
       "    .dataframe tbody tr th:only-of-type {\n",
       "        vertical-align: middle;\n",
       "    }\n",
       "\n",
       "    .dataframe tbody tr th {\n",
       "        vertical-align: top;\n",
       "    }\n",
       "\n",
       "    .dataframe thead th {\n",
       "        text-align: right;\n",
       "    }\n",
       "</style>\n",
       "<table border=\"1\" class=\"dataframe\">\n",
       "  <thead>\n",
       "    <tr style=\"text-align: right;\">\n",
       "      <th></th>\n",
       "      <th>classical</th>\n",
       "      <th>rock</th>\n",
       "      <th>pop</th>\n",
       "      <th>jazz</th>\n",
       "      <th>techno</th>\n",
       "    </tr>\n",
       "    <tr>\n",
       "      <th>mp3_path</th>\n",
       "      <th></th>\n",
       "      <th></th>\n",
       "      <th></th>\n",
       "      <th></th>\n",
       "      <th></th>\n",
       "    </tr>\n",
       "  </thead>\n",
       "  <tbody>\n",
       "    <tr>\n",
       "      <th>d/ambient_teknology-the_all_seeing_eye_project-01-cyclops-262-291.mp3</th>\n",
       "      <td>0</td>\n",
       "      <td>0</td>\n",
       "      <td>0</td>\n",
       "      <td>0</td>\n",
       "      <td>0</td>\n",
       "    </tr>\n",
       "    <tr>\n",
       "      <th>d/ambient_teknology-the_all_seeing_eye_project-02-all_seeing_eye-175-204.mp3</th>\n",
       "      <td>0</td>\n",
       "      <td>0</td>\n",
       "      <td>0</td>\n",
       "      <td>0</td>\n",
       "      <td>1</td>\n",
       "    </tr>\n",
       "    <tr>\n",
       "      <th>d/ambient_teknology-the_all_seeing_eye_project-03-black-175-204.mp3</th>\n",
       "      <td>0</td>\n",
       "      <td>0</td>\n",
       "      <td>0</td>\n",
       "      <td>0</td>\n",
       "      <td>1</td>\n",
       "    </tr>\n",
       "    <tr>\n",
       "      <th>d/ambient_teknology-the_all_seeing_eye_project-04-confusion_says-88-117.mp3</th>\n",
       "      <td>0</td>\n",
       "      <td>0</td>\n",
       "      <td>0</td>\n",
       "      <td>0</td>\n",
       "      <td>1</td>\n",
       "    </tr>\n",
       "    <tr>\n",
       "      <th>d/ambient_teknology-the_all_seeing_eye_project-05-the_beholder-291-320.mp3</th>\n",
       "      <td>0</td>\n",
       "      <td>0</td>\n",
       "      <td>0</td>\n",
       "      <td>0</td>\n",
       "      <td>1</td>\n",
       "    </tr>\n",
       "    <tr>\n",
       "      <th>d/ambient_teknology-the_all_seeing_eye_project-06-cyead-378-407.mp3</th>\n",
       "      <td>0</td>\n",
       "      <td>0</td>\n",
       "      <td>0</td>\n",
       "      <td>0</td>\n",
       "      <td>1</td>\n",
       "    </tr>\n",
       "    <tr>\n",
       "      <th>d/ambient_teknology-the_all_seeing_eye_project-07-telekonology-117-146.mp3</th>\n",
       "      <td>0</td>\n",
       "      <td>0</td>\n",
       "      <td>0</td>\n",
       "      <td>0</td>\n",
       "      <td>1</td>\n",
       "    </tr>\n",
       "    <tr>\n",
       "      <th>0/american_bach_soloists-j_s__bach__cantatas_volume_v-01-gleichwie_der_regen_und_schnee_vom_himmel_fallt_bwv_18_i_sinfonia-117-146.mp3</th>\n",
       "      <td>1</td>\n",
       "      <td>0</td>\n",
       "      <td>0</td>\n",
       "      <td>0</td>\n",
       "      <td>0</td>\n",
       "    </tr>\n",
       "    <tr>\n",
       "      <th>0/american_bach_soloists-j_s__bach__cantatas_volume_v-02-gleichwie_der_regen_und_schnee_vom_himmel_fallt_bwv_18_ii_recitative__gleichwie_der_regen_und_schnee-30-59.mp3</th>\n",
       "      <td>0</td>\n",
       "      <td>0</td>\n",
       "      <td>0</td>\n",
       "      <td>0</td>\n",
       "      <td>0</td>\n",
       "    </tr>\n",
       "    <tr>\n",
       "      <th>0/american_bach_soloists-j_s__bach__cantatas_volume_v-03-gleichwie_der_regen_und_schnee_vom_himmel_fallt_bwv_18_iii_recitative_and_litany__mein_gott_hier_wird_mein_herze_sein-88-117.mp3</th>\n",
       "      <td>0</td>\n",
       "      <td>0</td>\n",
       "      <td>0</td>\n",
       "      <td>0</td>\n",
       "      <td>0</td>\n",
       "    </tr>\n",
       "    <tr>\n",
       "      <th>0/american_bach_soloists-j_s__bach__cantatas_volume_v-04-gleichwie_der_regen_und_schnee_vom_himmel_fallt_bwv_18_iv_aria__mein_seelenschatz_ist_gottes_wort-146-175.mp3</th>\n",
       "      <td>1</td>\n",
       "      <td>0</td>\n",
       "      <td>0</td>\n",
       "      <td>0</td>\n",
       "      <td>0</td>\n",
       "    </tr>\n",
       "    <tr>\n",
       "      <th>0/american_bach_soloists-j_s__bach__cantatas_volume_v-06-weinen_klagen_sorgen_zagen_bwv_12_i_sinfonia-88-117.mp3</th>\n",
       "      <td>1</td>\n",
       "      <td>0</td>\n",
       "      <td>0</td>\n",
       "      <td>0</td>\n",
       "      <td>0</td>\n",
       "    </tr>\n",
       "    <tr>\n",
       "      <th>0/american_bach_soloists-j_s__bach__cantatas_volume_v-07-weinen_klagen_sorgen_zagen_bwv_12_ii_chorus__weinen_klagen_sorgen_zagen-262-291.mp3</th>\n",
       "      <td>0</td>\n",
       "      <td>0</td>\n",
       "      <td>0</td>\n",
       "      <td>0</td>\n",
       "      <td>0</td>\n",
       "    </tr>\n",
       "    <tr>\n",
       "      <th>0/american_bach_soloists-j_s__bach__cantatas_volume_v-08-weinen_klagen_sorgen_zagen_bwv_12_iii_recitative__wir_mussen_durch_viel_truebsal-0-29.mp3</th>\n",
       "      <td>1</td>\n",
       "      <td>0</td>\n",
       "      <td>0</td>\n",
       "      <td>0</td>\n",
       "      <td>0</td>\n",
       "    </tr>\n",
       "    <tr>\n",
       "      <th>0/american_bach_soloists-j_s__bach__cantatas_volume_v-09-weinen_klagen_sorgen_zagen_bwv_12_iv_aria__kreuz_und_krone_sind_verbunden-59-88.mp3</th>\n",
       "      <td>1</td>\n",
       "      <td>0</td>\n",
       "      <td>0</td>\n",
       "      <td>0</td>\n",
       "      <td>0</td>\n",
       "    </tr>\n",
       "    <tr>\n",
       "      <th>0/american_bach_soloists-j_s__bach__cantatas_volume_v-10-weinen_klagen_sorgen_zagen_bwv_12_v_aria__ich_folge_christo_nach-88-117.mp3</th>\n",
       "      <td>0</td>\n",
       "      <td>0</td>\n",
       "      <td>0</td>\n",
       "      <td>0</td>\n",
       "      <td>0</td>\n",
       "    </tr>\n",
       "    <tr>\n",
       "      <th>0/american_bach_soloists-j_s__bach__cantatas_volume_v-11-weinen_klagen_sorgen_zagen_bwv_12_vi_aria__sei_getreu-88-117.mp3</th>\n",
       "      <td>0</td>\n",
       "      <td>0</td>\n",
       "      <td>0</td>\n",
       "      <td>0</td>\n",
       "      <td>0</td>\n",
       "    </tr>\n",
       "    <tr>\n",
       "      <th>0/american_bach_soloists-j_s__bach__cantatas_volume_v-13-nun_komm_der_heiden_heiland_bwv_61_i_ouverture__nun_komm_der_heiden_heiland-59-88.mp3</th>\n",
       "      <td>0</td>\n",
       "      <td>0</td>\n",
       "      <td>0</td>\n",
       "      <td>0</td>\n",
       "      <td>0</td>\n",
       "    </tr>\n",
       "    <tr>\n",
       "      <th>0/american_bach_soloists-j_s__bach__cantatas_volume_v-14-nun_komm_der_heiden_heiland_bwv_61_ii_recitative__der_heiland_ist_gekommen-30-59.mp3</th>\n",
       "      <td>0</td>\n",
       "      <td>0</td>\n",
       "      <td>0</td>\n",
       "      <td>0</td>\n",
       "      <td>0</td>\n",
       "    </tr>\n",
       "    <tr>\n",
       "      <th>0/american_bach_soloists-j_s__bach__cantatas_volume_v-15-nun_komm_der_heiden_heiland_bwv_61_iii_aria__komm_jesu_komm_zu_deiner_kirche-117-146.mp3</th>\n",
       "      <td>1</td>\n",
       "      <td>0</td>\n",
       "      <td>0</td>\n",
       "      <td>0</td>\n",
       "      <td>0</td>\n",
       "    </tr>\n",
       "    <tr>\n",
       "      <th>0/american_bach_soloists-j_s__bach__cantatas_volume_v-16-nun_komm_der_heiden_heiland_bwv_61_iv_recitative__siehe_ich_stehe_vor_der_tur-30-59.mp3</th>\n",
       "      <td>0</td>\n",
       "      <td>0</td>\n",
       "      <td>0</td>\n",
       "      <td>0</td>\n",
       "      <td>0</td>\n",
       "    </tr>\n",
       "    <tr>\n",
       "      <th>0/american_bach_soloists-j_s__bach__cantatas_volume_v-17-nun_komm_der_heiden_heiland_bwv_61_v_aria__offne_dich_mein_ganzes_herze-117-146.mp3</th>\n",
       "      <td>0</td>\n",
       "      <td>0</td>\n",
       "      <td>0</td>\n",
       "      <td>0</td>\n",
       "      <td>0</td>\n",
       "    </tr>\n",
       "    <tr>\n",
       "      <th>4/american_bach_soloists-j_s__bach__mass_in_b_minor_cd1-01-kyrie_eleison-204-233.mp3</th>\n",
       "      <td>1</td>\n",
       "      <td>0</td>\n",
       "      <td>0</td>\n",
       "      <td>0</td>\n",
       "      <td>0</td>\n",
       "    </tr>\n",
       "    <tr>\n",
       "      <th>4/american_bach_soloists-j_s__bach__mass_in_b_minor_cd1-02-christe_eleison-204-233.mp3</th>\n",
       "      <td>0</td>\n",
       "      <td>0</td>\n",
       "      <td>0</td>\n",
       "      <td>0</td>\n",
       "      <td>0</td>\n",
       "    </tr>\n",
       "    <tr>\n",
       "      <th>4/american_bach_soloists-j_s__bach__mass_in_b_minor_cd1-04-gloria_in_excelsis_deo-59-88.mp3</th>\n",
       "      <td>0</td>\n",
       "      <td>0</td>\n",
       "      <td>0</td>\n",
       "      <td>0</td>\n",
       "      <td>0</td>\n",
       "    </tr>\n",
       "    <tr>\n",
       "      <th>4/american_bach_soloists-j_s__bach__mass_in_b_minor_cd1-05-et_in_terra_pax-204-233.mp3</th>\n",
       "      <td>0</td>\n",
       "      <td>0</td>\n",
       "      <td>0</td>\n",
       "      <td>0</td>\n",
       "      <td>0</td>\n",
       "    </tr>\n",
       "    <tr>\n",
       "      <th>4/american_bach_soloists-j_s__bach__mass_in_b_minor_cd1-06-laudamus_te-117-146.mp3</th>\n",
       "      <td>1</td>\n",
       "      <td>0</td>\n",
       "      <td>0</td>\n",
       "      <td>0</td>\n",
       "      <td>0</td>\n",
       "    </tr>\n",
       "    <tr>\n",
       "      <th>4/american_bach_soloists-j_s__bach__mass_in_b_minor_cd1-07-gratias_agimus_tibi-88-117.mp3</th>\n",
       "      <td>1</td>\n",
       "      <td>0</td>\n",
       "      <td>0</td>\n",
       "      <td>0</td>\n",
       "      <td>0</td>\n",
       "    </tr>\n",
       "    <tr>\n",
       "      <th>4/american_bach_soloists-j_s__bach__mass_in_b_minor_cd1-08-domine_deus-117-146.mp3</th>\n",
       "      <td>0</td>\n",
       "      <td>0</td>\n",
       "      <td>0</td>\n",
       "      <td>0</td>\n",
       "      <td>0</td>\n",
       "    </tr>\n",
       "    <tr>\n",
       "      <th>4/american_bach_soloists-j_s__bach__mass_in_b_minor_cd1-09-qui_tollis_peccata_mundi-0-29.mp3</th>\n",
       "      <td>0</td>\n",
       "      <td>0</td>\n",
       "      <td>0</td>\n",
       "      <td>0</td>\n",
       "      <td>0</td>\n",
       "    </tr>\n",
       "    <tr>\n",
       "      <th>...</th>\n",
       "      <td>...</td>\n",
       "      <td>...</td>\n",
       "      <td>...</td>\n",
       "      <td>...</td>\n",
       "      <td>...</td>\n",
       "    </tr>\n",
       "    <tr>\n",
       "      <th>c/william_brooks-fowl_mouth-08-scooter-59-88.mp3</th>\n",
       "      <td>0</td>\n",
       "      <td>1</td>\n",
       "      <td>0</td>\n",
       "      <td>0</td>\n",
       "      <td>0</td>\n",
       "    </tr>\n",
       "    <tr>\n",
       "      <th>c/william_brooks-fowl_mouth-09-roll-88-117.mp3</th>\n",
       "      <td>0</td>\n",
       "      <td>0</td>\n",
       "      <td>0</td>\n",
       "      <td>0</td>\n",
       "      <td>0</td>\n",
       "    </tr>\n",
       "    <tr>\n",
       "      <th>c/william_brooks-fowl_mouth-10-maybe_meagan-0-29.mp3</th>\n",
       "      <td>0</td>\n",
       "      <td>0</td>\n",
       "      <td>0</td>\n",
       "      <td>0</td>\n",
       "      <td>0</td>\n",
       "    </tr>\n",
       "    <tr>\n",
       "      <th>c/william_brooks-fowl_mouth-11-karma_dogs-175-204.mp3</th>\n",
       "      <td>0</td>\n",
       "      <td>0</td>\n",
       "      <td>0</td>\n",
       "      <td>0</td>\n",
       "      <td>0</td>\n",
       "    </tr>\n",
       "    <tr>\n",
       "      <th>c/william_brooks-fowl_mouth-12-grace-146-175.mp3</th>\n",
       "      <td>0</td>\n",
       "      <td>0</td>\n",
       "      <td>0</td>\n",
       "      <td>0</td>\n",
       "      <td>0</td>\n",
       "    </tr>\n",
       "    <tr>\n",
       "      <th>c/william_brooks-fowl_mouth-13-seven_promises-175-204.mp3</th>\n",
       "      <td>0</td>\n",
       "      <td>0</td>\n",
       "      <td>0</td>\n",
       "      <td>0</td>\n",
       "      <td>0</td>\n",
       "    </tr>\n",
       "    <tr>\n",
       "      <th>c/william_brooks-fowl_mouth-14-ole_soledad-117-146.mp3</th>\n",
       "      <td>0</td>\n",
       "      <td>0</td>\n",
       "      <td>0</td>\n",
       "      <td>0</td>\n",
       "      <td>0</td>\n",
       "    </tr>\n",
       "    <tr>\n",
       "      <th>c/william_brooks-fowl_mouth-15-the_pony_song-146-175.mp3</th>\n",
       "      <td>0</td>\n",
       "      <td>0</td>\n",
       "      <td>0</td>\n",
       "      <td>0</td>\n",
       "      <td>0</td>\n",
       "    </tr>\n",
       "    <tr>\n",
       "      <th>c/william_brooks-fowl_mouth-16-a_boy_outta_love-0-29.mp3</th>\n",
       "      <td>0</td>\n",
       "      <td>0</td>\n",
       "      <td>0</td>\n",
       "      <td>0</td>\n",
       "      <td>0</td>\n",
       "    </tr>\n",
       "    <tr>\n",
       "      <th>0/williamson-a_few_things_to_hear_before_we_all_blow_up-01-2_percent_er-88-117.mp3</th>\n",
       "      <td>0</td>\n",
       "      <td>0</td>\n",
       "      <td>0</td>\n",
       "      <td>0</td>\n",
       "      <td>0</td>\n",
       "    </tr>\n",
       "    <tr>\n",
       "      <th>0/williamson-a_few_things_to_hear_before_we_all_blow_up-02-rubber-175-204.mp3</th>\n",
       "      <td>0</td>\n",
       "      <td>0</td>\n",
       "      <td>0</td>\n",
       "      <td>0</td>\n",
       "      <td>1</td>\n",
       "    </tr>\n",
       "    <tr>\n",
       "      <th>0/williamson-a_few_things_to_hear_before_we_all_blow_up-03-raining_at_the_crescent_house-117-146.mp3</th>\n",
       "      <td>0</td>\n",
       "      <td>0</td>\n",
       "      <td>0</td>\n",
       "      <td>0</td>\n",
       "      <td>1</td>\n",
       "    </tr>\n",
       "    <tr>\n",
       "      <th>0/williamson-a_few_things_to_hear_before_we_all_blow_up-04-time_youll_never_get_back-204-233.mp3</th>\n",
       "      <td>0</td>\n",
       "      <td>0</td>\n",
       "      <td>0</td>\n",
       "      <td>0</td>\n",
       "      <td>0</td>\n",
       "    </tr>\n",
       "    <tr>\n",
       "      <th>0/williamson-a_few_things_to_hear_before_we_all_blow_up-05-an_hour_in-30-59.mp3</th>\n",
       "      <td>0</td>\n",
       "      <td>0</td>\n",
       "      <td>0</td>\n",
       "      <td>1</td>\n",
       "      <td>0</td>\n",
       "    </tr>\n",
       "    <tr>\n",
       "      <th>0/williamson-a_few_things_to_hear_before_we_all_blow_up-06-were_all_boned-204-233.mp3</th>\n",
       "      <td>0</td>\n",
       "      <td>0</td>\n",
       "      <td>0</td>\n",
       "      <td>0</td>\n",
       "      <td>1</td>\n",
       "    </tr>\n",
       "    <tr>\n",
       "      <th>0/williamson-a_few_things_to_hear_before_we_all_blow_up-07-glitch_cowboy_local_16044-117-146.mp3</th>\n",
       "      <td>0</td>\n",
       "      <td>0</td>\n",
       "      <td>0</td>\n",
       "      <td>0</td>\n",
       "      <td>1</td>\n",
       "    </tr>\n",
       "    <tr>\n",
       "      <th>0/williamson-a_few_things_to_hear_before_we_all_blow_up-08-whats_on_the_ceiling_beats_whats_on_tv-146-175.mp3</th>\n",
       "      <td>0</td>\n",
       "      <td>0</td>\n",
       "      <td>0</td>\n",
       "      <td>0</td>\n",
       "      <td>0</td>\n",
       "    </tr>\n",
       "    <tr>\n",
       "      <th>0/williamson-a_few_things_to_hear_before_we_all_blow_up-09-and_then_its_all_gone-0-29.mp3</th>\n",
       "      <td>0</td>\n",
       "      <td>0</td>\n",
       "      <td>0</td>\n",
       "      <td>0</td>\n",
       "      <td>0</td>\n",
       "    </tr>\n",
       "    <tr>\n",
       "      <th>0/williamson-a_few_things_to_hear_before_we_all_blow_up-10-a-0-29.mp3</th>\n",
       "      <td>0</td>\n",
       "      <td>0</td>\n",
       "      <td>0</td>\n",
       "      <td>0</td>\n",
       "      <td>1</td>\n",
       "    </tr>\n",
       "    <tr>\n",
       "      <th>0/williamson-a_few_things_to_hear_before_we_all_blow_up-11-whiffle-146-175.mp3</th>\n",
       "      <td>0</td>\n",
       "      <td>0</td>\n",
       "      <td>0</td>\n",
       "      <td>0</td>\n",
       "      <td>1</td>\n",
       "    </tr>\n",
       "    <tr>\n",
       "      <th>0/williamson-a_few_things_to_hear_before_we_all_blow_up-12-a_please_goodbye_from_whore-0-29.mp3</th>\n",
       "      <td>0</td>\n",
       "      <td>0</td>\n",
       "      <td>0</td>\n",
       "      <td>0</td>\n",
       "      <td>1</td>\n",
       "    </tr>\n",
       "    <tr>\n",
       "      <th>e/yongen-moonrise-01-moonrise-59-88.mp3</th>\n",
       "      <td>0</td>\n",
       "      <td>0</td>\n",
       "      <td>0</td>\n",
       "      <td>0</td>\n",
       "      <td>0</td>\n",
       "    </tr>\n",
       "    <tr>\n",
       "      <th>e/yongen-moonrise-02-science_of_farewell-204-233.mp3</th>\n",
       "      <td>0</td>\n",
       "      <td>0</td>\n",
       "      <td>0</td>\n",
       "      <td>0</td>\n",
       "      <td>0</td>\n",
       "    </tr>\n",
       "    <tr>\n",
       "      <th>e/yongen-moonrise-03-sunflower-146-175.mp3</th>\n",
       "      <td>0</td>\n",
       "      <td>0</td>\n",
       "      <td>1</td>\n",
       "      <td>0</td>\n",
       "      <td>0</td>\n",
       "    </tr>\n",
       "    <tr>\n",
       "      <th>e/yongen-moonrise-04-im_in_love-30-59.mp3</th>\n",
       "      <td>0</td>\n",
       "      <td>0</td>\n",
       "      <td>0</td>\n",
       "      <td>0</td>\n",
       "      <td>0</td>\n",
       "    </tr>\n",
       "    <tr>\n",
       "      <th>e/yongen-moonrise-05-one-204-233.mp3</th>\n",
       "      <td>0</td>\n",
       "      <td>1</td>\n",
       "      <td>0</td>\n",
       "      <td>0</td>\n",
       "      <td>1</td>\n",
       "    </tr>\n",
       "    <tr>\n",
       "      <th>e/yongen-moonrise-06-whispers_and_knives-146-175.mp3</th>\n",
       "      <td>0</td>\n",
       "      <td>0</td>\n",
       "      <td>1</td>\n",
       "      <td>0</td>\n",
       "      <td>0</td>\n",
       "    </tr>\n",
       "    <tr>\n",
       "      <th>e/yongen-moonrise-07-vertigo-117-146.mp3</th>\n",
       "      <td>0</td>\n",
       "      <td>0</td>\n",
       "      <td>0</td>\n",
       "      <td>0</td>\n",
       "      <td>0</td>\n",
       "    </tr>\n",
       "    <tr>\n",
       "      <th>e/yongen-moonrise-08-nylon_heart-30-59.mp3</th>\n",
       "      <td>0</td>\n",
       "      <td>0</td>\n",
       "      <td>0</td>\n",
       "      <td>0</td>\n",
       "      <td>1</td>\n",
       "    </tr>\n",
       "    <tr>\n",
       "      <th>e/yongen-moonrise-09-beauty-233-262.mp3</th>\n",
       "      <td>0</td>\n",
       "      <td>0</td>\n",
       "      <td>0</td>\n",
       "      <td>0</td>\n",
       "      <td>0</td>\n",
       "    </tr>\n",
       "  </tbody>\n",
       "</table>\n",
       "<p>3023 rows × 5 columns</p>\n",
       "</div>"
      ],
      "text/plain": [
       "                                                    classical  rock  pop  \\\n",
       "mp3_path                                                                   \n",
       "d/ambient_teknology-the_all_seeing_eye_project-...          0     0    0   \n",
       "d/ambient_teknology-the_all_seeing_eye_project-...          0     0    0   \n",
       "d/ambient_teknology-the_all_seeing_eye_project-...          0     0    0   \n",
       "d/ambient_teknology-the_all_seeing_eye_project-...          0     0    0   \n",
       "d/ambient_teknology-the_all_seeing_eye_project-...          0     0    0   \n",
       "d/ambient_teknology-the_all_seeing_eye_project-...          0     0    0   \n",
       "d/ambient_teknology-the_all_seeing_eye_project-...          0     0    0   \n",
       "0/american_bach_soloists-j_s__bach__cantatas_vo...          1     0    0   \n",
       "0/american_bach_soloists-j_s__bach__cantatas_vo...          0     0    0   \n",
       "0/american_bach_soloists-j_s__bach__cantatas_vo...          0     0    0   \n",
       "0/american_bach_soloists-j_s__bach__cantatas_vo...          1     0    0   \n",
       "0/american_bach_soloists-j_s__bach__cantatas_vo...          1     0    0   \n",
       "0/american_bach_soloists-j_s__bach__cantatas_vo...          0     0    0   \n",
       "0/american_bach_soloists-j_s__bach__cantatas_vo...          1     0    0   \n",
       "0/american_bach_soloists-j_s__bach__cantatas_vo...          1     0    0   \n",
       "0/american_bach_soloists-j_s__bach__cantatas_vo...          0     0    0   \n",
       "0/american_bach_soloists-j_s__bach__cantatas_vo...          0     0    0   \n",
       "0/american_bach_soloists-j_s__bach__cantatas_vo...          0     0    0   \n",
       "0/american_bach_soloists-j_s__bach__cantatas_vo...          0     0    0   \n",
       "0/american_bach_soloists-j_s__bach__cantatas_vo...          1     0    0   \n",
       "0/american_bach_soloists-j_s__bach__cantatas_vo...          0     0    0   \n",
       "0/american_bach_soloists-j_s__bach__cantatas_vo...          0     0    0   \n",
       "4/american_bach_soloists-j_s__bach__mass_in_b_m...          1     0    0   \n",
       "4/american_bach_soloists-j_s__bach__mass_in_b_m...          0     0    0   \n",
       "4/american_bach_soloists-j_s__bach__mass_in_b_m...          0     0    0   \n",
       "4/american_bach_soloists-j_s__bach__mass_in_b_m...          0     0    0   \n",
       "4/american_bach_soloists-j_s__bach__mass_in_b_m...          1     0    0   \n",
       "4/american_bach_soloists-j_s__bach__mass_in_b_m...          1     0    0   \n",
       "4/american_bach_soloists-j_s__bach__mass_in_b_m...          0     0    0   \n",
       "4/american_bach_soloists-j_s__bach__mass_in_b_m...          0     0    0   \n",
       "...                                                       ...   ...  ...   \n",
       "c/william_brooks-fowl_mouth-08-scooter-59-88.mp3            0     1    0   \n",
       "c/william_brooks-fowl_mouth-09-roll-88-117.mp3              0     0    0   \n",
       "c/william_brooks-fowl_mouth-10-maybe_meagan-0-2...          0     0    0   \n",
       "c/william_brooks-fowl_mouth-11-karma_dogs-175-2...          0     0    0   \n",
       "c/william_brooks-fowl_mouth-12-grace-146-175.mp3            0     0    0   \n",
       "c/william_brooks-fowl_mouth-13-seven_promises-1...          0     0    0   \n",
       "c/william_brooks-fowl_mouth-14-ole_soledad-117-...          0     0    0   \n",
       "c/william_brooks-fowl_mouth-15-the_pony_song-14...          0     0    0   \n",
       "c/william_brooks-fowl_mouth-16-a_boy_outta_love...          0     0    0   \n",
       "0/williamson-a_few_things_to_hear_before_we_all...          0     0    0   \n",
       "0/williamson-a_few_things_to_hear_before_we_all...          0     0    0   \n",
       "0/williamson-a_few_things_to_hear_before_we_all...          0     0    0   \n",
       "0/williamson-a_few_things_to_hear_before_we_all...          0     0    0   \n",
       "0/williamson-a_few_things_to_hear_before_we_all...          0     0    0   \n",
       "0/williamson-a_few_things_to_hear_before_we_all...          0     0    0   \n",
       "0/williamson-a_few_things_to_hear_before_we_all...          0     0    0   \n",
       "0/williamson-a_few_things_to_hear_before_we_all...          0     0    0   \n",
       "0/williamson-a_few_things_to_hear_before_we_all...          0     0    0   \n",
       "0/williamson-a_few_things_to_hear_before_we_all...          0     0    0   \n",
       "0/williamson-a_few_things_to_hear_before_we_all...          0     0    0   \n",
       "0/williamson-a_few_things_to_hear_before_we_all...          0     0    0   \n",
       "e/yongen-moonrise-01-moonrise-59-88.mp3                     0     0    0   \n",
       "e/yongen-moonrise-02-science_of_farewell-204-23...          0     0    0   \n",
       "e/yongen-moonrise-03-sunflower-146-175.mp3                  0     0    1   \n",
       "e/yongen-moonrise-04-im_in_love-30-59.mp3                   0     0    0   \n",
       "e/yongen-moonrise-05-one-204-233.mp3                        0     1    0   \n",
       "e/yongen-moonrise-06-whispers_and_knives-146-17...          0     0    1   \n",
       "e/yongen-moonrise-07-vertigo-117-146.mp3                    0     0    0   \n",
       "e/yongen-moonrise-08-nylon_heart-30-59.mp3                  0     0    0   \n",
       "e/yongen-moonrise-09-beauty-233-262.mp3                     0     0    0   \n",
       "\n",
       "                                                    jazz  techno  \n",
       "mp3_path                                                          \n",
       "d/ambient_teknology-the_all_seeing_eye_project-...     0       0  \n",
       "d/ambient_teknology-the_all_seeing_eye_project-...     0       1  \n",
       "d/ambient_teknology-the_all_seeing_eye_project-...     0       1  \n",
       "d/ambient_teknology-the_all_seeing_eye_project-...     0       1  \n",
       "d/ambient_teknology-the_all_seeing_eye_project-...     0       1  \n",
       "d/ambient_teknology-the_all_seeing_eye_project-...     0       1  \n",
       "d/ambient_teknology-the_all_seeing_eye_project-...     0       1  \n",
       "0/american_bach_soloists-j_s__bach__cantatas_vo...     0       0  \n",
       "0/american_bach_soloists-j_s__bach__cantatas_vo...     0       0  \n",
       "0/american_bach_soloists-j_s__bach__cantatas_vo...     0       0  \n",
       "0/american_bach_soloists-j_s__bach__cantatas_vo...     0       0  \n",
       "0/american_bach_soloists-j_s__bach__cantatas_vo...     0       0  \n",
       "0/american_bach_soloists-j_s__bach__cantatas_vo...     0       0  \n",
       "0/american_bach_soloists-j_s__bach__cantatas_vo...     0       0  \n",
       "0/american_bach_soloists-j_s__bach__cantatas_vo...     0       0  \n",
       "0/american_bach_soloists-j_s__bach__cantatas_vo...     0       0  \n",
       "0/american_bach_soloists-j_s__bach__cantatas_vo...     0       0  \n",
       "0/american_bach_soloists-j_s__bach__cantatas_vo...     0       0  \n",
       "0/american_bach_soloists-j_s__bach__cantatas_vo...     0       0  \n",
       "0/american_bach_soloists-j_s__bach__cantatas_vo...     0       0  \n",
       "0/american_bach_soloists-j_s__bach__cantatas_vo...     0       0  \n",
       "0/american_bach_soloists-j_s__bach__cantatas_vo...     0       0  \n",
       "4/american_bach_soloists-j_s__bach__mass_in_b_m...     0       0  \n",
       "4/american_bach_soloists-j_s__bach__mass_in_b_m...     0       0  \n",
       "4/american_bach_soloists-j_s__bach__mass_in_b_m...     0       0  \n",
       "4/american_bach_soloists-j_s__bach__mass_in_b_m...     0       0  \n",
       "4/american_bach_soloists-j_s__bach__mass_in_b_m...     0       0  \n",
       "4/american_bach_soloists-j_s__bach__mass_in_b_m...     0       0  \n",
       "4/american_bach_soloists-j_s__bach__mass_in_b_m...     0       0  \n",
       "4/american_bach_soloists-j_s__bach__mass_in_b_m...     0       0  \n",
       "...                                                  ...     ...  \n",
       "c/william_brooks-fowl_mouth-08-scooter-59-88.mp3       0       0  \n",
       "c/william_brooks-fowl_mouth-09-roll-88-117.mp3         0       0  \n",
       "c/william_brooks-fowl_mouth-10-maybe_meagan-0-2...     0       0  \n",
       "c/william_brooks-fowl_mouth-11-karma_dogs-175-2...     0       0  \n",
       "c/william_brooks-fowl_mouth-12-grace-146-175.mp3       0       0  \n",
       "c/william_brooks-fowl_mouth-13-seven_promises-1...     0       0  \n",
       "c/william_brooks-fowl_mouth-14-ole_soledad-117-...     0       0  \n",
       "c/william_brooks-fowl_mouth-15-the_pony_song-14...     0       0  \n",
       "c/william_brooks-fowl_mouth-16-a_boy_outta_love...     0       0  \n",
       "0/williamson-a_few_things_to_hear_before_we_all...     0       0  \n",
       "0/williamson-a_few_things_to_hear_before_we_all...     0       1  \n",
       "0/williamson-a_few_things_to_hear_before_we_all...     0       1  \n",
       "0/williamson-a_few_things_to_hear_before_we_all...     0       0  \n",
       "0/williamson-a_few_things_to_hear_before_we_all...     1       0  \n",
       "0/williamson-a_few_things_to_hear_before_we_all...     0       1  \n",
       "0/williamson-a_few_things_to_hear_before_we_all...     0       1  \n",
       "0/williamson-a_few_things_to_hear_before_we_all...     0       0  \n",
       "0/williamson-a_few_things_to_hear_before_we_all...     0       0  \n",
       "0/williamson-a_few_things_to_hear_before_we_all...     0       1  \n",
       "0/williamson-a_few_things_to_hear_before_we_all...     0       1  \n",
       "0/williamson-a_few_things_to_hear_before_we_all...     0       1  \n",
       "e/yongen-moonrise-01-moonrise-59-88.mp3                0       0  \n",
       "e/yongen-moonrise-02-science_of_farewell-204-23...     0       0  \n",
       "e/yongen-moonrise-03-sunflower-146-175.mp3             0       0  \n",
       "e/yongen-moonrise-04-im_in_love-30-59.mp3              0       0  \n",
       "e/yongen-moonrise-05-one-204-233.mp3                   0       1  \n",
       "e/yongen-moonrise-06-whispers_and_knives-146-17...     0       0  \n",
       "e/yongen-moonrise-07-vertigo-117-146.mp3               0       0  \n",
       "e/yongen-moonrise-08-nylon_heart-30-59.mp3             0       1  \n",
       "e/yongen-moonrise-09-beauty-233-262.mp3                0       0  \n",
       "\n",
       "[3023 rows x 5 columns]"
      ]
     },
     "execution_count": 64,
     "metadata": {},
     "output_type": "execute_result"
    }
   ],
   "source": [
    "metadata[genres]"
   ]
  },
  {
   "cell_type": "code",
   "execution_count": 65,
   "metadata": {},
   "outputs": [
    {
     "data": {
      "text/plain": [
       "classical    608\n",
       "rock         281\n",
       "pop          125\n",
       "jazz          64\n",
       "techno       265\n",
       "dtype: int64"
      ]
     },
     "execution_count": 65,
     "metadata": {},
     "output_type": "execute_result"
    }
   ],
   "source": [
    "metadata[genres].sum()"
   ]
  },
  {
   "cell_type": "code",
   "execution_count": 66,
   "metadata": {},
   "outputs": [
    {
     "data": {
      "text/plain": [
       "(3023, 5)"
      ]
     },
     "execution_count": 66,
     "metadata": {},
     "output_type": "execute_result"
    }
   ],
   "source": [
    "metadata[genres].shape"
   ]
  },
  {
   "cell_type": "code",
   "execution_count": 67,
   "metadata": {
    "collapsed": true
   },
   "outputs": [],
   "source": [
    "# for the single-label genre task, we only retain tracks that have EXACTLY 1 genre assigned in groundtruth\n",
    "idx = metadata[genres].sum(axis=1) == 1"
   ]
  },
  {
   "cell_type": "code",
   "execution_count": 68,
   "metadata": {},
   "outputs": [
    {
     "data": {
      "text/plain": [
       "(1168, 5)"
      ]
     },
     "execution_count": 68,
     "metadata": {},
     "output_type": "execute_result"
    }
   ],
   "source": [
    "genre_metadata = metadata.loc[idx,genres]\n",
    "genre_metadata.shape"
   ]
  },
  {
   "cell_type": "code",
   "execution_count": 69,
   "metadata": {},
   "outputs": [
    {
     "data": {
      "text/plain": [
       "classical    604\n",
       "rock         218\n",
       "pop           66\n",
       "jazz          48\n",
       "techno       232\n",
       "dtype: int64"
      ]
     },
     "execution_count": 69,
     "metadata": {},
     "output_type": "execute_result"
    }
   ],
   "source": [
    "genre_metadata.sum()"
   ]
  },
  {
   "cell_type": "code",
   "execution_count": 70,
   "metadata": {},
   "outputs": [
    {
     "data": {
      "text/plain": [
       "array([[0, 0, 0, 0, 1],\n",
       "       [0, 0, 0, 0, 1],\n",
       "       [0, 0, 0, 0, 1],\n",
       "       ...,\n",
       "       [0, 0, 1, 0, 0],\n",
       "       [0, 0, 1, 0, 0],\n",
       "       [0, 0, 0, 0, 1]])"
      ]
     },
     "execution_count": 70,
     "metadata": {},
     "output_type": "execute_result"
    }
   ],
   "source": [
    "# classes needs to be a \"1-hot encoded\" numpy array (which our groundtruth already is! we just convert pandas to numpy)\n",
    "classes = genre_metadata.values\n",
    "classes"
   ]
  },
  {
   "cell_type": "code",
   "execution_count": 71,
   "metadata": {
    "collapsed": true
   },
   "outputs": [],
   "source": [
    "filelist = genre_metadata.index.tolist()"
   ]
  },
  {
   "cell_type": "markdown",
   "metadata": {},
   "source": [
    "## Load Audio Spectrograms\n",
    "\n",
    "based on the new filelist needed for the genre task \n",
    "\n",
    "we keep n_mel_bands and frames the same as before"
   ]
  },
  {
   "cell_type": "code",
   "execution_count": 72,
   "metadata": {
    "collapsed": true
   },
   "outputs": [],
   "source": [
    "# if we saved the audio spectrograms before, we try to load them\n",
    "load_features = True\n",
    "\n",
    "# if not, we store audio features for faster reload the next time\n",
    "save_features = True\n",
    "\n",
    "FEAT_FILE = os.path.join(DATA_PATH, \"spectrograms_genres.npz\")"
   ]
  },
  {
   "cell_type": "code",
   "execution_count": 73,
   "metadata": {
    "collapsed": true
   },
   "outputs": [],
   "source": [
    "if load_features:\n",
    "    if os.path.exists(FEAT_FILE):\n",
    "        with np.load(FEAT_FILE) as npz:\n",
    "            data = npz['data']\n",
    "            filelist = npz['filenames']\n",
    "            classes = npz['classes']\n",
    "        print(\"Loaded features successfully: \" + str(len(filelist)), \"files, dimensions:\", data.shape)\n",
    "    else:\n",
    "        load_features = False"
   ]
  },
  {
   "cell_type": "code",
   "execution_count": 74,
   "metadata": {},
   "outputs": [
    {
     "name": "stdout",
     "output_type": "stream",
     "text": [
      "Reading and processing 1168 audio files\n",
      "...................................................................................................................................................................................................................................................................................................................................................................................................................................."
     ]
    },
    {
     "name": "stderr",
     "output_type": "stream",
     "text": [
      "/home/schindler/anaconda/python2/envs/py36/lib/python3.6/site-packages/ipykernel_launcher.py:35: RuntimeWarning: divide by zero encountered in log10\n"
     ]
    },
    {
     "name": "stdout",
     "output_type": "stream",
     "text": [
      "............................................................................................................................................................................................................................................................................................................................................................................................................................................................................................................................................................................................................................................................................................................................................................................\n",
      "Converting to big data array...\n",
      "done.\n",
      "Features stored to /home/schindler/tutorials/mlprague2018/data//MagnaTagATune/spectrograms_genres.npz\n"
     ]
    }
   ],
   "source": [
    "if not load_features:\n",
    "    data = create_spectrograms(filelist, n_mel_bands, frames)\n",
    "\n",
    "    if save_features:\n",
    "        np.savez(FEAT_FILE, data=data, filenames=filelist, classes=classes)\n",
    "        print(\"Features stored to \" + FEAT_FILE)"
   ]
  },
  {
   "cell_type": "code",
   "execution_count": 75,
   "metadata": {},
   "outputs": [
    {
     "data": {
      "text/plain": [
       "(1168, 96, 683)"
      ]
     },
     "execution_count": 75,
     "metadata": {},
     "output_type": "execute_result"
    }
   ],
   "source": [
    "data.shape"
   ]
  },
  {
   "cell_type": "code",
   "execution_count": 76,
   "metadata": {},
   "outputs": [
    {
     "data": {
      "text/plain": [
       "(1168, 96, 683)"
      ]
     },
     "execution_count": 76,
     "metadata": {},
     "output_type": "execute_result"
    }
   ],
   "source": [
    "# standardize the data (see above)\n",
    "data = standardize(data)\n",
    "data.shape"
   ]
  },
  {
   "cell_type": "code",
   "execution_count": 77,
   "metadata": {},
   "outputs": [
    {
     "data": {
      "text/plain": [
       "(1168, 96, 683, 1)"
      ]
     },
     "execution_count": 77,
     "metadata": {},
     "output_type": "execute_result"
    }
   ],
   "source": [
    "# add color channel (see above)\n",
    "data = add_channel(data, n_channels=1)\n",
    "data.shape"
   ]
  },
  {
   "cell_type": "code",
   "execution_count": 78,
   "metadata": {},
   "outputs": [
    {
     "data": {
      "text/plain": [
       "(96, 683, 1)"
      ]
     },
     "execution_count": 78,
     "metadata": {},
     "output_type": "execute_result"
    }
   ],
   "source": [
    "# input_shape: we store the new shape of the images in the 'input_shape' variable.\n",
    "# take all dimensions except the 0th one (which is the number of files)\n",
    "input_shape = data.shape[1:]  \n",
    "input_shape"
   ]
  },
  {
   "cell_type": "markdown",
   "metadata": {},
   "source": [
    "### Train & Test Set Split\n",
    "\n",
    "We split the original full data set into two parts: Train Set (75%) and Test Set (25%)."
   ]
  },
  {
   "cell_type": "code",
   "execution_count": 79,
   "metadata": {
    "collapsed": true
   },
   "outputs": [],
   "source": [
    "testset_size = 0.25 # % portion of whole data set to keep for testing, i.e. 75% is used for training"
   ]
  },
  {
   "cell_type": "code",
   "execution_count": 80,
   "metadata": {
    "collapsed": true
   },
   "outputs": [],
   "source": [
    "# Stratified Split retains the class balance in both sets\n",
    "\n",
    "splitter = StratifiedShuffleSplit(n_splits=1, test_size=testset_size, random_state=0)\n",
    "splits = splitter.split(data, classes)\n",
    "\n",
    "for train_index, test_index in splits:\n",
    "    train_set = data[train_index]\n",
    "    test_set = data[test_index]\n",
    "    train_classes = classes[train_index]\n",
    "    test_classes = classes[test_index]\n",
    "# Note: this for loop is only executed once if n_splits==1"
   ]
  },
  {
   "cell_type": "code",
   "execution_count": 81,
   "metadata": {},
   "outputs": [
    {
     "name": "stdout",
     "output_type": "stream",
     "text": [
      "(876, 96, 683, 1)\n",
      "(292, 96, 683, 1)\n"
     ]
    }
   ],
   "source": [
    "print(train_set.shape)\n",
    "print(test_set.shape)"
   ]
  },
  {
   "cell_type": "markdown",
   "metadata": {},
   "source": [
    "## Model and Training Parameters\n",
    "\n",
    "we use the same model as for Instrumental vs. Vocal above\n",
    "\n",
    "with a few changes in the Training parameters"
   ]
  },
  {
   "cell_type": "markdown",
   "metadata": {},
   "source": [
    "### Change #1: Loss"
   ]
  },
  {
   "cell_type": "code",
   "execution_count": 82,
   "metadata": {
    "collapsed": true
   },
   "outputs": [],
   "source": [
    "# the loss for a single label classification task is CATEGORICAL crossentropy\n",
    "loss = 'categorical_crossentropy' "
   ]
  },
  {
   "cell_type": "markdown",
   "metadata": {},
   "source": [
    "### Change #2: Output units and activation"
   ]
  },
  {
   "cell_type": "code",
   "execution_count": 83,
   "metadata": {
    "collapsed": true
   },
   "outputs": [],
   "source": [
    "# how many output units\n",
    "# IN A SINGLE LABEL MULTI-CLASS TASK with N classes, we need N output units\n",
    "output_shape = n_genres\n",
    "\n",
    "# which activation function to use for OUTPUT layer\n",
    "# IN A SINGLE LABEL MULTI-CLASS TASK with N classes we use softmax activation to BALANCE best between the classes \n",
    "# and find the best decision for ONE class\n",
    "output_activation = 'softmax'\n"
   ]
  },
  {
   "cell_type": "markdown",
   "metadata": {},
   "source": [
    "### TensorBoard setup"
   ]
  },
  {
   "cell_type": "code",
   "execution_count": 84,
   "metadata": {
    "collapsed": true
   },
   "outputs": [],
   "source": [
    "experiment_name = \"genres\"\n",
    "\n",
    "tb_logdir_cur = os.path.join(TB_LOGDIR, experiment_name)\n",
    "\n",
    "# initialize TensorBoard in Python\n",
    "tensorboard = TensorBoard(log_dir = tb_logdir_cur)\n",
    "\n",
    "# + add to callbacks\n",
    "callbacks = [tensorboard]"
   ]
  },
  {
   "cell_type": "markdown",
   "metadata": {},
   "source": [
    "### Rest of Parameters\n",
    "\n",
    "stay essentially the same (or similar)"
   ]
  },
  {
   "cell_type": "code",
   "execution_count": 85,
   "metadata": {
    "collapsed": true
   },
   "outputs": [],
   "source": [
    "# Optimizer\n",
    "optimizer = adam\n",
    "\n",
    "batch_size = 32 \n",
    "\n",
    "epochs = 30\n",
    "\n",
    "validation_split=0.1 \n",
    "\n",
    "random_seed = 0"
   ]
  },
  {
   "cell_type": "markdown",
   "metadata": {},
   "source": [
    "## Training"
   ]
  },
  {
   "cell_type": "code",
   "execution_count": 86,
   "metadata": {},
   "outputs": [
    {
     "name": "stdout",
     "output_type": "stream",
     "text": [
      "categorical_crossentropy\n",
      "<keras.optimizers.Adam object at 0x7f6850fa47b8>\n",
      "['accuracy', <function precision at 0x7f68f5674598>, <function recall at 0x7f68f5674510>]\n",
      "Batch size: 32 Epochs: 30\n"
     ]
    }
   ],
   "source": [
    "# Summary of Training options\n",
    "\n",
    "print(loss)\n",
    "print(optimizer)\n",
    "print(metrics)\n",
    "print(\"Batch size:\", batch_size, \"Epochs:\", epochs)"
   ]
  },
  {
   "cell_type": "code",
   "execution_count": 87,
   "metadata": {
    "collapsed": true
   },
   "outputs": [],
   "source": [
    "model = CompactCNN(input_shape, nb_conv = nb_conv_layers, nb_filters= nb_filters, n_mels = 96, \n",
    "                           normalize=normalization, \n",
    "                           nb_hidden = nb_hidden, dense_units = dense_units, \n",
    "                           output_shape = output_shape, activation = output_activation, \n",
    "                           dropout = dropout)"
   ]
  },
  {
   "cell_type": "code",
   "execution_count": 88,
   "metadata": {
    "scrolled": true
   },
   "outputs": [
    {
     "name": "stdout",
     "output_type": "stream",
     "text": [
      "_________________________________________________________________\n",
      "Layer (type)                 Output Shape              Param #   \n",
      "=================================================================\n",
      "input_2 (InputLayer)         (None, 96, 683, 1)        0         \n",
      "_________________________________________________________________\n",
      "bn_0_freq (BatchNormalizatio (None, 96, 683, 1)        384       \n",
      "_________________________________________________________________\n",
      "conv2d_5 (Conv2D)            (None, 96, 683, 64)       640       \n",
      "_________________________________________________________________\n",
      "bn1 (BatchNormalization)     (None, 96, 683, 64)       256       \n",
      "_________________________________________________________________\n",
      "elu_5 (ELU)                  (None, 96, 683, 64)       0         \n",
      "_________________________________________________________________\n",
      "pool1 (MaxPooling2D)         (None, 48, 170, 64)       0         \n",
      "_________________________________________________________________\n",
      "conv2d_6 (Conv2D)            (None, 48, 170, 64)       36928     \n",
      "_________________________________________________________________\n",
      "bn2 (BatchNormalization)     (None, 48, 170, 64)       256       \n",
      "_________________________________________________________________\n",
      "elu_6 (ELU)                  (None, 48, 170, 64)       0         \n",
      "_________________________________________________________________\n",
      "pool2 (MaxPooling2D)         (None, 16, 42, 64)        0         \n",
      "_________________________________________________________________\n",
      "conv2d_7 (Conv2D)            (None, 16, 42, 64)        36928     \n",
      "_________________________________________________________________\n",
      "bn3 (BatchNormalization)     (None, 16, 42, 64)        256       \n",
      "_________________________________________________________________\n",
      "elu_7 (ELU)                  (None, 16, 42, 64)        0         \n",
      "_________________________________________________________________\n",
      "pool3 (MaxPooling2D)         (None, 8, 8, 64)          0         \n",
      "_________________________________________________________________\n",
      "conv2d_8 (Conv2D)            (None, 8, 8, 128)         73856     \n",
      "_________________________________________________________________\n",
      "bn4 (BatchNormalization)     (None, 8, 8, 128)         512       \n",
      "_________________________________________________________________\n",
      "elu_8 (ELU)                  (None, 8, 8, 128)         0         \n",
      "_________________________________________________________________\n",
      "pool4 (MaxPooling2D)         (None, 4, 2, 128)         0         \n",
      "_________________________________________________________________\n",
      "flatten_2 (Flatten)          (None, 1024)              0         \n",
      "_________________________________________________________________\n",
      "dropout_2 (Dropout)          (None, 1024)              0         \n",
      "_________________________________________________________________\n",
      "dense_2 (Dense)              (None, 128)               131200    \n",
      "_________________________________________________________________\n",
      "output (Dense)               (None, 5)                 645       \n",
      "=================================================================\n",
      "Total params: 281,861\n",
      "Trainable params: 281,029\n",
      "Non-trainable params: 832\n",
      "_________________________________________________________________\n"
     ]
    }
   ],
   "source": [
    "model.summary()"
   ]
  },
  {
   "cell_type": "code",
   "execution_count": 89,
   "metadata": {
    "collapsed": true
   },
   "outputs": [],
   "source": [
    "# COMPILE MODEL\n",
    "\n",
    "model.compile(loss=loss, metrics=metrics, optimizer=optimizer)"
   ]
  },
  {
   "cell_type": "code",
   "execution_count": 90,
   "metadata": {
    "collapsed": true
   },
   "outputs": [],
   "source": [
    "# past_epochs is only for the case that we execute the next code box multiple times (so that Tensorboard is displaying properly)\n",
    "past_epochs = 0"
   ]
  },
  {
   "cell_type": "code",
   "execution_count": 91,
   "metadata": {
    "scrolled": true
   },
   "outputs": [
    {
     "name": "stdout",
     "output_type": "stream",
     "text": [
      "Train on 788 samples, validate on 88 samples\n",
      "Epoch 1/30\n",
      "788/788 [==============================] - 4s 5ms/step - loss: 1.0791 - acc: 0.6777 - precision: 0.7219 - recall: 0.6307 - val_loss: 1.6093 - val_acc: 0.5114 - val_precision: 0.5135 - val_recall: 0.4091\n",
      "Epoch 2/30\n",
      "788/788 [==============================] - 3s 4ms/step - loss: 0.6429 - acc: 0.7881 - precision: 0.8422 - recall: 0.7284 - val_loss: 0.5291 - val_acc: 0.8409 - val_precision: 0.9117 - val_recall: 0.7955\n",
      "Epoch 3/30\n",
      "788/788 [==============================] - 3s 4ms/step - loss: 0.5752 - acc: 0.8008 - precision: 0.8559 - recall: 0.7475 - val_loss: 0.6782 - val_acc: 0.7045 - val_precision: 0.7331 - val_recall: 0.6477\n",
      "Epoch 4/30\n",
      "788/788 [==============================] - 3s 4ms/step - loss: 0.4744 - acc: 0.8414 - precision: 0.8964 - recall: 0.7944 - val_loss: 0.6811 - val_acc: 0.6932 - val_precision: 0.7821 - val_recall: 0.6932\n",
      "Epoch 5/30\n",
      "788/788 [==============================] - 3s 4ms/step - loss: 0.4220 - acc: 0.8541 - precision: 0.9016 - recall: 0.8071 - val_loss: 0.7026 - val_acc: 0.7500 - val_precision: 0.8420 - val_recall: 0.7273\n",
      "Epoch 6/30\n",
      "788/788 [==============================] - 3s 4ms/step - loss: 0.3897 - acc: 0.8553 - precision: 0.9082 - recall: 0.8173 - val_loss: 0.5034 - val_acc: 0.7727 - val_precision: 0.9259 - val_recall: 0.7273\n",
      "Epoch 7/30\n",
      "788/788 [==============================] - 3s 4ms/step - loss: 0.3829 - acc: 0.8769 - precision: 0.9119 - recall: 0.8376 - val_loss: 0.4673 - val_acc: 0.8523 - val_precision: 0.8754 - val_recall: 0.7955\n",
      "Epoch 8/30\n",
      "788/788 [==============================] - 3s 4ms/step - loss: 0.3015 - acc: 0.9023 - precision: 0.9266 - recall: 0.8591 - val_loss: 0.5204 - val_acc: 0.8523 - val_precision: 0.8773 - val_recall: 0.8068\n",
      "Epoch 9/30\n",
      "788/788 [==============================] - 3s 4ms/step - loss: 0.3088 - acc: 0.8921 - precision: 0.9198 - recall: 0.8591 - val_loss: 0.3287 - val_acc: 0.8864 - val_precision: 0.9143 - val_recall: 0.8523\n",
      "Epoch 10/30\n",
      "788/788 [==============================] - 3s 4ms/step - loss: 0.2717 - acc: 0.9086 - precision: 0.9310 - recall: 0.8706 - val_loss: 0.3875 - val_acc: 0.8636 - val_precision: 0.8760 - val_recall: 0.7955\n",
      "Epoch 11/30\n",
      "788/788 [==============================] - 3s 4ms/step - loss: 0.2275 - acc: 0.9201 - precision: 0.9375 - recall: 0.8921 - val_loss: 0.4173 - val_acc: 0.8409 - val_precision: 0.8814 - val_recall: 0.8409\n",
      "Epoch 12/30\n",
      "788/788 [==============================] - 3s 4ms/step - loss: 0.2045 - acc: 0.9251 - precision: 0.9479 - recall: 0.9036 - val_loss: 0.5133 - val_acc: 0.7955 - val_precision: 0.8392 - val_recall: 0.7727\n",
      "Epoch 13/30\n",
      "788/788 [==============================] - 3s 4ms/step - loss: 0.2021 - acc: 0.9302 - precision: 0.9519 - recall: 0.9010 - val_loss: 0.4006 - val_acc: 0.8750 - val_precision: 0.8697 - val_recall: 0.8295\n",
      "Epoch 14/30\n",
      "788/788 [==============================] - 3s 4ms/step - loss: 0.1943 - acc: 0.9365 - precision: 0.9549 - recall: 0.9137 - val_loss: 0.5536 - val_acc: 0.8409 - val_precision: 0.8672 - val_recall: 0.8182\n",
      "Epoch 15/30\n",
      "788/788 [==============================] - 3s 4ms/step - loss: 0.1542 - acc: 0.9454 - precision: 0.9580 - recall: 0.9315 - val_loss: 0.5877 - val_acc: 0.7614 - val_precision: 0.7702 - val_recall: 0.7614\n",
      "Epoch 16/30\n",
      "788/788 [==============================] - 3s 4ms/step - loss: 0.1182 - acc: 0.9746 - precision: 0.9804 - recall: 0.9581 - val_loss: 0.3513 - val_acc: 0.8636 - val_precision: 0.8836 - val_recall: 0.8523\n",
      "Epoch 17/30\n",
      "788/788 [==============================] - 3s 4ms/step - loss: 0.1172 - acc: 0.9695 - precision: 0.9767 - recall: 0.9581 - val_loss: 0.4279 - val_acc: 0.8409 - val_precision: 0.8692 - val_recall: 0.8295\n",
      "Epoch 18/30\n",
      "788/788 [==============================] - 3s 4ms/step - loss: 0.1218 - acc: 0.9632 - precision: 0.9741 - recall: 0.9581 - val_loss: 0.3829 - val_acc: 0.8409 - val_precision: 0.8814 - val_recall: 0.8409\n",
      "Epoch 19/30\n",
      "788/788 [==============================] - 3s 4ms/step - loss: 0.0870 - acc: 0.9759 - precision: 0.9795 - recall: 0.9683 - val_loss: 0.5073 - val_acc: 0.8409 - val_precision: 0.8587 - val_recall: 0.8295\n",
      "Epoch 20/30\n",
      "788/788 [==============================] - 3s 4ms/step - loss: 0.0841 - acc: 0.9784 - precision: 0.9807 - recall: 0.9759 - val_loss: 0.3799 - val_acc: 0.8523 - val_precision: 0.8826 - val_recall: 0.8523\n",
      "Epoch 21/30\n",
      "788/788 [==============================] - 3s 4ms/step - loss: 0.0827 - acc: 0.9746 - precision: 0.9822 - recall: 0.9670 - val_loss: 0.4209 - val_acc: 0.8750 - val_precision: 0.8739 - val_recall: 0.8636\n",
      "Epoch 22/30\n",
      "788/788 [==============================] - 3s 4ms/step - loss: 0.0744 - acc: 0.9772 - precision: 0.9821 - recall: 0.9734 - val_loss: 0.4524 - val_acc: 0.8750 - val_precision: 0.8750 - val_recall: 0.8750\n",
      "Epoch 23/30\n",
      "788/788 [==============================] - 3s 4ms/step - loss: 0.0705 - acc: 0.9822 - precision: 0.9846 - recall: 0.9746 - val_loss: 0.3297 - val_acc: 0.8523 - val_precision: 0.8629 - val_recall: 0.8523\n",
      "Epoch 24/30\n",
      "788/788 [==============================] - 3s 4ms/step - loss: 0.0690 - acc: 0.9810 - precision: 0.9885 - recall: 0.9734 - val_loss: 0.3289 - val_acc: 0.8750 - val_precision: 0.8840 - val_recall: 0.8636\n",
      "Epoch 25/30\n",
      "788/788 [==============================] - 3s 4ms/step - loss: 0.0614 - acc: 0.9860 - precision: 0.9896 - recall: 0.9784 - val_loss: 0.2828 - val_acc: 0.8750 - val_precision: 0.8849 - val_recall: 0.8750\n",
      "Epoch 26/30\n",
      "788/788 [==============================] - 3s 4ms/step - loss: 0.0457 - acc: 0.9924 - precision: 0.9949 - recall: 0.9911 - val_loss: 0.3798 - val_acc: 0.8295 - val_precision: 0.8486 - val_recall: 0.8295\n",
      "Epoch 27/30\n",
      "788/788 [==============================] - 3s 4ms/step - loss: 0.0452 - acc: 0.9886 - precision: 0.9910 - recall: 0.9873 - val_loss: 0.5228 - val_acc: 0.8523 - val_precision: 0.8606 - val_recall: 0.8409\n",
      "Epoch 28/30\n",
      "788/788 [==============================] - 3s 4ms/step - loss: 0.0500 - acc: 0.9860 - precision: 0.9924 - recall: 0.9784 - val_loss: 0.3801 - val_acc: 0.8750 - val_precision: 0.8856 - val_recall: 0.8750\n",
      "Epoch 29/30\n",
      "788/788 [==============================] - 3s 4ms/step - loss: 0.0419 - acc: 0.9962 - precision: 0.9975 - recall: 0.9962 - val_loss: 0.5506 - val_acc: 0.7955 - val_precision: 0.8233 - val_recall: 0.7955\n",
      "Epoch 30/30\n",
      "788/788 [==============================] - 3s 4ms/step - loss: 0.0331 - acc: 0.9937 - precision: 0.9949 - recall: 0.9924 - val_loss: 0.2929 - val_acc: 0.8864 - val_precision: 0.8864 - val_recall: 0.8864\n"
     ]
    }
   ],
   "source": [
    "# START TRAINING\n",
    "\n",
    "history = model.fit(train_set, train_classes, \n",
    "                     validation_split=validation_split,\n",
    "                     #validation_data=(X_test,y_test), \n",
    "                     epochs=epochs, \n",
    "                     initial_epoch=past_epochs,\n",
    "                     batch_size=batch_size, \n",
    "                     callbacks=callbacks\n",
    "                     )\n",
    "\n",
    "past_epochs += epochs"
   ]
  },
  {
   "cell_type": "markdown",
   "metadata": {},
   "source": [
    "### Verifying Accuracy on Test Set"
   ]
  },
  {
   "cell_type": "code",
   "execution_count": 92,
   "metadata": {
    "scrolled": true
   },
   "outputs": [
    {
     "data": {
      "text/plain": [
       "array([[9.9985695e-01, 1.4222712e-07, 4.9297563e-05, 8.0213540e-06,\n",
       "        8.5580294e-05],\n",
       "       [9.9996293e-01, 1.6717519e-06, 8.6889086e-06, 1.8344124e-05,\n",
       "        8.4001213e-06],\n",
       "       [1.0392587e-02, 7.2592814e-03, 9.6788621e-01, 1.1517332e-02,\n",
       "        2.9445307e-03],\n",
       "       ...,\n",
       "       [8.5956073e-01, 2.1771318e-04, 3.1769183e-02, 1.0453298e-01,\n",
       "        3.9193849e-03],\n",
       "       [9.9992311e-01, 2.6107367e-07, 5.7327125e-05, 6.6696407e-06,\n",
       "        1.2679926e-05],\n",
       "       [9.9958521e-01, 1.8424938e-06, 3.3884449e-04, 4.8097525e-05,\n",
       "        2.6122130e-05]], dtype=float32)"
      ]
     },
     "execution_count": 92,
     "metadata": {},
     "output_type": "execute_result"
    }
   ],
   "source": [
    "# compute probabilities for the classes (= get outputs of output layer)\n",
    "test_pred_prob = model.predict(test_set)\n",
    "test_pred_prob"
   ]
  },
  {
   "cell_type": "code",
   "execution_count": 93,
   "metadata": {},
   "outputs": [
    {
     "data": {
      "text/plain": [
       "array([0, 0, 2, 1, 0, 0, 1, 4, 0, 0, 2, 1, 0, 0, 4, 0, 0, 0, 0, 0, 4, 0,\n",
       "       0, 0, 4, 4, 4, 4, 2, 4, 1, 0, 2, 0, 4, 0, 4, 4, 0, 0, 4, 1, 4, 1,\n",
       "       4, 0, 0, 3, 4, 0, 4, 4, 0, 0, 4, 0, 0, 0, 0, 0, 0, 1, 4, 0, 0, 4,\n",
       "       4, 4, 0, 1, 1, 4, 4, 1, 0, 1, 1, 0, 0, 1, 0, 4, 2, 4, 4, 4, 0, 4,\n",
       "       0, 0, 0, 0, 0, 1, 0, 0, 0, 4, 1, 0, 0, 0, 0, 0, 0, 0, 4, 0, 0, 1,\n",
       "       4, 2, 1, 0, 1, 4, 0, 2, 0, 0, 0, 0, 4, 1, 0, 0, 0, 0, 0, 1, 0, 4,\n",
       "       1, 2, 0, 0, 4, 1, 0, 4, 0, 0, 1, 4, 0, 2, 0, 3, 0, 4, 0, 0, 4, 0,\n",
       "       0, 0, 4, 1, 4, 0, 4, 1, 0, 0, 4, 0, 0, 1, 4, 4, 0, 4, 0, 4, 0, 4,\n",
       "       0, 0, 1, 0, 2, 0, 0, 0, 0, 1, 0, 2, 4, 0, 1, 1, 1, 2, 0, 0, 1, 0,\n",
       "       4, 0, 0, 4, 0, 1, 0, 4, 0, 4, 0, 0, 1, 0, 0, 0, 0, 1, 1, 2, 1, 0,\n",
       "       4, 0, 4, 0, 3, 4, 0, 4, 4, 0, 3, 0, 0, 1, 0, 0, 0, 1, 4, 0, 2, 0,\n",
       "       4, 4, 0, 0, 0, 0, 0, 0, 1, 4, 0, 0, 0, 2, 4, 1, 4, 0, 0, 0, 4, 0,\n",
       "       0, 0, 4, 4, 0, 0, 1, 0, 0, 4, 0, 0, 0, 1, 0, 4, 0, 0, 0, 0, 4, 0,\n",
       "       4, 0, 3, 0, 0, 0])"
      ]
     },
     "execution_count": 93,
     "metadata": {},
     "output_type": "execute_result"
    }
   ],
   "source": [
    "# to get the predicted class, we take the ARG MAX of the row vectors \n",
    "test_pred = np.argmax(test_pred_prob, axis=1)\n",
    "test_pred"
   ]
  },
  {
   "cell_type": "code",
   "execution_count": 94,
   "metadata": {},
   "outputs": [
    {
     "data": {
      "text/plain": [
       "array([0, 0, 2, 1, 0, 0, 1, 1, 0, 0, 2, 1, 0, 0, 4, 0, 0, 0, 0, 0, 4, 0,\n",
       "       0, 0, 4, 4, 4, 1, 2, 1, 1, 0, 1, 0, 4, 0, 1, 4, 0, 0, 4, 1, 4, 1,\n",
       "       2, 0, 0, 2, 4, 0, 4, 1, 0, 0, 4, 0, 0, 3, 0, 0, 0, 1, 4, 0, 0, 2,\n",
       "       2, 4, 3, 1, 1, 2, 4, 1, 0, 1, 1, 0, 0, 1, 0, 4, 2, 4, 4, 4, 0, 4,\n",
       "       0, 0, 0, 0, 0, 1, 0, 0, 0, 4, 1, 0, 0, 0, 0, 0, 0, 0, 4, 0, 0, 1,\n",
       "       4, 2, 1, 0, 1, 2, 0, 3, 0, 0, 0, 0, 4, 1, 0, 0, 0, 0, 0, 1, 0, 4,\n",
       "       2, 1, 0, 0, 4, 1, 0, 2, 0, 0, 1, 4, 0, 1, 0, 3, 0, 4, 0, 0, 4, 0,\n",
       "       0, 0, 4, 1, 4, 0, 4, 1, 0, 0, 4, 0, 3, 1, 4, 4, 0, 4, 0, 4, 0, 3,\n",
       "       0, 0, 1, 0, 4, 0, 0, 0, 0, 1, 0, 2, 4, 0, 1, 1, 1, 3, 0, 0, 1, 0,\n",
       "       4, 0, 0, 4, 0, 1, 0, 4, 0, 4, 0, 0, 1, 0, 0, 0, 0, 1, 2, 2, 1, 0,\n",
       "       4, 0, 4, 0, 3, 1, 0, 4, 4, 3, 3, 0, 0, 1, 0, 0, 0, 1, 4, 2, 1, 0,\n",
       "       4, 3, 0, 0, 0, 0, 0, 0, 1, 1, 0, 0, 0, 4, 4, 1, 4, 0, 0, 0, 1, 0,\n",
       "       0, 0, 4, 4, 0, 0, 1, 0, 0, 4, 0, 0, 0, 1, 0, 4, 0, 0, 0, 0, 4, 0,\n",
       "       1, 0, 3, 4, 0, 0])"
      ]
     },
     "execution_count": 94,
     "metadata": {},
     "output_type": "execute_result"
    }
   ],
   "source": [
    "# do the same for groundtruth\n",
    "test_gt = np.argmax(test_classes, axis=1)\n",
    "test_gt"
   ]
  },
  {
   "cell_type": "code",
   "execution_count": 95,
   "metadata": {},
   "outputs": [
    {
     "data": {
      "text/plain": [
       "0.8835616438356164"
      ]
     },
     "execution_count": 95,
     "metadata": {},
     "output_type": "execute_result"
    }
   ],
   "source": [
    "# get final Accuracy\n",
    "accuracy_score(test_gt, test_pred)"
   ]
  },
  {
   "cell_type": "markdown",
   "metadata": {},
   "source": [
    "# 3) Mood Recognition\n",
    "\n",
    "this is a multi-label classification task (multiple categories to detect, any of them can be 0 or 1)"
   ]
  },
  {
   "cell_type": "code",
   "execution_count": 96,
   "metadata": {
    "collapsed": true
   },
   "outputs": [],
   "source": [
    "a = metadata.sum()"
   ]
  },
  {
   "cell_type": "code",
   "execution_count": 97,
   "metadata": {},
   "outputs": [
    {
     "name": "stdout",
     "output_type": "stream",
     "text": [
      "no voice             71\n",
      "singer               21\n",
      "duet                  8\n",
      "plucking              7\n",
      "hard rock            21\n",
      "world                 8\n",
      "bongos                8\n",
      "harpsichord         159\n",
      "female singing        6\n",
      "clasical              3\n",
      "sitar                67\n",
      "chorus               42\n",
      "female opera         11\n",
      "male vocal          133\n",
      "vocals              168\n",
      "clarinet              4\n",
      "heavy                15\n",
      "silence               6\n",
      "beats                51\n",
      "men                  17\n",
      "woodwind              4\n",
      "funky                22\n",
      "no strings           10\n",
      "chimes                7\n",
      "foreign              32\n",
      "no piano             37\n",
      "horns                 7\n",
      "classical           608\n",
      "female              178\n",
      "no voices             1\n",
      "soft rock             7\n",
      "eerie                 4\n",
      "spacey                7\n",
      "jazz                 64\n",
      "guitar              683\n",
      "quiet                86\n",
      "no beat               5\n",
      "banjo                31\n",
      "electric             31\n",
      "solo                130\n",
      "violins              34\n",
      "folk                 30\n",
      "female voice         54\n",
      "wind                  9\n",
      "happy                 4\n",
      "ambient             142\n",
      "new age              54\n",
      "synth               162\n",
      "funk                 11\n",
      "no singing           21\n",
      "middle eastern       14\n",
      "trumpet               6\n",
      "percussion           18\n",
      "drum                 44\n",
      "airy                  2\n",
      "voice                86\n",
      "repetitive            9\n",
      "birds                 7\n",
      "space                 5\n",
      "strings             342\n",
      "bass                 36\n",
      "harpsicord           39\n",
      "medieval             36\n",
      "male voice           81\n",
      "girl                  8\n",
      "keyboard              5\n",
      "acoustic             33\n",
      "loud                124\n",
      "classic              89\n",
      "string               38\n",
      "drums               260\n",
      "electronic          233\n",
      "not classical         6\n",
      "chanting             24\n",
      "no violin            12\n",
      "not rock              7\n",
      "no guitar            14\n",
      "organ                16\n",
      "no vocal            116\n",
      "talking              10\n",
      "choral               86\n",
      "weird                36\n",
      "opera               151\n",
      "soprano               4\n",
      "fast                259\n",
      "acoustic guitar      12\n",
      "electric guitar      20\n",
      "male singer          28\n",
      "man singing          18\n",
      "classical guitar     46\n",
      "country              80\n",
      "violin              183\n",
      "electro              42\n",
      "reggae               10\n",
      "tribal               16\n",
      "dark                 15\n",
      "male opera            9\n",
      "no vocals           162\n",
      "irish                17\n",
      "electronica          25\n",
      "horn                  5\n",
      "operatic              8\n",
      "arabic               12\n",
      "lol                   9\n",
      "low                  16\n",
      "instrumental         39\n",
      "trance               17\n",
      "chant                34\n",
      "strange              14\n",
      "drone                 6\n",
      "synthesizer           3\n",
      "heavy metal           9\n",
      "modern               42\n",
      "disco                 5\n",
      "bells                15\n",
      "man                  94\n",
      "deep                  8\n",
      "fast beat             9\n",
      "industrial            4\n",
      "hard                  6\n",
      "harp                 81\n",
      "no flute             27\n",
      "jungle                5\n",
      "pop                 125\n",
      "lute                 28\n",
      "female vocal         63\n",
      "oboe                  6\n",
      "mellow               10\n",
      "orchestral            4\n",
      "viola                 2\n",
      "light                 7\n",
      "echo                  6\n",
      "piano               300\n",
      "celtic                7\n",
      "male vocals          57\n",
      "orchestra            21\n",
      "eastern              35\n",
      "old                  13\n",
      "flutes               19\n",
      "punk                 18\n",
      "spanish              30\n",
      "sad                  12\n",
      "sax                  14\n",
      "slow                397\n",
      "male                158\n",
      "blues                35\n",
      "vocal               208\n",
      "indian              121\n",
      "no singer             9\n",
      "scary                 3\n",
      "india                 5\n",
      "woman               114\n",
      "woman singing        15\n",
      "rock                281\n",
      "dance                57\n",
      "piano solo            6\n",
      "guitars               8\n",
      "no drums             18\n",
      "jazzy                45\n",
      "singing             157\n",
      "cello                70\n",
      "calm                 13\n",
      "female vocals        50\n",
      "voices               30\n",
      "different             8\n",
      "techno              265\n",
      "clapping              5\n",
      "house                 6\n",
      "monks                13\n",
      "flute               120\n",
      "not opera            10\n",
      "not english          10\n",
      "oriental             17\n",
      "beat                181\n",
      "upbeat               23\n",
      "soft                109\n",
      "noise                16\n",
      "choir               120\n",
      "female singer        16\n",
      "rap                  13\n",
      "metal                51\n",
      "hip hop               8\n",
      "quick                 3\n",
      "water                 8\n",
      "baroque              37\n",
      "women                20\n",
      "fiddle                8\n",
      "english               7\n",
      "dtype: int64\n"
     ]
    }
   ],
   "source": [
    "pd.set_option('display.max_rows', len(a))\n",
    "print(a)\n",
    "pd.reset_option('display.max_rows')\n"
   ]
  },
  {
   "cell_type": "markdown",
   "metadata": {},
   "source": [
    "## Adapt Metadata"
   ]
  },
  {
   "cell_type": "code",
   "execution_count": 98,
   "metadata": {
    "collapsed": true
   },
   "outputs": [],
   "source": [
    "# we select 5 moods from the original list of tags \n",
    "moods = ['funky', 'quiet', 'mellow','calm', 'sad'] ## too little data: 'happy','scary']"
   ]
  },
  {
   "cell_type": "code",
   "execution_count": 99,
   "metadata": {
    "collapsed": true
   },
   "outputs": [],
   "source": [
    "# and check the data on it\n",
    "#metadata[moods]"
   ]
  },
  {
   "cell_type": "code",
   "execution_count": 100,
   "metadata": {},
   "outputs": [
    {
     "data": {
      "text/plain": [
       "funky     22\n",
       "quiet     86\n",
       "mellow    10\n",
       "calm      13\n",
       "sad       12\n",
       "dtype: int64"
      ]
     },
     "execution_count": 100,
     "metadata": {},
     "output_type": "execute_result"
    }
   ],
   "source": [
    "metadata[moods].sum()"
   ]
  },
  {
   "cell_type": "code",
   "execution_count": 101,
   "metadata": {
    "collapsed": true
   },
   "outputs": [],
   "source": [
    "# for the single-label genre task, we only retain tracks that have AT LEAST 1 of these moods assigned in groundtruth\n",
    "idx = metadata[moods].sum(axis=1) >= 1"
   ]
  },
  {
   "cell_type": "code",
   "execution_count": 102,
   "metadata": {},
   "outputs": [
    {
     "data": {
      "text/plain": [
       "(136, 5)"
      ]
     },
     "execution_count": 102,
     "metadata": {},
     "output_type": "execute_result"
    }
   ],
   "source": [
    "mood_metadata = metadata.loc[idx,moods]\n",
    "mood_metadata.shape"
   ]
  },
  {
   "cell_type": "code",
   "execution_count": 103,
   "metadata": {},
   "outputs": [
    {
     "data": {
      "text/plain": [
       "funky     22\n",
       "quiet     86\n",
       "mellow    10\n",
       "calm      13\n",
       "sad       12\n",
       "dtype: int64"
      ]
     },
     "execution_count": 103,
     "metadata": {},
     "output_type": "execute_result"
    }
   ],
   "source": [
    "# double check\n",
    "mood_metadata.sum()"
   ]
  },
  {
   "cell_type": "code",
   "execution_count": 104,
   "metadata": {},
   "outputs": [
    {
     "data": {
      "text/html": [
       "<div>\n",
       "<style scoped>\n",
       "    .dataframe tbody tr th:only-of-type {\n",
       "        vertical-align: middle;\n",
       "    }\n",
       "\n",
       "    .dataframe tbody tr th {\n",
       "        vertical-align: top;\n",
       "    }\n",
       "\n",
       "    .dataframe thead th {\n",
       "        text-align: right;\n",
       "    }\n",
       "</style>\n",
       "<table border=\"1\" class=\"dataframe\">\n",
       "  <thead>\n",
       "    <tr style=\"text-align: right;\">\n",
       "      <th></th>\n",
       "      <th>funky</th>\n",
       "      <th>quiet</th>\n",
       "      <th>mellow</th>\n",
       "      <th>calm</th>\n",
       "      <th>sad</th>\n",
       "    </tr>\n",
       "    <tr>\n",
       "      <th>mp3_path</th>\n",
       "      <th></th>\n",
       "      <th></th>\n",
       "      <th></th>\n",
       "      <th></th>\n",
       "      <th></th>\n",
       "    </tr>\n",
       "  </thead>\n",
       "  <tbody>\n",
       "    <tr>\n",
       "      <th>0/american_bach_soloists-j_s__bach__cantatas_volume_v-09-weinen_klagen_sorgen_zagen_bwv_12_iv_aria__kreuz_und_krone_sind_verbunden-59-88.mp3</th>\n",
       "      <td>0</td>\n",
       "      <td>1</td>\n",
       "      <td>0</td>\n",
       "      <td>0</td>\n",
       "      <td>0</td>\n",
       "    </tr>\n",
       "    <tr>\n",
       "      <th>7/american_bach_soloists-j_s__bach__mass_in_b_minor_cd2-05-crucifixus-88-117.mp3</th>\n",
       "      <td>0</td>\n",
       "      <td>1</td>\n",
       "      <td>0</td>\n",
       "      <td>0</td>\n",
       "      <td>0</td>\n",
       "    </tr>\n",
       "    <tr>\n",
       "      <th>7/american_bach_soloists-j_s__bach__mass_in_b_minor_cd2-07-et_in_spiritum_sanctum_dominum-291-320.mp3</th>\n",
       "      <td>0</td>\n",
       "      <td>1</td>\n",
       "      <td>0</td>\n",
       "      <td>0</td>\n",
       "      <td>0</td>\n",
       "    </tr>\n",
       "    <tr>\n",
       "      <th>7/american_bach_soloists-j_s__bach__mass_in_b_minor_cd2-14-agnus_dei-0-29.mp3</th>\n",
       "      <td>0</td>\n",
       "      <td>1</td>\n",
       "      <td>0</td>\n",
       "      <td>0</td>\n",
       "      <td>0</td>\n",
       "    </tr>\n",
       "    <tr>\n",
       "      <th>0/american_bach_soloists-j_s__bach__transcriptions_of_italian_music-08-psalm_51_tilge_hochster_meine_sunden_v_largo_verses_5_and_6-88-117.mp3</th>\n",
       "      <td>0</td>\n",
       "      <td>1</td>\n",
       "      <td>0</td>\n",
       "      <td>0</td>\n",
       "      <td>0</td>\n",
       "    </tr>\n",
       "    <tr>\n",
       "      <th>0/american_bach_soloists-joseph_haydn__masses-18-agnus_dei__adagio-30-59.mp3</th>\n",
       "      <td>0</td>\n",
       "      <td>1</td>\n",
       "      <td>0</td>\n",
       "      <td>0</td>\n",
       "      <td>0</td>\n",
       "    </tr>\n",
       "    <tr>\n",
       "      <th>f/american_baroque-the_four_seasons_by_vivaldi-04-concerto_no_2_in_g_minor_rv_315_summer__allegro_non_molto-204-233.mp3</th>\n",
       "      <td>0</td>\n",
       "      <td>0</td>\n",
       "      <td>0</td>\n",
       "      <td>0</td>\n",
       "      <td>1</td>\n",
       "    </tr>\n",
       "    <tr>\n",
       "      <th>a/asteria-soyes_loyal-10-of_a_rose_singe_we_lute_anon-88-117.mp3</th>\n",
       "      <td>0</td>\n",
       "      <td>1</td>\n",
       "      <td>0</td>\n",
       "      <td>0</td>\n",
       "      <td>0</td>\n",
       "    </tr>\n",
       "    <tr>\n",
       "      <th>8/beth_quist-lucidity-02-eli-0-29.mp3</th>\n",
       "      <td>0</td>\n",
       "      <td>1</td>\n",
       "      <td>0</td>\n",
       "      <td>0</td>\n",
       "      <td>0</td>\n",
       "    </tr>\n",
       "    <tr>\n",
       "      <th>a/bjorn_fogelberg-karooshi_porn-07-wave-204-233.mp3</th>\n",
       "      <td>0</td>\n",
       "      <td>0</td>\n",
       "      <td>0</td>\n",
       "      <td>1</td>\n",
       "      <td>0</td>\n",
       "    </tr>\n",
       "    <tr>\n",
       "      <th>a/bjorn_fogelberg-karooshi_porn-08-karooshi_porn-204-233.mp3</th>\n",
       "      <td>1</td>\n",
       "      <td>0</td>\n",
       "      <td>0</td>\n",
       "      <td>0</td>\n",
       "      <td>0</td>\n",
       "    </tr>\n",
       "    <tr>\n",
       "      <th>8/burning_babylon-knives_to_the_treble-03-king_dubby-146-175.mp3</th>\n",
       "      <td>1</td>\n",
       "      <td>0</td>\n",
       "      <td>0</td>\n",
       "      <td>0</td>\n",
       "      <td>0</td>\n",
       "    </tr>\n",
       "    <tr>\n",
       "      <th>e/burning_babylon-stereo_mash_up-06-soundshank_rockers-117-146.mp3</th>\n",
       "      <td>1</td>\n",
       "      <td>0</td>\n",
       "      <td>0</td>\n",
       "      <td>0</td>\n",
       "      <td>0</td>\n",
       "    </tr>\n",
       "    <tr>\n",
       "      <th>2/burnshee_thornside-blues_and_misc-03-hey_hey_hey-30-59.mp3</th>\n",
       "      <td>1</td>\n",
       "      <td>0</td>\n",
       "      <td>0</td>\n",
       "      <td>0</td>\n",
       "      <td>0</td>\n",
       "    </tr>\n",
       "    <tr>\n",
       "      <th>5/burnshee_thornside-rock_this_moon-03-doodelido-0-29.mp3</th>\n",
       "      <td>1</td>\n",
       "      <td>0</td>\n",
       "      <td>0</td>\n",
       "      <td>0</td>\n",
       "      <td>0</td>\n",
       "    </tr>\n",
       "    <tr>\n",
       "      <th>3/c__layne-potemkin_villages-06-thinking_of_you-30-59.mp3</th>\n",
       "      <td>0</td>\n",
       "      <td>0</td>\n",
       "      <td>1</td>\n",
       "      <td>0</td>\n",
       "      <td>0</td>\n",
       "    </tr>\n",
       "    <tr>\n",
       "      <th>3/c__layne-potemkin_villages-10-the_devil_and_the_woman-117-146.mp3</th>\n",
       "      <td>0</td>\n",
       "      <td>0</td>\n",
       "      <td>1</td>\n",
       "      <td>0</td>\n",
       "      <td>0</td>\n",
       "    </tr>\n",
       "    <tr>\n",
       "      <th>e/c_layne-the_sun_will_come_out_to_blind_you-04-less_of_you_feat__revel_yth-117-146.mp3</th>\n",
       "      <td>0</td>\n",
       "      <td>0</td>\n",
       "      <td>1</td>\n",
       "      <td>0</td>\n",
       "      <td>0</td>\n",
       "    </tr>\n",
       "    <tr>\n",
       "      <th>b/cargo_cult-alchemy-03-dilemma-0-29.mp3</th>\n",
       "      <td>1</td>\n",
       "      <td>0</td>\n",
       "      <td>0</td>\n",
       "      <td>0</td>\n",
       "      <td>0</td>\n",
       "    </tr>\n",
       "    <tr>\n",
       "      <th>b/cargo_cult-alchemy-13-matt-30-59.mp3</th>\n",
       "      <td>1</td>\n",
       "      <td>0</td>\n",
       "      <td>0</td>\n",
       "      <td>0</td>\n",
       "      <td>0</td>\n",
       "    </tr>\n",
       "    <tr>\n",
       "      <th>9/cheryl_ann_fulton-the_airs_of_wales-11-the_marsh_of_rhuddlan-59-88.mp3</th>\n",
       "      <td>0</td>\n",
       "      <td>1</td>\n",
       "      <td>0</td>\n",
       "      <td>0</td>\n",
       "      <td>0</td>\n",
       "    </tr>\n",
       "    <tr>\n",
       "      <th>0/chris_harvey-the_white_sail-04-secrets_from_the_screen-175-204.mp3</th>\n",
       "      <td>0</td>\n",
       "      <td>1</td>\n",
       "      <td>0</td>\n",
       "      <td>0</td>\n",
       "      <td>0</td>\n",
       "    </tr>\n",
       "    <tr>\n",
       "      <th>0/chris_harvey-the_white_sail-05-liber_null__part_1-88-117.mp3</th>\n",
       "      <td>0</td>\n",
       "      <td>1</td>\n",
       "      <td>0</td>\n",
       "      <td>0</td>\n",
       "      <td>0</td>\n",
       "    </tr>\n",
       "    <tr>\n",
       "      <th>0/chris_harvey-the_white_sail-07-elation_sedation-0-29.mp3</th>\n",
       "      <td>0</td>\n",
       "      <td>1</td>\n",
       "      <td>0</td>\n",
       "      <td>0</td>\n",
       "      <td>0</td>\n",
       "    </tr>\n",
       "    <tr>\n",
       "      <th>0/chris_harvey-the_white_sail-09-pixelize-175-204.mp3</th>\n",
       "      <td>0</td>\n",
       "      <td>1</td>\n",
       "      <td>0</td>\n",
       "      <td>0</td>\n",
       "      <td>0</td>\n",
       "    </tr>\n",
       "    <tr>\n",
       "      <th>a/da_camera-a_celtic_celebration-04-carolans_farewell_to_music_carolan_five_tunes_by_the_irish_harper-0-29.mp3</th>\n",
       "      <td>0</td>\n",
       "      <td>1</td>\n",
       "      <td>0</td>\n",
       "      <td>0</td>\n",
       "      <td>0</td>\n",
       "    </tr>\n",
       "    <tr>\n",
       "      <th>a/da_camera-a_celtic_celebration-15-scortese_autumn__the_marvel_of_peru_from_airs_for_the_seasons-0-29.mp3</th>\n",
       "      <td>0</td>\n",
       "      <td>1</td>\n",
       "      <td>0</td>\n",
       "      <td>0</td>\n",
       "      <td>0</td>\n",
       "    </tr>\n",
       "    <tr>\n",
       "      <th>0/daniel_ben_pienaar-book_2_cd2_welltempered_clavier-10-prelude_and_fugue_no__17_in_aflat_major_bwv_886_fuga-0-29.mp3</th>\n",
       "      <td>0</td>\n",
       "      <td>1</td>\n",
       "      <td>0</td>\n",
       "      <td>0</td>\n",
       "      <td>0</td>\n",
       "    </tr>\n",
       "    <tr>\n",
       "      <th>b/dj_cary-power_synths-03-from_love_2_wicked_allstars-30-59.mp3</th>\n",
       "      <td>1</td>\n",
       "      <td>0</td>\n",
       "      <td>0</td>\n",
       "      <td>0</td>\n",
       "      <td>0</td>\n",
       "    </tr>\n",
       "    <tr>\n",
       "      <th>b/dj_cary-power_synths-11-termoli_stargarden-30-59.mp3</th>\n",
       "      <td>1</td>\n",
       "      <td>0</td>\n",
       "      <td>0</td>\n",
       "      <td>0</td>\n",
       "      <td>0</td>\n",
       "    </tr>\n",
       "    <tr>\n",
       "      <th>...</th>\n",
       "      <td>...</td>\n",
       "      <td>...</td>\n",
       "      <td>...</td>\n",
       "      <td>...</td>\n",
       "      <td>...</td>\n",
       "    </tr>\n",
       "    <tr>\n",
       "      <th>5/rapoon-fallen_gods-06-sacrement-0-29.mp3</th>\n",
       "      <td>0</td>\n",
       "      <td>1</td>\n",
       "      <td>0</td>\n",
       "      <td>0</td>\n",
       "      <td>0</td>\n",
       "    </tr>\n",
       "    <tr>\n",
       "      <th>f/rapoon-tin_of_drum-04-between_the_hours-59-88.mp3</th>\n",
       "      <td>0</td>\n",
       "      <td>1</td>\n",
       "      <td>0</td>\n",
       "      <td>0</td>\n",
       "      <td>0</td>\n",
       "    </tr>\n",
       "    <tr>\n",
       "      <th>a/rhonda_lorence-winter_moon-08-lament_of_the_loons-117-146.mp3</th>\n",
       "      <td>0</td>\n",
       "      <td>0</td>\n",
       "      <td>0</td>\n",
       "      <td>0</td>\n",
       "      <td>1</td>\n",
       "    </tr>\n",
       "    <tr>\n",
       "      <th>b/rob_costlow-sophomore_jinx-03-lost_or_found-88-117.mp3</th>\n",
       "      <td>0</td>\n",
       "      <td>1</td>\n",
       "      <td>0</td>\n",
       "      <td>0</td>\n",
       "      <td>0</td>\n",
       "    </tr>\n",
       "    <tr>\n",
       "      <th>d/satori-golden_dreams-02-dolphins_heart-30-59.mp3</th>\n",
       "      <td>0</td>\n",
       "      <td>1</td>\n",
       "      <td>0</td>\n",
       "      <td>0</td>\n",
       "      <td>0</td>\n",
       "    </tr>\n",
       "    <tr>\n",
       "      <th>d/satori-golden_dreams-04-golden_dreams-59-88.mp3</th>\n",
       "      <td>0</td>\n",
       "      <td>1</td>\n",
       "      <td>0</td>\n",
       "      <td>0</td>\n",
       "      <td>0</td>\n",
       "    </tr>\n",
       "    <tr>\n",
       "      <th>b/satori-journey_to_other_worlds-02-other_worlds-1422-1451.mp3</th>\n",
       "      <td>0</td>\n",
       "      <td>1</td>\n",
       "      <td>0</td>\n",
       "      <td>0</td>\n",
       "      <td>0</td>\n",
       "    </tr>\n",
       "    <tr>\n",
       "      <th>e/seth_carlin-mozart_in_the_age_of_enlightenment-14-sonata_in_bflat_major__kv_333__andante_cantabile_wolfgang_amadeus_mozart-59-88.mp3</th>\n",
       "      <td>0</td>\n",
       "      <td>1</td>\n",
       "      <td>0</td>\n",
       "      <td>0</td>\n",
       "      <td>0</td>\n",
       "    </tr>\n",
       "    <tr>\n",
       "      <th>e/seth_carlin-mozart_in_the_age_of_enlightenment-15-sonata_in_bflat_major__kv_333__allegretto_grazioso_wolfgang_amadeus_mozart-59-88.mp3</th>\n",
       "      <td>0</td>\n",
       "      <td>1</td>\n",
       "      <td>0</td>\n",
       "      <td>0</td>\n",
       "      <td>0</td>\n",
       "    </tr>\n",
       "    <tr>\n",
       "      <th>1/solace-the_gathering_season-10-hujayni-88-117.mp3</th>\n",
       "      <td>1</td>\n",
       "      <td>0</td>\n",
       "      <td>0</td>\n",
       "      <td>0</td>\n",
       "      <td>0</td>\n",
       "    </tr>\n",
       "    <tr>\n",
       "      <th>c/strojovna_07-number_1-02-selection-59-88.mp3</th>\n",
       "      <td>1</td>\n",
       "      <td>0</td>\n",
       "      <td>0</td>\n",
       "      <td>0</td>\n",
       "      <td>0</td>\n",
       "    </tr>\n",
       "    <tr>\n",
       "      <th>1/suzanne_teng-mystic_journey-08-clouds_across_the_darkness-117-146.mp3</th>\n",
       "      <td>0</td>\n",
       "      <td>1</td>\n",
       "      <td>0</td>\n",
       "      <td>0</td>\n",
       "      <td>0</td>\n",
       "    </tr>\n",
       "    <tr>\n",
       "      <th>0/the_bots-truth-06-dont_funk_with_the_funk_junkie-0-29.mp3</th>\n",
       "      <td>1</td>\n",
       "      <td>0</td>\n",
       "      <td>0</td>\n",
       "      <td>0</td>\n",
       "      <td>0</td>\n",
       "    </tr>\n",
       "    <tr>\n",
       "      <th>4/the_marginal_prophets-bohemian_rap_cd-03-yes_pants-117-146.mp3</th>\n",
       "      <td>1</td>\n",
       "      <td>0</td>\n",
       "      <td>0</td>\n",
       "      <td>0</td>\n",
       "      <td>0</td>\n",
       "    </tr>\n",
       "    <tr>\n",
       "      <th>4/the_marginal_prophets-bohemian_rap_cd-09-spotlight-0-29.mp3</th>\n",
       "      <td>1</td>\n",
       "      <td>0</td>\n",
       "      <td>0</td>\n",
       "      <td>0</td>\n",
       "      <td>0</td>\n",
       "    </tr>\n",
       "    <tr>\n",
       "      <th>4/the_marginal_prophets-bohemian_rap_cd-11-the_difficult_song-30-59.mp3</th>\n",
       "      <td>1</td>\n",
       "      <td>0</td>\n",
       "      <td>0</td>\n",
       "      <td>0</td>\n",
       "      <td>0</td>\n",
       "    </tr>\n",
       "    <tr>\n",
       "      <th>1/the_rajdhani_quartet-the_gandhi_memorial_concert-01-raga_hansa_kalyani-59-88.mp3</th>\n",
       "      <td>0</td>\n",
       "      <td>1</td>\n",
       "      <td>0</td>\n",
       "      <td>0</td>\n",
       "      <td>0</td>\n",
       "    </tr>\n",
       "    <tr>\n",
       "      <th>a/tilopa-by_the_way-01-by_the_way-117-146.mp3</th>\n",
       "      <td>0</td>\n",
       "      <td>1</td>\n",
       "      <td>0</td>\n",
       "      <td>0</td>\n",
       "      <td>0</td>\n",
       "    </tr>\n",
       "    <tr>\n",
       "      <th>a/tilopa-by_the_way-02-red_fullmoon-349-378.mp3</th>\n",
       "      <td>0</td>\n",
       "      <td>1</td>\n",
       "      <td>0</td>\n",
       "      <td>0</td>\n",
       "      <td>0</td>\n",
       "    </tr>\n",
       "    <tr>\n",
       "      <th>e/tilopa-out_of_the_blue-04-wings_over_water-581-610.mp3</th>\n",
       "      <td>0</td>\n",
       "      <td>1</td>\n",
       "      <td>0</td>\n",
       "      <td>0</td>\n",
       "      <td>0</td>\n",
       "    </tr>\n",
       "    <tr>\n",
       "      <th>e/tilopa-out_of_the_blue-06-el_corazon_canta-30-59.mp3</th>\n",
       "      <td>0</td>\n",
       "      <td>1</td>\n",
       "      <td>0</td>\n",
       "      <td>1</td>\n",
       "      <td>0</td>\n",
       "    </tr>\n",
       "    <tr>\n",
       "      <th>d/tim_rayborn-chordae-02-fors_souvenir-59-88.mp3</th>\n",
       "      <td>0</td>\n",
       "      <td>1</td>\n",
       "      <td>0</td>\n",
       "      <td>0</td>\n",
       "      <td>0</td>\n",
       "    </tr>\n",
       "    <tr>\n",
       "      <th>c/touchinggrace-happenstance-09-southern_sultry-30-59.mp3</th>\n",
       "      <td>0</td>\n",
       "      <td>0</td>\n",
       "      <td>0</td>\n",
       "      <td>1</td>\n",
       "      <td>0</td>\n",
       "    </tr>\n",
       "    <tr>\n",
       "      <th>1/touchinggrace-the_reformation_sessions-04-melon_tropic_sunrise-204-233.mp3</th>\n",
       "      <td>0</td>\n",
       "      <td>0</td>\n",
       "      <td>1</td>\n",
       "      <td>0</td>\n",
       "      <td>0</td>\n",
       "    </tr>\n",
       "    <tr>\n",
       "      <th>4/trip_wamsley-its_better_this_way-08-note_to_self-175-204.mp3</th>\n",
       "      <td>0</td>\n",
       "      <td>0</td>\n",
       "      <td>1</td>\n",
       "      <td>0</td>\n",
       "      <td>0</td>\n",
       "    </tr>\n",
       "    <tr>\n",
       "      <th>0/voices_of_music-an_evening_with_bach-01-air_on_a_g_string_bwv_1069-59-88.mp3</th>\n",
       "      <td>0</td>\n",
       "      <td>1</td>\n",
       "      <td>0</td>\n",
       "      <td>0</td>\n",
       "      <td>0</td>\n",
       "    </tr>\n",
       "    <tr>\n",
       "      <th>0/voices_of_music-an_evening_with_bach-09-prelude_in_g_major_bwv_1007-59-88.mp3</th>\n",
       "      <td>0</td>\n",
       "      <td>1</td>\n",
       "      <td>0</td>\n",
       "      <td>1</td>\n",
       "      <td>0</td>\n",
       "    </tr>\n",
       "    <tr>\n",
       "      <th>0/voices_of_music-an_evening_with_bach-11-sarabanda_bwv_1004-30-59.mp3</th>\n",
       "      <td>0</td>\n",
       "      <td>1</td>\n",
       "      <td>0</td>\n",
       "      <td>0</td>\n",
       "      <td>0</td>\n",
       "    </tr>\n",
       "    <tr>\n",
       "      <th>0/williamson-a_few_things_to_hear_before_we_all_blow_up-09-and_then_its_all_gone-0-29.mp3</th>\n",
       "      <td>0</td>\n",
       "      <td>1</td>\n",
       "      <td>0</td>\n",
       "      <td>0</td>\n",
       "      <td>0</td>\n",
       "    </tr>\n",
       "    <tr>\n",
       "      <th>e/yongen-moonrise-03-sunflower-146-175.mp3</th>\n",
       "      <td>0</td>\n",
       "      <td>0</td>\n",
       "      <td>1</td>\n",
       "      <td>0</td>\n",
       "      <td>0</td>\n",
       "    </tr>\n",
       "  </tbody>\n",
       "</table>\n",
       "<p>136 rows × 5 columns</p>\n",
       "</div>"
      ],
      "text/plain": [
       "                                                    funky  quiet  mellow  \\\n",
       "mp3_path                                                                   \n",
       "0/american_bach_soloists-j_s__bach__cantatas_vo...      0      1       0   \n",
       "7/american_bach_soloists-j_s__bach__mass_in_b_m...      0      1       0   \n",
       "7/american_bach_soloists-j_s__bach__mass_in_b_m...      0      1       0   \n",
       "7/american_bach_soloists-j_s__bach__mass_in_b_m...      0      1       0   \n",
       "0/american_bach_soloists-j_s__bach__transcripti...      0      1       0   \n",
       "0/american_bach_soloists-joseph_haydn__masses-1...      0      1       0   \n",
       "f/american_baroque-the_four_seasons_by_vivaldi-...      0      0       0   \n",
       "a/asteria-soyes_loyal-10-of_a_rose_singe_we_lut...      0      1       0   \n",
       "8/beth_quist-lucidity-02-eli-0-29.mp3                   0      1       0   \n",
       "a/bjorn_fogelberg-karooshi_porn-07-wave-204-233...      0      0       0   \n",
       "a/bjorn_fogelberg-karooshi_porn-08-karooshi_por...      1      0       0   \n",
       "8/burning_babylon-knives_to_the_treble-03-king_...      1      0       0   \n",
       "e/burning_babylon-stereo_mash_up-06-soundshank_...      1      0       0   \n",
       "2/burnshee_thornside-blues_and_misc-03-hey_hey_...      1      0       0   \n",
       "5/burnshee_thornside-rock_this_moon-03-doodelid...      1      0       0   \n",
       "3/c__layne-potemkin_villages-06-thinking_of_you...      0      0       1   \n",
       "3/c__layne-potemkin_villages-10-the_devil_and_t...      0      0       1   \n",
       "e/c_layne-the_sun_will_come_out_to_blind_you-04...      0      0       1   \n",
       "b/cargo_cult-alchemy-03-dilemma-0-29.mp3                1      0       0   \n",
       "b/cargo_cult-alchemy-13-matt-30-59.mp3                  1      0       0   \n",
       "9/cheryl_ann_fulton-the_airs_of_wales-11-the_ma...      0      1       0   \n",
       "0/chris_harvey-the_white_sail-04-secrets_from_t...      0      1       0   \n",
       "0/chris_harvey-the_white_sail-05-liber_null__pa...      0      1       0   \n",
       "0/chris_harvey-the_white_sail-07-elation_sedati...      0      1       0   \n",
       "0/chris_harvey-the_white_sail-09-pixelize-175-2...      0      1       0   \n",
       "a/da_camera-a_celtic_celebration-04-carolans_fa...      0      1       0   \n",
       "a/da_camera-a_celtic_celebration-15-scortese_au...      0      1       0   \n",
       "0/daniel_ben_pienaar-book_2_cd2_welltempered_cl...      0      1       0   \n",
       "b/dj_cary-power_synths-03-from_love_2_wicked_al...      1      0       0   \n",
       "b/dj_cary-power_synths-11-termoli_stargarden-30...      1      0       0   \n",
       "...                                                   ...    ...     ...   \n",
       "5/rapoon-fallen_gods-06-sacrement-0-29.mp3              0      1       0   \n",
       "f/rapoon-tin_of_drum-04-between_the_hours-59-88...      0      1       0   \n",
       "a/rhonda_lorence-winter_moon-08-lament_of_the_l...      0      0       0   \n",
       "b/rob_costlow-sophomore_jinx-03-lost_or_found-8...      0      1       0   \n",
       "d/satori-golden_dreams-02-dolphins_heart-30-59.mp3      0      1       0   \n",
       "d/satori-golden_dreams-04-golden_dreams-59-88.mp3       0      1       0   \n",
       "b/satori-journey_to_other_worlds-02-other_world...      0      1       0   \n",
       "e/seth_carlin-mozart_in_the_age_of_enlightenmen...      0      1       0   \n",
       "e/seth_carlin-mozart_in_the_age_of_enlightenmen...      0      1       0   \n",
       "1/solace-the_gathering_season-10-hujayni-88-117...      1      0       0   \n",
       "c/strojovna_07-number_1-02-selection-59-88.mp3          1      0       0   \n",
       "1/suzanne_teng-mystic_journey-08-clouds_across_...      0      1       0   \n",
       "0/the_bots-truth-06-dont_funk_with_the_funk_jun...      1      0       0   \n",
       "4/the_marginal_prophets-bohemian_rap_cd-03-yes_...      1      0       0   \n",
       "4/the_marginal_prophets-bohemian_rap_cd-09-spot...      1      0       0   \n",
       "4/the_marginal_prophets-bohemian_rap_cd-11-the_...      1      0       0   \n",
       "1/the_rajdhani_quartet-the_gandhi_memorial_conc...      0      1       0   \n",
       "a/tilopa-by_the_way-01-by_the_way-117-146.mp3           0      1       0   \n",
       "a/tilopa-by_the_way-02-red_fullmoon-349-378.mp3         0      1       0   \n",
       "e/tilopa-out_of_the_blue-04-wings_over_water-58...      0      1       0   \n",
       "e/tilopa-out_of_the_blue-06-el_corazon_canta-30...      0      1       0   \n",
       "d/tim_rayborn-chordae-02-fors_souvenir-59-88.mp3        0      1       0   \n",
       "c/touchinggrace-happenstance-09-southern_sultry...      0      0       0   \n",
       "1/touchinggrace-the_reformation_sessions-04-mel...      0      0       1   \n",
       "4/trip_wamsley-its_better_this_way-08-note_to_s...      0      0       1   \n",
       "0/voices_of_music-an_evening_with_bach-01-air_o...      0      1       0   \n",
       "0/voices_of_music-an_evening_with_bach-09-prelu...      0      1       0   \n",
       "0/voices_of_music-an_evening_with_bach-11-sarab...      0      1       0   \n",
       "0/williamson-a_few_things_to_hear_before_we_all...      0      1       0   \n",
       "e/yongen-moonrise-03-sunflower-146-175.mp3              0      0       1   \n",
       "\n",
       "                                                    calm  sad  \n",
       "mp3_path                                                       \n",
       "0/american_bach_soloists-j_s__bach__cantatas_vo...     0    0  \n",
       "7/american_bach_soloists-j_s__bach__mass_in_b_m...     0    0  \n",
       "7/american_bach_soloists-j_s__bach__mass_in_b_m...     0    0  \n",
       "7/american_bach_soloists-j_s__bach__mass_in_b_m...     0    0  \n",
       "0/american_bach_soloists-j_s__bach__transcripti...     0    0  \n",
       "0/american_bach_soloists-joseph_haydn__masses-1...     0    0  \n",
       "f/american_baroque-the_four_seasons_by_vivaldi-...     0    1  \n",
       "a/asteria-soyes_loyal-10-of_a_rose_singe_we_lut...     0    0  \n",
       "8/beth_quist-lucidity-02-eli-0-29.mp3                  0    0  \n",
       "a/bjorn_fogelberg-karooshi_porn-07-wave-204-233...     1    0  \n",
       "a/bjorn_fogelberg-karooshi_porn-08-karooshi_por...     0    0  \n",
       "8/burning_babylon-knives_to_the_treble-03-king_...     0    0  \n",
       "e/burning_babylon-stereo_mash_up-06-soundshank_...     0    0  \n",
       "2/burnshee_thornside-blues_and_misc-03-hey_hey_...     0    0  \n",
       "5/burnshee_thornside-rock_this_moon-03-doodelid...     0    0  \n",
       "3/c__layne-potemkin_villages-06-thinking_of_you...     0    0  \n",
       "3/c__layne-potemkin_villages-10-the_devil_and_t...     0    0  \n",
       "e/c_layne-the_sun_will_come_out_to_blind_you-04...     0    0  \n",
       "b/cargo_cult-alchemy-03-dilemma-0-29.mp3               0    0  \n",
       "b/cargo_cult-alchemy-13-matt-30-59.mp3                 0    0  \n",
       "9/cheryl_ann_fulton-the_airs_of_wales-11-the_ma...     0    0  \n",
       "0/chris_harvey-the_white_sail-04-secrets_from_t...     0    0  \n",
       "0/chris_harvey-the_white_sail-05-liber_null__pa...     0    0  \n",
       "0/chris_harvey-the_white_sail-07-elation_sedati...     0    0  \n",
       "0/chris_harvey-the_white_sail-09-pixelize-175-2...     0    0  \n",
       "a/da_camera-a_celtic_celebration-04-carolans_fa...     0    0  \n",
       "a/da_camera-a_celtic_celebration-15-scortese_au...     0    0  \n",
       "0/daniel_ben_pienaar-book_2_cd2_welltempered_cl...     0    0  \n",
       "b/dj_cary-power_synths-03-from_love_2_wicked_al...     0    0  \n",
       "b/dj_cary-power_synths-11-termoli_stargarden-30...     0    0  \n",
       "...                                                  ...  ...  \n",
       "5/rapoon-fallen_gods-06-sacrement-0-29.mp3             0    0  \n",
       "f/rapoon-tin_of_drum-04-between_the_hours-59-88...     0    0  \n",
       "a/rhonda_lorence-winter_moon-08-lament_of_the_l...     0    1  \n",
       "b/rob_costlow-sophomore_jinx-03-lost_or_found-8...     0    0  \n",
       "d/satori-golden_dreams-02-dolphins_heart-30-59.mp3     0    0  \n",
       "d/satori-golden_dreams-04-golden_dreams-59-88.mp3      0    0  \n",
       "b/satori-journey_to_other_worlds-02-other_world...     0    0  \n",
       "e/seth_carlin-mozart_in_the_age_of_enlightenmen...     0    0  \n",
       "e/seth_carlin-mozart_in_the_age_of_enlightenmen...     0    0  \n",
       "1/solace-the_gathering_season-10-hujayni-88-117...     0    0  \n",
       "c/strojovna_07-number_1-02-selection-59-88.mp3         0    0  \n",
       "1/suzanne_teng-mystic_journey-08-clouds_across_...     0    0  \n",
       "0/the_bots-truth-06-dont_funk_with_the_funk_jun...     0    0  \n",
       "4/the_marginal_prophets-bohemian_rap_cd-03-yes_...     0    0  \n",
       "4/the_marginal_prophets-bohemian_rap_cd-09-spot...     0    0  \n",
       "4/the_marginal_prophets-bohemian_rap_cd-11-the_...     0    0  \n",
       "1/the_rajdhani_quartet-the_gandhi_memorial_conc...     0    0  \n",
       "a/tilopa-by_the_way-01-by_the_way-117-146.mp3          0    0  \n",
       "a/tilopa-by_the_way-02-red_fullmoon-349-378.mp3        0    0  \n",
       "e/tilopa-out_of_the_blue-04-wings_over_water-58...     0    0  \n",
       "e/tilopa-out_of_the_blue-06-el_corazon_canta-30...     1    0  \n",
       "d/tim_rayborn-chordae-02-fors_souvenir-59-88.mp3       0    0  \n",
       "c/touchinggrace-happenstance-09-southern_sultry...     1    0  \n",
       "1/touchinggrace-the_reformation_sessions-04-mel...     0    0  \n",
       "4/trip_wamsley-its_better_this_way-08-note_to_s...     0    0  \n",
       "0/voices_of_music-an_evening_with_bach-01-air_o...     0    0  \n",
       "0/voices_of_music-an_evening_with_bach-09-prelu...     1    0  \n",
       "0/voices_of_music-an_evening_with_bach-11-sarab...     0    0  \n",
       "0/williamson-a_few_things_to_hear_before_we_all...     0    0  \n",
       "e/yongen-moonrise-03-sunflower-146-175.mp3             0    0  \n",
       "\n",
       "[136 rows x 5 columns]"
      ]
     },
     "execution_count": 104,
     "metadata": {},
     "output_type": "execute_result"
    }
   ],
   "source": [
    "mood_metadata"
   ]
  },
  {
   "cell_type": "code",
   "execution_count": 105,
   "metadata": {},
   "outputs": [
    {
     "data": {
      "text/plain": [
       "array([[0, 1, 0, 0, 0],\n",
       "       [0, 1, 0, 0, 0],\n",
       "       [0, 1, 0, 0, 0],\n",
       "       [0, 1, 0, 0, 0],\n",
       "       [0, 1, 0, 0, 0],\n",
       "       [0, 1, 0, 0, 0],\n",
       "       [0, 0, 0, 0, 1],\n",
       "       [0, 1, 0, 0, 0],\n",
       "       [0, 1, 0, 0, 0],\n",
       "       [0, 0, 0, 1, 0],\n",
       "       [1, 0, 0, 0, 0],\n",
       "       [1, 0, 0, 0, 0],\n",
       "       [1, 0, 0, 0, 0],\n",
       "       [1, 0, 0, 0, 0],\n",
       "       [1, 0, 0, 0, 0],\n",
       "       [0, 0, 1, 0, 0],\n",
       "       [0, 0, 1, 0, 0],\n",
       "       [0, 0, 1, 0, 0],\n",
       "       [1, 0, 0, 0, 0],\n",
       "       [1, 0, 0, 0, 0],\n",
       "       [0, 1, 0, 0, 0],\n",
       "       [0, 1, 0, 0, 0],\n",
       "       [0, 1, 0, 0, 0],\n",
       "       [0, 1, 0, 0, 0],\n",
       "       [0, 1, 0, 0, 0],\n",
       "       [0, 1, 0, 0, 0],\n",
       "       [0, 1, 0, 0, 0],\n",
       "       [0, 1, 0, 0, 0],\n",
       "       [1, 0, 0, 0, 0],\n",
       "       [1, 0, 0, 0, 0],\n",
       "       [0, 1, 0, 0, 0],\n",
       "       [0, 1, 0, 0, 0],\n",
       "       [0, 1, 0, 0, 0],\n",
       "       [0, 0, 0, 1, 0],\n",
       "       [0, 1, 0, 1, 0],\n",
       "       [0, 1, 0, 0, 0],\n",
       "       [0, 1, 0, 0, 0],\n",
       "       [1, 0, 0, 0, 0],\n",
       "       [1, 0, 0, 0, 0],\n",
       "       [0, 1, 0, 0, 0],\n",
       "       [1, 0, 0, 0, 0],\n",
       "       [1, 0, 0, 0, 0],\n",
       "       [0, 1, 0, 0, 0],\n",
       "       [0, 1, 0, 0, 0],\n",
       "       [0, 1, 0, 0, 0],\n",
       "       [0, 0, 0, 1, 0],\n",
       "       [0, 1, 0, 0, 0],\n",
       "       [1, 0, 0, 0, 0],\n",
       "       [1, 0, 0, 0, 0],\n",
       "       [0, 1, 0, 0, 0],\n",
       "       [0, 0, 1, 0, 0],\n",
       "       [0, 1, 0, 0, 0],\n",
       "       [0, 1, 0, 0, 0],\n",
       "       [0, 1, 0, 0, 0],\n",
       "       [0, 1, 0, 0, 0],\n",
       "       [0, 1, 0, 0, 0],\n",
       "       [0, 1, 0, 0, 0],\n",
       "       [0, 1, 0, 0, 0],\n",
       "       [0, 1, 0, 0, 0],\n",
       "       [0, 0, 1, 0, 0],\n",
       "       [0, 1, 0, 0, 0],\n",
       "       [0, 0, 0, 1, 0],\n",
       "       [0, 1, 0, 0, 0],\n",
       "       [0, 1, 0, 0, 0],\n",
       "       [0, 0, 0, 1, 0],\n",
       "       [0, 1, 0, 0, 0],\n",
       "       [0, 1, 0, 0, 0],\n",
       "       [0, 1, 0, 0, 0],\n",
       "       [0, 1, 0, 0, 0],\n",
       "       [0, 1, 0, 0, 0],\n",
       "       [0, 0, 0, 0, 1],\n",
       "       [0, 1, 0, 0, 0],\n",
       "       [0, 1, 0, 0, 0],\n",
       "       [0, 1, 0, 0, 0],\n",
       "       [0, 0, 1, 0, 0],\n",
       "       [0, 0, 0, 0, 1],\n",
       "       [0, 1, 0, 1, 0],\n",
       "       [0, 1, 0, 0, 0],\n",
       "       [0, 1, 0, 0, 0],\n",
       "       [0, 1, 0, 0, 0],\n",
       "       [0, 1, 0, 0, 0],\n",
       "       [0, 1, 0, 0, 0],\n",
       "       [0, 0, 0, 0, 1],\n",
       "       [0, 1, 0, 0, 0],\n",
       "       [0, 1, 0, 0, 0],\n",
       "       [0, 0, 0, 0, 1],\n",
       "       [0, 1, 0, 0, 0],\n",
       "       [0, 1, 0, 1, 0],\n",
       "       [0, 1, 0, 0, 0],\n",
       "       [0, 0, 0, 1, 1],\n",
       "       [0, 1, 0, 1, 0],\n",
       "       [0, 0, 1, 0, 0],\n",
       "       [0, 0, 0, 0, 1],\n",
       "       [0, 0, 0, 0, 1],\n",
       "       [0, 1, 0, 0, 0],\n",
       "       [0, 0, 0, 0, 1],\n",
       "       [1, 0, 0, 0, 0],\n",
       "       [0, 1, 0, 0, 0],\n",
       "       [0, 1, 0, 0, 0],\n",
       "       [0, 1, 0, 0, 0],\n",
       "       [0, 0, 0, 0, 1],\n",
       "       [0, 1, 0, 0, 0],\n",
       "       [0, 1, 0, 0, 0],\n",
       "       [0, 1, 0, 0, 0],\n",
       "       [0, 0, 0, 0, 1],\n",
       "       [0, 1, 0, 0, 0],\n",
       "       [0, 1, 0, 0, 0],\n",
       "       [0, 1, 0, 0, 0],\n",
       "       [0, 0, 0, 0, 1],\n",
       "       [0, 1, 0, 0, 0],\n",
       "       [0, 1, 0, 0, 0],\n",
       "       [0, 1, 0, 0, 0],\n",
       "       [0, 1, 0, 0, 0],\n",
       "       [0, 1, 0, 0, 0],\n",
       "       [0, 1, 0, 0, 0],\n",
       "       [1, 0, 0, 0, 0],\n",
       "       [1, 0, 0, 0, 0],\n",
       "       [0, 1, 0, 0, 0],\n",
       "       [1, 0, 0, 0, 0],\n",
       "       [1, 0, 0, 0, 0],\n",
       "       [1, 0, 0, 0, 0],\n",
       "       [1, 0, 0, 0, 0],\n",
       "       [0, 1, 0, 0, 0],\n",
       "       [0, 1, 0, 0, 0],\n",
       "       [0, 1, 0, 0, 0],\n",
       "       [0, 1, 0, 0, 0],\n",
       "       [0, 1, 0, 1, 0],\n",
       "       [0, 1, 0, 0, 0],\n",
       "       [0, 0, 0, 1, 0],\n",
       "       [0, 0, 1, 0, 0],\n",
       "       [0, 0, 1, 0, 0],\n",
       "       [0, 1, 0, 0, 0],\n",
       "       [0, 1, 0, 1, 0],\n",
       "       [0, 1, 0, 0, 0],\n",
       "       [0, 1, 0, 0, 0],\n",
       "       [0, 0, 1, 0, 0]])"
      ]
     },
     "execution_count": 105,
     "metadata": {},
     "output_type": "execute_result"
    }
   ],
   "source": [
    "# classes needs to be a MULTI-HOT encoded\" numpy array \n",
    "# (which our groundtruth already is! we just convert pandas to numpy)\n",
    "classes = mood_metadata.values\n",
    "classes"
   ]
  },
  {
   "cell_type": "code",
   "execution_count": 106,
   "metadata": {},
   "outputs": [
    {
     "data": {
      "text/plain": [
       "array([22, 86, 10, 13, 12])"
      ]
     },
     "execution_count": 106,
     "metadata": {},
     "output_type": "execute_result"
    }
   ],
   "source": [
    "classes.sum(axis=0)"
   ]
  },
  {
   "cell_type": "code",
   "execution_count": 107,
   "metadata": {
    "collapsed": true
   },
   "outputs": [],
   "source": [
    "filelist = mood_metadata.index.tolist()"
   ]
  },
  {
   "cell_type": "markdown",
   "metadata": {},
   "source": [
    "## Load Audio Spectrograms\n",
    "\n",
    "based on the new filelist needed for the mood task \n",
    "\n",
    "we keep n_mel_bands and frames the same as before"
   ]
  },
  {
   "cell_type": "code",
   "execution_count": 108,
   "metadata": {
    "collapsed": true
   },
   "outputs": [],
   "source": [
    "# if we saved the audio spectrograms before, we try to load them\n",
    "load_features = True\n",
    "\n",
    "# if not, we store audio features for faster reload the next time\n",
    "save_features = True\n",
    "\n",
    "FEAT_FILE = os.path.join(DATA_PATH, \"spectrograms_moods.npz\")"
   ]
  },
  {
   "cell_type": "code",
   "execution_count": 109,
   "metadata": {
    "collapsed": true
   },
   "outputs": [],
   "source": [
    "if load_features:\n",
    "    if os.path.exists(FEAT_FILE):\n",
    "        with np.load(FEAT_FILE) as npz:\n",
    "            data = npz['data']\n",
    "            filelist = npz['filenames']\n",
    "            classes = npz['classes']\n",
    "        print(\"Loaded features successfully: \" + str(len(filelist)), \"files, dimensions:\", data.shape)\n",
    "    else:\n",
    "        load_features = False"
   ]
  },
  {
   "cell_type": "code",
   "execution_count": 110,
   "metadata": {},
   "outputs": [
    {
     "name": "stdout",
     "output_type": "stream",
     "text": [
      "Reading and processing 136 audio files\n",
      "........"
     ]
    },
    {
     "name": "stderr",
     "output_type": "stream",
     "text": [
      "/home/schindler/anaconda/python2/envs/py36/lib/python3.6/site-packages/ipykernel_launcher.py:35: RuntimeWarning: divide by zero encountered in log10\n"
     ]
    },
    {
     "name": "stdout",
     "output_type": "stream",
     "text": [
      "................................................................................................................................\n",
      "Converting to big data array...\n",
      "done.\n",
      "Features stored to /home/schindler/tutorials/mlprague2018/data//MagnaTagATune/spectrograms_moods.npz\n"
     ]
    }
   ],
   "source": [
    "if not load_features:\n",
    "    data = create_spectrograms(filelist, n_mel_bands, frames)\n",
    "\n",
    "    if save_features:\n",
    "        np.savez(FEAT_FILE, data=data, filenames=filelist, classes=classes)\n",
    "        print(\"Features stored to \" + FEAT_FILE)"
   ]
  },
  {
   "cell_type": "code",
   "execution_count": 111,
   "metadata": {},
   "outputs": [
    {
     "data": {
      "text/plain": [
       "(136, 96, 683)"
      ]
     },
     "execution_count": 111,
     "metadata": {},
     "output_type": "execute_result"
    }
   ],
   "source": [
    "data.shape"
   ]
  },
  {
   "cell_type": "code",
   "execution_count": 112,
   "metadata": {},
   "outputs": [
    {
     "data": {
      "text/plain": [
       "(136, 96, 683)"
      ]
     },
     "execution_count": 112,
     "metadata": {},
     "output_type": "execute_result"
    }
   ],
   "source": [
    "# standardize the data (see above)\n",
    "data = standardize(data)\n",
    "data.shape"
   ]
  },
  {
   "cell_type": "code",
   "execution_count": 113,
   "metadata": {},
   "outputs": [
    {
     "data": {
      "text/plain": [
       "(136, 96, 683, 1)"
      ]
     },
     "execution_count": 113,
     "metadata": {},
     "output_type": "execute_result"
    }
   ],
   "source": [
    "# add color channel (see above)\n",
    "data = add_channel(data, n_channels=1)\n",
    "data.shape"
   ]
  },
  {
   "cell_type": "code",
   "execution_count": 114,
   "metadata": {},
   "outputs": [
    {
     "data": {
      "text/plain": [
       "(96, 683, 1)"
      ]
     },
     "execution_count": 114,
     "metadata": {},
     "output_type": "execute_result"
    }
   ],
   "source": [
    "# input_shape: we store the new shape of the images in the 'input_shape' variable.\n",
    "# take all dimensions except the 0th one (which is the number of files)\n",
    "input_shape = data.shape[1:]  \n",
    "input_shape"
   ]
  },
  {
   "cell_type": "markdown",
   "metadata": {},
   "source": [
    "### Train & Test Set Split\n",
    "\n",
    "We split the original full data set into two parts: Train Set (75%) and Test Set (25%)."
   ]
  },
  {
   "cell_type": "markdown",
   "metadata": {},
   "source": [
    "### Change: We cannot use Stratified Split here as it does not make sense for a MULTI-LABEL TASK!"
   ]
  },
  {
   "cell_type": "code",
   "execution_count": 115,
   "metadata": {
    "collapsed": true
   },
   "outputs": [],
   "source": [
    "# use ShuffleSplit INSTEAD OF StratifiedShuffleSplit \n",
    "\n",
    "splitter = ShuffleSplit(n_splits=1, test_size=testset_size, random_state=0)\n",
    "splits = splitter.split(data, classes)\n",
    "\n",
    "for train_index, test_index in splits:\n",
    "    train_set = data[train_index]\n",
    "    test_set = data[test_index]\n",
    "    train_classes = classes[train_index]\n",
    "    test_classes = classes[test_index]\n",
    "# Note: this for loop is only executed once if n_splits==1"
   ]
  },
  {
   "cell_type": "code",
   "execution_count": 116,
   "metadata": {},
   "outputs": [
    {
     "name": "stdout",
     "output_type": "stream",
     "text": [
      "(102, 96, 683, 1)\n",
      "(34, 96, 683, 1)\n"
     ]
    }
   ],
   "source": [
    "print(train_set.shape)\n",
    "print(test_set.shape)"
   ]
  },
  {
   "cell_type": "markdown",
   "metadata": {},
   "source": [
    "## Model and Training Parameters\n",
    "\n",
    "we use the same model as for Instrumental vs. Vocal and Genres above\n",
    "\n",
    "with a few changes in the Training parameters"
   ]
  },
  {
   "cell_type": "markdown",
   "metadata": {},
   "source": [
    "### Change #1: Loss"
   ]
  },
  {
   "cell_type": "code",
   "execution_count": 117,
   "metadata": {
    "collapsed": true
   },
   "outputs": [],
   "source": [
    "# the loss for a MULTI label classification task is BINARY crossentropy\n",
    "loss = 'binary_crossentropy' "
   ]
  },
  {
   "cell_type": "markdown",
   "metadata": {},
   "source": [
    "### Change #2: Output units and activation"
   ]
  },
  {
   "cell_type": "code",
   "execution_count": 118,
   "metadata": {
    "collapsed": true
   },
   "outputs": [],
   "source": [
    "# how many output units\n",
    "# IN A SINGLE-LABEL MULTI-CLASS or MULTI-LABEL TASK with N classes, we need N output units\n",
    "\n",
    "output_shape = n_genres\n",
    "\n",
    "# which activation function to use for OUTPUT layer\n",
    "# IN A MULTI-LABEL TASK with N classes we use SIGMOID activation same as with a BINARY task\n",
    "# as EACH of the classes can be 0 or 1 \n",
    "\n",
    "output_activation = 'sigmoid'"
   ]
  },
  {
   "cell_type": "markdown",
   "metadata": {},
   "source": [
    "### TensorBoard setup"
   ]
  },
  {
   "cell_type": "code",
   "execution_count": 119,
   "metadata": {
    "collapsed": true
   },
   "outputs": [],
   "source": [
    "experiment_name = \"moods\"\n",
    "\n",
    "tb_logdir_cur = os.path.join(TB_LOGDIR, experiment_name)\n",
    "\n",
    "# initialize TensorBoard in Python\n",
    "tensorboard = TensorBoard(log_dir = tb_logdir_cur)\n",
    "\n",
    "# + add to callbacks\n",
    "callbacks = [tensorboard]"
   ]
  },
  {
   "cell_type": "markdown",
   "metadata": {},
   "source": [
    "### Rest of Parameters\n",
    "\n",
    "stay essentially the same (or similar)"
   ]
  },
  {
   "cell_type": "code",
   "execution_count": 120,
   "metadata": {
    "collapsed": true
   },
   "outputs": [],
   "source": [
    "# Optimizer\n",
    "optimizer = adam\n",
    "\n",
    "batch_size = 32 \n",
    "\n",
    "epochs = 30\n",
    "\n",
    "validation_split=0.1 \n",
    "\n",
    "random_seed = 0"
   ]
  },
  {
   "cell_type": "markdown",
   "metadata": {},
   "source": [
    "## Training"
   ]
  },
  {
   "cell_type": "code",
   "execution_count": 121,
   "metadata": {},
   "outputs": [
    {
     "name": "stdout",
     "output_type": "stream",
     "text": [
      "binary_crossentropy\n",
      "<keras.optimizers.Adam object at 0x7f6850fa47b8>\n",
      "['accuracy', <function precision at 0x7f68f5674598>, <function recall at 0x7f68f5674510>]\n",
      "Batch size: 32 Epochs: 30\n"
     ]
    }
   ],
   "source": [
    "# Summary of Training options\n",
    "\n",
    "print(loss)\n",
    "print(optimizer)\n",
    "print(metrics)\n",
    "print(\"Batch size:\", batch_size, \"Epochs:\", epochs)"
   ]
  },
  {
   "cell_type": "code",
   "execution_count": 122,
   "metadata": {
    "collapsed": true
   },
   "outputs": [],
   "source": [
    "# COMPILE MODEL\n",
    "\n",
    "model.compile(loss=loss, metrics=metrics, optimizer=optimizer)"
   ]
  },
  {
   "cell_type": "code",
   "execution_count": 123,
   "metadata": {
    "collapsed": true
   },
   "outputs": [],
   "source": [
    "# past_epochs is only for the case that we execute the next code box multiple times (so that Tensorboard is displaying properly)\n",
    "past_epochs = 0"
   ]
  },
  {
   "cell_type": "code",
   "execution_count": 124,
   "metadata": {},
   "outputs": [
    {
     "name": "stdout",
     "output_type": "stream",
     "text": [
      "Train on 91 samples, validate on 11 samples\n",
      "Epoch 1/30\n",
      "91/91 [==============================] - 1s 12ms/step - loss: 2.0927 - acc: 0.6440 - precision: 0.0971 - recall: 0.0853 - val_loss: 1.1225 - val_acc: 0.6545 - val_precision: 0.2000 - val_recall: 0.1538\n",
      "Epoch 2/30\n",
      "91/91 [==============================] - 0s 4ms/step - loss: 0.5421 - acc: 0.8484 - precision: 0.6575 - recall: 0.5679 - val_loss: 0.9694 - val_acc: 0.8182 - val_precision: 0.6364 - val_recall: 0.5385\n",
      "Epoch 3/30\n",
      "91/91 [==============================] - 0s 4ms/step - loss: 0.2840 - acc: 0.9099 - precision: 0.8067 - recall: 0.7472 - val_loss: 0.9009 - val_acc: 0.8909 - val_precision: 0.8182 - val_recall: 0.6923\n",
      "Epoch 4/30\n",
      "91/91 [==============================] - 0s 4ms/step - loss: 0.2486 - acc: 0.9143 - precision: 0.8608 - recall: 0.7062 - val_loss: 1.4116 - val_acc: 0.8909 - val_precision: 0.8182 - val_recall: 0.6923\n",
      "Epoch 5/30\n",
      "91/91 [==============================] - 0s 4ms/step - loss: 0.2009 - acc: 0.9253 - precision: 0.8959 - recall: 0.7265 - val_loss: 1.7028 - val_acc: 0.8909 - val_precision: 0.8182 - val_recall: 0.6923\n",
      "Epoch 6/30\n",
      "91/91 [==============================] - 0s 4ms/step - loss: 0.1820 - acc: 0.9341 - precision: 0.9111 - recall: 0.7587 - val_loss: 1.5615 - val_acc: 0.8909 - val_precision: 0.8182 - val_recall: 0.6923\n",
      "Epoch 7/30\n",
      "91/91 [==============================] - 0s 4ms/step - loss: 0.1868 - acc: 0.9253 - precision: 0.8776 - recall: 0.7481 - val_loss: 1.1974 - val_acc: 0.8909 - val_precision: 0.8182 - val_recall: 0.6923\n",
      "Epoch 8/30\n",
      "91/91 [==============================] - 0s 4ms/step - loss: 0.1912 - acc: 0.9253 - precision: 0.8773 - recall: 0.7469 - val_loss: 1.0382 - val_acc: 0.8909 - val_precision: 0.8182 - val_recall: 0.6923\n",
      "Epoch 9/30\n",
      "91/91 [==============================] - 0s 4ms/step - loss: 0.1522 - acc: 0.9451 - precision: 0.9498 - recall: 0.7788 - val_loss: 1.2039 - val_acc: 0.8909 - val_precision: 0.8182 - val_recall: 0.6923\n",
      "Epoch 10/30\n",
      "91/91 [==============================] - 0s 4ms/step - loss: 0.1543 - acc: 0.9451 - precision: 0.9622 - recall: 0.7689 - val_loss: 1.4260 - val_acc: 0.8909 - val_precision: 0.8182 - val_recall: 0.6923\n",
      "Epoch 11/30\n",
      "91/91 [==============================] - 0s 4ms/step - loss: 0.1588 - acc: 0.9538 - precision: 0.9512 - recall: 0.8216 - val_loss: 1.3724 - val_acc: 0.8909 - val_precision: 0.8182 - val_recall: 0.6923\n",
      "Epoch 12/30\n",
      "91/91 [==============================] - 0s 4ms/step - loss: 0.1151 - acc: 0.9582 - precision: 0.9402 - recall: 0.8525 - val_loss: 1.2475 - val_acc: 0.8909 - val_precision: 0.8182 - val_recall: 0.6923\n",
      "Epoch 13/30\n",
      "91/91 [==============================] - 0s 4ms/step - loss: 0.1112 - acc: 0.9626 - precision: 0.9643 - recall: 0.8538 - val_loss: 1.0321 - val_acc: 0.8909 - val_precision: 0.8182 - val_recall: 0.6923\n",
      "Epoch 14/30\n",
      "91/91 [==============================] - 0s 4ms/step - loss: 0.1139 - acc: 0.9648 - precision: 0.9436 - recall: 0.8851 - val_loss: 1.0597 - val_acc: 0.8909 - val_precision: 0.8182 - val_recall: 0.6923\n",
      "Epoch 15/30\n",
      "91/91 [==============================] - 0s 4ms/step - loss: 0.0886 - acc: 0.9714 - precision: 0.9769 - recall: 0.8842 - val_loss: 1.1323 - val_acc: 0.8909 - val_precision: 0.8182 - val_recall: 0.6923\n",
      "Epoch 16/30\n",
      "91/91 [==============================] - 0s 4ms/step - loss: 0.0952 - acc: 0.9714 - precision: 0.9652 - recall: 0.8948 - val_loss: 1.1684 - val_acc: 0.8909 - val_precision: 0.8182 - val_recall: 0.6923\n",
      "Epoch 17/30\n",
      "91/91 [==============================] - 0s 4ms/step - loss: 0.0831 - acc: 0.9758 - precision: 0.9890 - recall: 0.8951 - val_loss: 1.1055 - val_acc: 0.8909 - val_precision: 0.8182 - val_recall: 0.6923\n",
      "Epoch 18/30\n",
      "91/91 [==============================] - 0s 4ms/step - loss: 0.1153 - acc: 0.9604 - precision: 0.9320 - recall: 0.8735 - val_loss: 0.9802 - val_acc: 0.8909 - val_precision: 0.8182 - val_recall: 0.6923\n",
      "Epoch 19/30\n",
      "91/91 [==============================] - 0s 4ms/step - loss: 0.0939 - acc: 0.9670 - precision: 0.9762 - recall: 0.8632 - val_loss: 0.9484 - val_acc: 0.8909 - val_precision: 0.8182 - val_recall: 0.6923\n",
      "Epoch 20/30\n",
      "91/91 [==============================] - 0s 4ms/step - loss: 0.1164 - acc: 0.9560 - precision: 0.9314 - recall: 0.8532 - val_loss: 0.9495 - val_acc: 0.8909 - val_precision: 0.8182 - val_recall: 0.6923\n",
      "Epoch 21/30\n",
      "91/91 [==============================] - 0s 4ms/step - loss: 0.0665 - acc: 0.9780 - precision: 0.9772 - recall: 0.9156 - val_loss: 0.7747 - val_acc: 0.8909 - val_precision: 0.8182 - val_recall: 0.6923\n",
      "Epoch 22/30\n",
      "91/91 [==============================] - 0s 4ms/step - loss: 0.0604 - acc: 0.9846 - precision: 1.0000 - recall: 0.9268 - val_loss: 0.6357 - val_acc: 0.8909 - val_precision: 0.8182 - val_recall: 0.6923\n",
      "Epoch 23/30\n",
      "91/91 [==============================] - 0s 4ms/step - loss: 0.0462 - acc: 0.9890 - precision: 1.0000 - recall: 0.9492 - val_loss: 0.5959 - val_acc: 0.8909 - val_precision: 0.8182 - val_recall: 0.6923\n",
      "Epoch 24/30\n",
      "91/91 [==============================] - 0s 4ms/step - loss: 0.0582 - acc: 0.9802 - precision: 0.9887 - recall: 0.9158 - val_loss: 0.6308 - val_acc: 0.8909 - val_precision: 0.8182 - val_recall: 0.6923\n",
      "Epoch 25/30\n",
      "91/91 [==============================] - 0s 4ms/step - loss: 0.0451 - acc: 0.9868 - precision: 1.0000 - recall: 0.9368 - val_loss: 0.6752 - val_acc: 0.8909 - val_precision: 0.8182 - val_recall: 0.6923\n",
      "Epoch 26/30\n",
      "91/91 [==============================] - 0s 4ms/step - loss: 0.0387 - acc: 0.9890 - precision: 1.0000 - recall: 0.9483 - val_loss: 0.6495 - val_acc: 0.8909 - val_precision: 0.8182 - val_recall: 0.6923\n",
      "Epoch 27/30\n",
      "91/91 [==============================] - 0s 4ms/step - loss: 0.0492 - acc: 0.9824 - precision: 0.9890 - recall: 0.9267 - val_loss: 0.5968 - val_acc: 0.8909 - val_precision: 0.8182 - val_recall: 0.6923\n",
      "Epoch 28/30\n",
      "91/91 [==============================] - 0s 4ms/step - loss: 0.0327 - acc: 0.9890 - precision: 1.0000 - recall: 0.9512 - val_loss: 0.5161 - val_acc: 0.8909 - val_precision: 0.8182 - val_recall: 0.6923\n",
      "Epoch 29/30\n",
      "91/91 [==============================] - 0s 4ms/step - loss: 0.0425 - acc: 0.9890 - precision: 1.0000 - recall: 0.9480 - val_loss: 0.5161 - val_acc: 0.8909 - val_precision: 0.8182 - val_recall: 0.6923\n",
      "Epoch 30/30\n",
      "91/91 [==============================] - 0s 4ms/step - loss: 0.0437 - acc: 0.9824 - precision: 0.9887 - recall: 0.9279 - val_loss: 0.5373 - val_acc: 0.8909 - val_precision: 0.8182 - val_recall: 0.6923\n"
     ]
    }
   ],
   "source": [
    "# START TRAINING\n",
    "\n",
    "history = model.fit(train_set, train_classes, \n",
    "                     validation_split=validation_split,\n",
    "                     #validation_data=(X_test,y_test), \n",
    "                     epochs=epochs, \n",
    "                     initial_epoch=past_epochs,\n",
    "                     batch_size=batch_size, \n",
    "                     callbacks=callbacks\n",
    "                     )\n",
    "\n",
    "past_epochs += epochs"
   ]
  },
  {
   "cell_type": "markdown",
   "metadata": {},
   "source": [
    "### Verifying Accuracy on Test Set"
   ]
  },
  {
   "cell_type": "code",
   "execution_count": 125,
   "metadata": {
    "scrolled": true
   },
   "outputs": [
    {
     "data": {
      "text/plain": [
       "array([[7.5280885e-03, 4.4500372e-01, 1.7079780e-02, 4.9981843e-03,\n",
       "        5.2539021e-01],\n",
       "       [4.5398569e-06, 9.9443001e-01, 9.7266812e-04, 3.2460450e-03,\n",
       "        1.3468076e-03],\n",
       "       [8.9994806e-08, 9.7452253e-01, 4.4043329e-05, 1.3854733e-02,\n",
       "        1.1578686e-02],\n",
       "       [1.3572507e-07, 9.9890471e-01, 2.4608391e-05, 8.1000332e-04,\n",
       "        2.6058347e-04],\n",
       "       [3.9400297e-07, 9.9744248e-01, 3.6083722e-05, 1.9670506e-04,\n",
       "        2.3243695e-03],\n",
       "       [6.9213549e-08, 9.9819309e-01, 1.6649756e-05, 1.1169816e-03,\n",
       "        6.7316071e-04],\n",
       "       [1.0938060e-06, 9.9205339e-01, 1.4200664e-05, 7.5426246e-03,\n",
       "        3.8871693e-04],\n",
       "       [1.0661203e-06, 9.9406260e-01, 2.3826586e-04, 1.1620361e-03,\n",
       "        4.5359670e-03],\n",
       "       [2.2570396e-07, 9.9854505e-01, 7.3469142e-05, 2.3026942e-04,\n",
       "        1.1510079e-03],\n",
       "       [9.9998927e-01, 6.3664550e-07, 6.9976963e-06, 2.9439143e-06,\n",
       "        2.1522482e-07]], dtype=float32)"
      ]
     },
     "execution_count": 125,
     "metadata": {},
     "output_type": "execute_result"
    }
   ],
   "source": [
    "# compute probabilities for the classes (= get outputs of output layer)\n",
    "test_pred_prob = model.predict(test_set)\n",
    "test_pred_prob[0:10]"
   ]
  },
  {
   "cell_type": "code",
   "execution_count": 126,
   "metadata": {},
   "outputs": [
    {
     "data": {
      "text/plain": [
       "array([[0., 0., 0., 0., 1.],\n",
       "       [0., 1., 0., 0., 0.],\n",
       "       [0., 1., 0., 0., 0.],\n",
       "       [0., 1., 0., 0., 0.],\n",
       "       [0., 1., 0., 0., 0.],\n",
       "       [0., 1., 0., 0., 0.],\n",
       "       [0., 1., 0., 0., 0.],\n",
       "       [0., 1., 0., 0., 0.],\n",
       "       [0., 1., 0., 0., 0.],\n",
       "       [1., 0., 0., 0., 0.]], dtype=float32)"
      ]
     },
     "execution_count": 126,
     "metadata": {},
     "output_type": "execute_result"
    }
   ],
   "source": [
    "# to get the predicted class we have to round 0 < 0.5 > 1\n",
    "test_pred = np.round(test_pred_prob)\n",
    "test_pred[0:10]"
   ]
  },
  {
   "cell_type": "code",
   "execution_count": 127,
   "metadata": {},
   "outputs": [
    {
     "data": {
      "text/plain": [
       "array([[0, 1, 0, 0, 0],\n",
       "       [0, 1, 0, 0, 0],\n",
       "       [0, 1, 0, 0, 0],\n",
       "       [0, 1, 0, 0, 0],\n",
       "       [0, 1, 0, 0, 0],\n",
       "       [0, 1, 0, 0, 0],\n",
       "       [0, 1, 0, 0, 0],\n",
       "       [0, 0, 1, 0, 0],\n",
       "       [0, 0, 0, 1, 0],\n",
       "       [0, 1, 0, 0, 0]])"
      ]
     },
     "execution_count": 127,
     "metadata": {},
     "output_type": "execute_result"
    }
   ],
   "source": [
    "test_classes[0:10]"
   ]
  },
  {
   "cell_type": "code",
   "execution_count": 128,
   "metadata": {},
   "outputs": [
    {
     "data": {
      "text/plain": [
       "0.6764705882352942"
      ]
     },
     "execution_count": 128,
     "metadata": {},
     "output_type": "execute_result"
    }
   ],
   "source": [
    "# get final Accuracy\n",
    "accuracy_score(test_classes, test_pred)"
   ]
  }
 ],
 "metadata": {
  "kernelspec": {
   "display_name": "Python [conda env:py36]",
   "language": "python",
   "name": "conda-env-py36-py"
  },
  "language_info": {
   "codemirror_mode": {
    "name": "ipython",
    "version": 3
   },
   "file_extension": ".py",
   "mimetype": "text/x-python",
   "name": "python",
   "nbconvert_exporter": "python",
   "pygments_lexer": "ipython3",
   "version": "3.6.3"
  }
 },
 "nbformat": 4,
 "nbformat_minor": 1
}
